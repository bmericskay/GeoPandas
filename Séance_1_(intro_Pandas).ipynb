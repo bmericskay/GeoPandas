{
  "nbformat": 4,
  "nbformat_minor": 0,
  "metadata": {
    "colab": {
      "name": "Séance 1 (intro Pandas)",
      "provenance": [],
      "collapsed_sections": [
        "qwEV86OEucUV",
        "EQkbWTkMaiFI"
      ],
      "authorship_tag": "ABX9TyPYw6WdewwxiSy6OWTpFzlw",
      "include_colab_link": true
    },
    "kernelspec": {
      "name": "python3",
      "display_name": "Python 3"
    }
  },
  "cells": [
    {
      "cell_type": "markdown",
      "metadata": {
        "id": "view-in-github",
        "colab_type": "text"
      },
      "source": [
        "<a href=\"https://colab.research.google.com/github/mastersigat/GeoPandas/blob/main/S%C3%A9ance_1_(intro_Pandas).ipynb\" target=\"_parent\"><img src=\"https://colab.research.google.com/assets/colab-badge.svg\" alt=\"Open In Colab\"/></a>"
      ]
    },
    {
      "cell_type": "markdown",
      "metadata": {
        "id": "PDNscZUy5ZVP"
      },
      "source": [
        "# Séance 1 / Introduction à pandas"
      ]
    },
    {
      "cell_type": "markdown",
      "metadata": {
        "id": "8PNwl1fDjWRU"
      },
      "source": [
        "## Configuration de l'environnement de travail\r\n",
        "\r\n",
        "https://colab.research.google.com/notebooks/intro.ipynb\r\n",
        "\r\n",
        "\r\n"
      ]
    },
    {
      "cell_type": "code",
      "metadata": {
        "id": "U_wo94BSjWRy"
      },
      "source": [
        "#Initialisation de l'environnement avec geopandas\r\n",
        "!apt update\r\n",
        "!apt install gdal-bin python-gdal python3-gdal \r\n",
        "# Install rtree - Geopandas requirment\r\n",
        "!apt install python3-rtree \r\n",
        "# Install Geopandas\r\n",
        "!pip install git+git://github.com/geopandas/geopandas.git\r\n",
        "# Instal contextily\r\n",
        "!pip install contextily\r\n",
        "#Depuis sa version 0.8, Geopandas peut fonctionner de manière expérimental avec Pygeos ce qui accèlère certaines opérations\r\n",
        "!pip install pygeos\r\n"
      ],
      "execution_count": null,
      "outputs": []
    },
    {
      "cell_type": "code",
      "metadata": {
        "id": "pyScSRHsjWR7"
      },
      "source": [
        "#Importation des librairies nécessaires\r\n",
        "import pandas as pd #Gestion de données\r\n",
        "import matplotlib.pyplot as plt #Visualisation de données\r\n",
        "import geopandas as gpd #Gestion données sptiales\r\n",
        "import contextily as ctx #Fond de carte\r\n",
        "import os\r\n",
        "import numpy as np\r\n",
        "import shapely"
      ],
      "execution_count": null,
      "outputs": []
    },
    {
      "cell_type": "markdown",
      "metadata": {
        "id": "x_ttJ_XU43Za"
      },
      "source": [
        "## Téléchargement des données"
      ]
    },
    {
      "cell_type": "code",
      "metadata": {
        "id": "z9Nb8AAXjWSC"
      },
      "source": [
        "#Téléchargement des datas depuis le site opendata de Paris\r\n",
        "!wget -O Espacesverts.csv https://opendata.paris.fr/explore/dataset/espaces_verts/download/?format=csv&timezone=Europe/Berlin&lang=fr&use_labels_for_header=true&csv_separator=%3B"
      ],
      "execution_count": null,
      "outputs": []
    },
    {
      "cell_type": "code",
      "metadata": {
        "id": "Z1PYkjQ0y-Eo"
      },
      "source": [
        "#Téléchargement des datas depuis le site opendata de Paris\r\n",
        "!wget -O Espacesverts.csv https://opendata.paris.fr/explore/dataset/espaces_verts/download/?format=csv&timezone=Europe/Berlin&lang=fr&use_labels_for_header=true&csv_separator=%3B"
      ],
      "execution_count": null,
      "outputs": []
    },
    {
      "cell_type": "markdown",
      "metadata": {
        "id": "JW5VMs5IaZR9"
      },
      "source": [
        "## Exploration du jeux de données des espaces verts\r\n"
      ]
    },
    {
      "cell_type": "code",
      "metadata": {
        "colab": {
          "base_uri": "https://localhost:8080/",
          "height": 521
        },
        "id": "pDPmszCQQaM8",
        "outputId": "8fd71038-7727-4502-e092-3fb2d8727e84"
      },
      "source": [
        "#Importer CSV to dataframe\r\n",
        "\r\n",
        "Espacesverts = pd.read_csv(\"Espacesverts.csv\", sep=';')\r\n",
        "Espacesverts.head()"
      ],
      "execution_count": 5,
      "outputs": [
        {
          "output_type": "execute_result",
          "data": {
            "text/html": [
              "<div>\n",
              "<style scoped>\n",
              "    .dataframe tbody tr th:only-of-type {\n",
              "        vertical-align: middle;\n",
              "    }\n",
              "\n",
              "    .dataframe tbody tr th {\n",
              "        vertical-align: top;\n",
              "    }\n",
              "\n",
              "    .dataframe thead th {\n",
              "        text-align: right;\n",
              "    }\n",
              "</style>\n",
              "<table border=\"1\" class=\"dataframe\">\n",
              "  <thead>\n",
              "    <tr style=\"text-align: right;\">\n",
              "      <th></th>\n",
              "      <th>nsq_espace_vert</th>\n",
              "      <th>nom_ev</th>\n",
              "      <th>type_ev</th>\n",
              "      <th>categorie</th>\n",
              "      <th>adresse_numero</th>\n",
              "      <th>adresse_complement</th>\n",
              "      <th>adresse_typevoie</th>\n",
              "      <th>adresse_libellevoie</th>\n",
              "      <th>adresse_codepostal</th>\n",
              "      <th>poly_area</th>\n",
              "      <th>surface_totale_reelle</th>\n",
              "      <th>surface_horticole</th>\n",
              "      <th>presence_cloture</th>\n",
              "      <th>perimeter</th>\n",
              "      <th>annee_ouverture</th>\n",
              "      <th>annee_renovation</th>\n",
              "      <th>ancien_nom_ev</th>\n",
              "      <th>annee_changement_nom</th>\n",
              "      <th>nb_entites</th>\n",
              "      <th>ouvert_ferme</th>\n",
              "      <th>id_division</th>\n",
              "      <th>id_atelier_horticole</th>\n",
              "      <th>ida3d_enb</th>\n",
              "      <th>site_villes</th>\n",
              "      <th>id_eqpt</th>\n",
              "      <th>competence</th>\n",
              "      <th>geom</th>\n",
              "      <th>url_plan</th>\n",
              "      <th>geom_x_y</th>\n",
              "    </tr>\n",
              "  </thead>\n",
              "  <tbody>\n",
              "    <tr>\n",
              "      <th>0</th>\n",
              "      <td>103.0</td>\n",
              "      <td>JARDIN DES ABORDS DU PETIT PALAIS</td>\n",
              "      <td>Promenades ouvertes</td>\n",
              "      <td>Jardin</td>\n",
              "      <td>14.0</td>\n",
              "      <td>NaN</td>\n",
              "      <td>COURS LA</td>\n",
              "      <td>REINE</td>\n",
              "      <td>75008</td>\n",
              "      <td>6489.0</td>\n",
              "      <td>1280.0</td>\n",
              "      <td>6599.0</td>\n",
              "      <td>Non</td>\n",
              "      <td>446.520694</td>\n",
              "      <td>2006.0</td>\n",
              "      <td>NaN</td>\n",
              "      <td>NaN</td>\n",
              "      <td>NaN</td>\n",
              "      <td>1.0</td>\n",
              "      <td>Oui</td>\n",
              "      <td>104</td>\n",
              "      <td>9.0</td>\n",
              "      <td>46198</td>\n",
              "      <td>3746</td>\n",
              "      <td>4981</td>\n",
              "      <td>CP</td>\n",
              "      <td>{\"type\": \"Polygon\", \"coordinates\": [[[2.314412...</td>\n",
              "      <td>http://p70-planet.apps.paris.mdp/Advitium/Appe...</td>\n",
              "      <td>NaN</td>\n",
              "    </tr>\n",
              "    <tr>\n",
              "      <th>1</th>\n",
              "      <td>30.0</td>\n",
              "      <td>JARDIN DU PASSAGE DE L'HOTEL DE SENS</td>\n",
              "      <td>Promenades ouvertes</td>\n",
              "      <td>Jardin</td>\n",
              "      <td>8.0</td>\n",
              "      <td>NaN</td>\n",
              "      <td>RUE DES</td>\n",
              "      <td>NONNAINS D HYERES</td>\n",
              "      <td>75004</td>\n",
              "      <td>645.0</td>\n",
              "      <td>620.0</td>\n",
              "      <td>337.0</td>\n",
              "      <td>Oui</td>\n",
              "      <td>149.442539</td>\n",
              "      <td>1957.0</td>\n",
              "      <td>NaN</td>\n",
              "      <td>NaN</td>\n",
              "      <td>NaN</td>\n",
              "      <td>1.0</td>\n",
              "      <td>Non</td>\n",
              "      <td>101</td>\n",
              "      <td>3.0</td>\n",
              "      <td>43320</td>\n",
              "      <td>3369</td>\n",
              "      <td>3394</td>\n",
              "      <td>CA</td>\n",
              "      <td>{\"type\": \"Polygon\", \"coordinates\": [[[2.358755...</td>\n",
              "      <td>http://p70-planet.apps.paris.mdp/Advitium/Appe...</td>\n",
              "      <td>NaN</td>\n",
              "    </tr>\n",
              "    <tr>\n",
              "      <th>2</th>\n",
              "      <td>827.0</td>\n",
              "      <td>SQUARE RESTIF DE LA BRETONNE</td>\n",
              "      <td>Promenades ouvertes</td>\n",
              "      <td>Square</td>\n",
              "      <td>2.0</td>\n",
              "      <td>NaN</td>\n",
              "      <td>RUE DE LA</td>\n",
              "      <td>BUCHERIE</td>\n",
              "      <td>75005</td>\n",
              "      <td>53.0</td>\n",
              "      <td>43.0</td>\n",
              "      <td>43.0</td>\n",
              "      <td>Oui</td>\n",
              "      <td>37.715443</td>\n",
              "      <td>2000.0</td>\n",
              "      <td>NaN</td>\n",
              "      <td>NaN</td>\n",
              "      <td>NaN</td>\n",
              "      <td>1.0</td>\n",
              "      <td>Non</td>\n",
              "      <td>113</td>\n",
              "      <td>4.0</td>\n",
              "      <td>43795</td>\n",
              "      <td>369</td>\n",
              "      <td>3676</td>\n",
              "      <td>CA</td>\n",
              "      <td>{\"type\": \"Polygon\", \"coordinates\": [[[2.349180...</td>\n",
              "      <td>http://p70-planet.apps.paris.mdp/Advitium/Appe...</td>\n",
              "      <td>NaN</td>\n",
              "    </tr>\n",
              "    <tr>\n",
              "      <th>3</th>\n",
              "      <td>190.0</td>\n",
              "      <td>SQUARE PHILIPPE FARINE</td>\n",
              "      <td>Promenades ouvertes</td>\n",
              "      <td>Square</td>\n",
              "      <td>12.0</td>\n",
              "      <td>BIS</td>\n",
              "      <td>PASSAGE</td>\n",
              "      <td>GATBOIS</td>\n",
              "      <td>75012</td>\n",
              "      <td>1313.0</td>\n",
              "      <td>1310.0</td>\n",
              "      <td>510.0</td>\n",
              "      <td>Oui</td>\n",
              "      <td>189.327487</td>\n",
              "      <td>1997.0</td>\n",
              "      <td>2010.0</td>\n",
              "      <td>SQUARE DU MAIL GATBOIS</td>\n",
              "      <td>2013.0</td>\n",
              "      <td>1.0</td>\n",
              "      <td>Non</td>\n",
              "      <td>111</td>\n",
              "      <td>15.0</td>\n",
              "      <td>50721</td>\n",
              "      <td>4685</td>\n",
              "      <td>3596</td>\n",
              "      <td>CA</td>\n",
              "      <td>{\"type\": \"Polygon\", \"coordinates\": [[[2.379536...</td>\n",
              "      <td>http://p70-planet.apps.paris.mdp/Advitium/Appe...</td>\n",
              "      <td>NaN</td>\n",
              "    </tr>\n",
              "    <tr>\n",
              "      <th>4</th>\n",
              "      <td>302.0</td>\n",
              "      <td>JARDIN DU CLOITRE</td>\n",
              "      <td>Promenades ouvertes</td>\n",
              "      <td>Jardin</td>\n",
              "      <td>30.0</td>\n",
              "      <td>NaN</td>\n",
              "      <td>RUE</td>\n",
              "      <td>GUILLEMINOT</td>\n",
              "      <td>75014</td>\n",
              "      <td>1622.0</td>\n",
              "      <td>1650.0</td>\n",
              "      <td>78.0</td>\n",
              "      <td>Non</td>\n",
              "      <td>216.319170</td>\n",
              "      <td>1987.0</td>\n",
              "      <td>NaN</td>\n",
              "      <td>NaN</td>\n",
              "      <td>NaN</td>\n",
              "      <td>1.0</td>\n",
              "      <td>Oui</td>\n",
              "      <td>114</td>\n",
              "      <td>22.0</td>\n",
              "      <td>55529</td>\n",
              "      <td>1484</td>\n",
              "      <td>3385</td>\n",
              "      <td>CA</td>\n",
              "      <td>{\"type\": \"Polygon\", \"coordinates\": [[[2.317526...</td>\n",
              "      <td>http://p70-planet.apps.paris.mdp/Advitium/Appe...</td>\n",
              "      <td>NaN</td>\n",
              "    </tr>\n",
              "  </tbody>\n",
              "</table>\n",
              "</div>"
            ],
            "text/plain": [
              "   nsq_espace_vert  ... geom_x_y\n",
              "0            103.0  ...      NaN\n",
              "1             30.0  ...      NaN\n",
              "2            827.0  ...      NaN\n",
              "3            190.0  ...      NaN\n",
              "4            302.0  ...      NaN\n",
              "\n",
              "[5 rows x 29 columns]"
            ]
          },
          "metadata": {
            "tags": []
          },
          "execution_count": 5
        }
      ]
    },
    {
      "cell_type": "code",
      "metadata": {
        "colab": {
          "base_uri": "https://localhost:8080/"
        },
        "id": "Ou0N8YQ63Mb_",
        "outputId": "350a5201-9fff-481d-e081-c709db460ec2"
      },
      "source": [
        "#Checker les types de champs\r\n",
        "\r\n",
        "Espacesverts.dtypes"
      ],
      "execution_count": 6,
      "outputs": [
        {
          "output_type": "execute_result",
          "data": {
            "text/plain": [
              "nsq_espace_vert          float64\n",
              "nom_ev                    object\n",
              "type_ev                   object\n",
              "categorie                 object\n",
              "adresse_numero           float64\n",
              "adresse_complement        object\n",
              "adresse_typevoie          object\n",
              "adresse_libellevoie       object\n",
              "adresse_codepostal         int64\n",
              "poly_area                float64\n",
              "surface_totale_reelle    float64\n",
              "surface_horticole        float64\n",
              "presence_cloture          object\n",
              "perimeter                float64\n",
              "annee_ouverture          float64\n",
              "annee_renovation         float64\n",
              "ancien_nom_ev             object\n",
              "annee_changement_nom     float64\n",
              "nb_entites               float64\n",
              "ouvert_ferme              object\n",
              "id_division                int64\n",
              "id_atelier_horticole     float64\n",
              "ida3d_enb                 object\n",
              "site_villes               object\n",
              "id_eqpt                   object\n",
              "competence                object\n",
              "geom                      object\n",
              "url_plan                  object\n",
              "geom_x_y                 float64\n",
              "dtype: object"
            ]
          },
          "metadata": {
            "tags": []
          },
          "execution_count": 6
        }
      ]
    },
    {
      "cell_type": "code",
      "metadata": {
        "colab": {
          "base_uri": "https://localhost:8080/"
        },
        "id": "4TtrUa8p0Mmi",
        "outputId": "3f867e15-c8d5-46a6-d967-ed19136fa3ff"
      },
      "source": [
        "#Compter le nombre d'enregistrements\r\n",
        "\r\n",
        "Espacesverts['nsq_espace_vert'].size"
      ],
      "execution_count": 7,
      "outputs": [
        {
          "output_type": "execute_result",
          "data": {
            "text/plain": [
              "2110"
            ]
          },
          "metadata": {
            "tags": []
          },
          "execution_count": 7
        }
      ]
    },
    {
      "cell_type": "code",
      "metadata": {
        "colab": {
          "base_uri": "https://localhost:8080/",
          "height": 206
        },
        "id": "R7H8Sb3h-RYt",
        "outputId": "958fd182-9d57-44fd-9667-f2c62ea61b02"
      },
      "source": [
        "#Réorganiser la table (sélection des colonnes importantes)\r\n",
        "\r\n",
        "EspacesvertsOk = Espacesverts[[\"nsq_espace_vert\", \"nom_ev\", \"categorie\", \"adresse_codepostal\", \"surface_totale_reelle\", \"annee_ouverture\"]]\r\n",
        "EspacesvertsOk.head()"
      ],
      "execution_count": 8,
      "outputs": [
        {
          "output_type": "execute_result",
          "data": {
            "text/html": [
              "<div>\n",
              "<style scoped>\n",
              "    .dataframe tbody tr th:only-of-type {\n",
              "        vertical-align: middle;\n",
              "    }\n",
              "\n",
              "    .dataframe tbody tr th {\n",
              "        vertical-align: top;\n",
              "    }\n",
              "\n",
              "    .dataframe thead th {\n",
              "        text-align: right;\n",
              "    }\n",
              "</style>\n",
              "<table border=\"1\" class=\"dataframe\">\n",
              "  <thead>\n",
              "    <tr style=\"text-align: right;\">\n",
              "      <th></th>\n",
              "      <th>nsq_espace_vert</th>\n",
              "      <th>nom_ev</th>\n",
              "      <th>categorie</th>\n",
              "      <th>adresse_codepostal</th>\n",
              "      <th>surface_totale_reelle</th>\n",
              "      <th>annee_ouverture</th>\n",
              "    </tr>\n",
              "  </thead>\n",
              "  <tbody>\n",
              "    <tr>\n",
              "      <th>0</th>\n",
              "      <td>103.0</td>\n",
              "      <td>JARDIN DES ABORDS DU PETIT PALAIS</td>\n",
              "      <td>Jardin</td>\n",
              "      <td>75008</td>\n",
              "      <td>1280.0</td>\n",
              "      <td>2006.0</td>\n",
              "    </tr>\n",
              "    <tr>\n",
              "      <th>1</th>\n",
              "      <td>30.0</td>\n",
              "      <td>JARDIN DU PASSAGE DE L'HOTEL DE SENS</td>\n",
              "      <td>Jardin</td>\n",
              "      <td>75004</td>\n",
              "      <td>620.0</td>\n",
              "      <td>1957.0</td>\n",
              "    </tr>\n",
              "    <tr>\n",
              "      <th>2</th>\n",
              "      <td>827.0</td>\n",
              "      <td>SQUARE RESTIF DE LA BRETONNE</td>\n",
              "      <td>Square</td>\n",
              "      <td>75005</td>\n",
              "      <td>43.0</td>\n",
              "      <td>2000.0</td>\n",
              "    </tr>\n",
              "    <tr>\n",
              "      <th>3</th>\n",
              "      <td>190.0</td>\n",
              "      <td>SQUARE PHILIPPE FARINE</td>\n",
              "      <td>Square</td>\n",
              "      <td>75012</td>\n",
              "      <td>1310.0</td>\n",
              "      <td>1997.0</td>\n",
              "    </tr>\n",
              "    <tr>\n",
              "      <th>4</th>\n",
              "      <td>302.0</td>\n",
              "      <td>JARDIN DU CLOITRE</td>\n",
              "      <td>Jardin</td>\n",
              "      <td>75014</td>\n",
              "      <td>1650.0</td>\n",
              "      <td>1987.0</td>\n",
              "    </tr>\n",
              "  </tbody>\n",
              "</table>\n",
              "</div>"
            ],
            "text/plain": [
              "   nsq_espace_vert  ... annee_ouverture\n",
              "0            103.0  ...          2006.0\n",
              "1             30.0  ...          1957.0\n",
              "2            827.0  ...          2000.0\n",
              "3            190.0  ...          1997.0\n",
              "4            302.0  ...          1987.0\n",
              "\n",
              "[5 rows x 6 columns]"
            ]
          },
          "metadata": {
            "tags": []
          },
          "execution_count": 8
        }
      ]
    },
    {
      "cell_type": "code",
      "metadata": {
        "colab": {
          "base_uri": "https://localhost:8080/",
          "height": 299
        },
        "id": "_NoQ9SqE8ano",
        "outputId": "2a494565-f7e3-42fc-ce43-05d0b94501bf"
      },
      "source": [
        "# Renommer les noms des champs\r\n",
        "\r\n",
        "EspacesvertsOk.rename(columns={'nsq_espace_vert': 'id','nom_ev': 'nom','adresse_codepostal': 'ardt', 'surface_totale_reelle' : 'surface', 'annee_ouverture': 'ouverture'}, inplace=True)\r\n",
        "EspacesvertsOk.head()"
      ],
      "execution_count": 9,
      "outputs": [
        {
          "output_type": "stream",
          "text": [
            "/usr/local/lib/python3.7/dist-packages/pandas/core/frame.py:4308: SettingWithCopyWarning: \n",
            "A value is trying to be set on a copy of a slice from a DataFrame\n",
            "\n",
            "See the caveats in the documentation: https://pandas.pydata.org/pandas-docs/stable/user_guide/indexing.html#returning-a-view-versus-a-copy\n",
            "  errors=errors,\n"
          ],
          "name": "stderr"
        },
        {
          "output_type": "execute_result",
          "data": {
            "text/html": [
              "<div>\n",
              "<style scoped>\n",
              "    .dataframe tbody tr th:only-of-type {\n",
              "        vertical-align: middle;\n",
              "    }\n",
              "\n",
              "    .dataframe tbody tr th {\n",
              "        vertical-align: top;\n",
              "    }\n",
              "\n",
              "    .dataframe thead th {\n",
              "        text-align: right;\n",
              "    }\n",
              "</style>\n",
              "<table border=\"1\" class=\"dataframe\">\n",
              "  <thead>\n",
              "    <tr style=\"text-align: right;\">\n",
              "      <th></th>\n",
              "      <th>id</th>\n",
              "      <th>nom</th>\n",
              "      <th>categorie</th>\n",
              "      <th>ardt</th>\n",
              "      <th>surface</th>\n",
              "      <th>ouverture</th>\n",
              "    </tr>\n",
              "  </thead>\n",
              "  <tbody>\n",
              "    <tr>\n",
              "      <th>0</th>\n",
              "      <td>103.0</td>\n",
              "      <td>JARDIN DES ABORDS DU PETIT PALAIS</td>\n",
              "      <td>Jardin</td>\n",
              "      <td>75008</td>\n",
              "      <td>1280.0</td>\n",
              "      <td>2006.0</td>\n",
              "    </tr>\n",
              "    <tr>\n",
              "      <th>1</th>\n",
              "      <td>30.0</td>\n",
              "      <td>JARDIN DU PASSAGE DE L'HOTEL DE SENS</td>\n",
              "      <td>Jardin</td>\n",
              "      <td>75004</td>\n",
              "      <td>620.0</td>\n",
              "      <td>1957.0</td>\n",
              "    </tr>\n",
              "    <tr>\n",
              "      <th>2</th>\n",
              "      <td>827.0</td>\n",
              "      <td>SQUARE RESTIF DE LA BRETONNE</td>\n",
              "      <td>Square</td>\n",
              "      <td>75005</td>\n",
              "      <td>43.0</td>\n",
              "      <td>2000.0</td>\n",
              "    </tr>\n",
              "    <tr>\n",
              "      <th>3</th>\n",
              "      <td>190.0</td>\n",
              "      <td>SQUARE PHILIPPE FARINE</td>\n",
              "      <td>Square</td>\n",
              "      <td>75012</td>\n",
              "      <td>1310.0</td>\n",
              "      <td>1997.0</td>\n",
              "    </tr>\n",
              "    <tr>\n",
              "      <th>4</th>\n",
              "      <td>302.0</td>\n",
              "      <td>JARDIN DU CLOITRE</td>\n",
              "      <td>Jardin</td>\n",
              "      <td>75014</td>\n",
              "      <td>1650.0</td>\n",
              "      <td>1987.0</td>\n",
              "    </tr>\n",
              "  </tbody>\n",
              "</table>\n",
              "</div>"
            ],
            "text/plain": [
              "      id                                   nom  ... surface  ouverture\n",
              "0  103.0     JARDIN DES ABORDS DU PETIT PALAIS  ...  1280.0     2006.0\n",
              "1   30.0  JARDIN DU PASSAGE DE L'HOTEL DE SENS  ...   620.0     1957.0\n",
              "2  827.0          SQUARE RESTIF DE LA BRETONNE  ...    43.0     2000.0\n",
              "3  190.0                SQUARE PHILIPPE FARINE  ...  1310.0     1997.0\n",
              "4  302.0                     JARDIN DU CLOITRE  ...  1650.0     1987.0\n",
              "\n",
              "[5 rows x 6 columns]"
            ]
          },
          "metadata": {
            "tags": []
          },
          "execution_count": 9
        }
      ]
    },
    {
      "cell_type": "code",
      "metadata": {
        "id": "1XhtAlQTyqLn"
      },
      "source": [
        "# Filtrer les données\r\n",
        "\r\n",
        "# Selectioner selon une modalité d'une variable\r\n",
        "Jardins = EspacesvertsOk[(EspacesvertsOk[\"categorie\"] == 'Jardin')]\r\n",
        "\r\n",
        "# Sélectionner selon deux modalité d'une variable (OR)\r\n",
        "Squaresetjardins = EspacesvertsOk[(EspacesvertsOk[\"categorie\"] == 'Jardin') | (EspacesvertsOk[\"categorie\"] == 'Square')]\r\n",
        "\r\n",
        "# Selectioner selon une valeur numérique\r\n",
        "Grandespacesverts = EspacesvertsOk[(EspacesvertsOk[\"surface\"] >10000)]\r\n",
        "\r\n",
        "#Sélectionner selon les modalités de deux variables (AND)\r\n",
        "Squares15eme = Espacesverts[(EspacesvertsOk[\"ardt\"] == 75015) & (EspacesvertsOk[\"categorie\"] == 'Square')]\r\n"
      ],
      "execution_count": 10,
      "outputs": []
    },
    {
      "cell_type": "code",
      "metadata": {
        "colab": {
          "base_uri": "https://localhost:8080/"
        },
        "id": "G679uDOXvln3",
        "outputId": "c0a4d1ed-e196-48bf-914c-77cd4dfc4c9b"
      },
      "source": [
        "#Compter le nombre d'enregistrement des sélections\r\n",
        "\r\n",
        "Jardins['id'].size"
      ],
      "execution_count": 11,
      "outputs": [
        {
          "output_type": "execute_result",
          "data": {
            "text/plain": [
              "201"
            ]
          },
          "metadata": {
            "tags": []
          },
          "execution_count": 11
        }
      ]
    },
    {
      "cell_type": "code",
      "metadata": {
        "colab": {
          "base_uri": "https://localhost:8080/",
          "height": 485
        },
        "id": "2ZVQQg9J7XJm",
        "outputId": "b336f481-61db-4fea-e2e9-48b82a20381b"
      },
      "source": [
        "# Regrouper les espaces verts par catégorie avec comptage (GROUP BY)\r\n",
        "\r\n",
        "Categorie = EspacesvertsOk[[\"categorie\", \"id\"]].groupby(\"categorie\").count()\r\n",
        "Categorie.plot(kind=\"barh\")\r\n",
        "Categorie.head()"
      ],
      "execution_count": 12,
      "outputs": [
        {
          "output_type": "execute_result",
          "data": {
            "text/html": [
              "<div>\n",
              "<style scoped>\n",
              "    .dataframe tbody tr th:only-of-type {\n",
              "        vertical-align: middle;\n",
              "    }\n",
              "\n",
              "    .dataframe tbody tr th {\n",
              "        vertical-align: top;\n",
              "    }\n",
              "\n",
              "    .dataframe thead th {\n",
              "        text-align: right;\n",
              "    }\n",
              "</style>\n",
              "<table border=\"1\" class=\"dataframe\">\n",
              "  <thead>\n",
              "    <tr style=\"text-align: right;\">\n",
              "      <th></th>\n",
              "      <th>id</th>\n",
              "    </tr>\n",
              "    <tr>\n",
              "      <th>categorie</th>\n",
              "      <th></th>\n",
              "    </tr>\n",
              "  </thead>\n",
              "  <tbody>\n",
              "    <tr>\n",
              "      <th>Arboretum</th>\n",
              "      <td>1</td>\n",
              "    </tr>\n",
              "    <tr>\n",
              "      <th>Archipel</th>\n",
              "      <td>1</td>\n",
              "    </tr>\n",
              "    <tr>\n",
              "      <th>Bois</th>\n",
              "      <td>2</td>\n",
              "    </tr>\n",
              "    <tr>\n",
              "      <th>Cimetière</th>\n",
              "      <td>21</td>\n",
              "    </tr>\n",
              "    <tr>\n",
              "      <th>Decoration</th>\n",
              "      <td>82</td>\n",
              "    </tr>\n",
              "  </tbody>\n",
              "</table>\n",
              "</div>"
            ],
            "text/plain": [
              "            id\n",
              "categorie     \n",
              "Arboretum    1\n",
              "Archipel     1\n",
              "Bois         2\n",
              "Cimetière   21\n",
              "Decoration  82"
            ]
          },
          "metadata": {
            "tags": []
          },
          "execution_count": 12
        },
        {
          "output_type": "display_data",
          "data": {
            "image/png": "[encoded data removed]",
            "text/plain": [
              "<Figure size 432x288 with 1 Axes>"
            ]
          },
          "metadata": {
            "tags": [],
            "needs_background": "light"
          }
        }
      ]
    },
    {
      "cell_type": "code",
      "metadata": {
        "colab": {
          "base_uri": "https://localhost:8080/",
          "height": 524
        },
        "id": "Wqd7Dx0t3pqZ",
        "outputId": "d9806144-4eed-4180-a269-8a9edd79a535"
      },
      "source": [
        "# Regrouper par année d'ouverture\r\n",
        "\r\n",
        "Anneeouverture = EspacesvertsOk[[\"ouverture\", \"id\"]].groupby(\"ouverture\").count()\r\n",
        "Anneeouverture.plot(kind=\"bar\")\r\n",
        "Anneeouverture.head()"
      ],
      "execution_count": 13,
      "outputs": [
        {
          "output_type": "execute_result",
          "data": {
            "text/html": [
              "<div>\n",
              "<style scoped>\n",
              "    .dataframe tbody tr th:only-of-type {\n",
              "        vertical-align: middle;\n",
              "    }\n",
              "\n",
              "    .dataframe tbody tr th {\n",
              "        vertical-align: top;\n",
              "    }\n",
              "\n",
              "    .dataframe thead th {\n",
              "        text-align: right;\n",
              "    }\n",
              "</style>\n",
              "<table border=\"1\" class=\"dataframe\">\n",
              "  <thead>\n",
              "    <tr style=\"text-align: right;\">\n",
              "      <th></th>\n",
              "      <th>id</th>\n",
              "    </tr>\n",
              "    <tr>\n",
              "      <th>ouverture</th>\n",
              "      <th></th>\n",
              "    </tr>\n",
              "  </thead>\n",
              "  <tbody>\n",
              "    <tr>\n",
              "      <th>1688.0</th>\n",
              "      <td>1</td>\n",
              "    </tr>\n",
              "    <tr>\n",
              "      <th>1791.0</th>\n",
              "      <td>1</td>\n",
              "    </tr>\n",
              "    <tr>\n",
              "      <th>1798.0</th>\n",
              "      <td>1</td>\n",
              "    </tr>\n",
              "    <tr>\n",
              "      <th>1800.0</th>\n",
              "      <td>1</td>\n",
              "    </tr>\n",
              "    <tr>\n",
              "      <th>1804.0</th>\n",
              "      <td>1</td>\n",
              "    </tr>\n",
              "  </tbody>\n",
              "</table>\n",
              "</div>"
            ],
            "text/plain": [
              "           id\n",
              "ouverture    \n",
              "1688.0      1\n",
              "1791.0      1\n",
              "1798.0      1\n",
              "1800.0      1\n",
              "1804.0      1"
            ]
          },
          "metadata": {
            "tags": []
          },
          "execution_count": 13
        },
        {
          "output_type": "display_data",
          "data": {
            "image/png": "[encoded data removed]",
            "text/plain": [
              "<Figure size 432x288 with 1 Axes>"
            ]
          },
          "metadata": {
            "tags": [],
            "needs_background": "light"
          }
        }
      ]
    },
    {
      "cell_type": "code",
      "metadata": {
        "colab": {
          "base_uri": "https://localhost:8080/",
          "height": 378
        },
        "id": "6bq952NbfpXe",
        "outputId": "49dd35ed-21d2-4cdf-f70e-062e834ff2b0"
      },
      "source": [
        "# Regrouper par année d'ouverture depuis 1950\r\n",
        "\r\n",
        "Espacesverts1950 = EspacesvertsOk[(EspacesvertsOk[\"ouverture\"] >1950)]\r\n",
        "Espacesvertsannee = Espacesverts1950[[\"ouverture\", \"id\"]].groupby(\"ouverture\").count()\r\n",
        "Espacesvertsannee.plot(figsize =(14,5), kind=\"bar\")\r\n"
      ],
      "execution_count": 41,
      "outputs": [
        {
          "output_type": "execute_result",
          "data": {
            "text/plain": [
              "<matplotlib.axes._subplots.AxesSubplot at 0x7f7407618090>"
            ]
          },
          "metadata": {
            "tags": []
          },
          "execution_count": 41
        },
        {
          "output_type": "display_data",
          "data": {
            "image/png": "[encoded data removed]",
            "text/plain": [
              "<Figure size 1008x360 with 1 Axes>"
            ]
          },
          "metadata": {
            "tags": [],
            "needs_background": "light"
          }
        }
      ]
    },
    {
      "cell_type": "code",
      "metadata": {
        "colab": {
          "base_uri": "https://localhost:8080/",
          "height": 591
        },
        "id": "jvJgF-wV3u3A",
        "outputId": "2c737442-64df-4013-dc0b-3242874e25e9"
      },
      "source": [
        "#Compter le nombre d'espaces vert par arrondissement\r\n",
        "\r\n",
        "EspacevertARDT = EspacesvertsOk[[\"ardt\", \"id\"]].groupby(\"ardt\").count()\r\n",
        "EspacevertARDT.plot(figsize =(10,5), kind=\"bar\")\r\n",
        "plt.title(\"Nb d'espace verts par Ardt\")\r\n",
        "plt.xlabel(\"Arrondissement\")\r\n",
        "plt.ylabel(\"Nb espaces verts\")\r\n",
        "EspacevertARDT.head()"
      ],
      "execution_count": 42,
      "outputs": [
        {
          "output_type": "execute_result",
          "data": {
            "text/html": [
              "<div>\n",
              "<style scoped>\n",
              "    .dataframe tbody tr th:only-of-type {\n",
              "        vertical-align: middle;\n",
              "    }\n",
              "\n",
              "    .dataframe tbody tr th {\n",
              "        vertical-align: top;\n",
              "    }\n",
              "\n",
              "    .dataframe thead th {\n",
              "        text-align: right;\n",
              "    }\n",
              "</style>\n",
              "<table border=\"1\" class=\"dataframe\">\n",
              "  <thead>\n",
              "    <tr style=\"text-align: right;\">\n",
              "      <th></th>\n",
              "      <th>id</th>\n",
              "    </tr>\n",
              "    <tr>\n",
              "      <th>ardt</th>\n",
              "      <th></th>\n",
              "    </tr>\n",
              "  </thead>\n",
              "  <tbody>\n",
              "    <tr>\n",
              "      <th>75001</th>\n",
              "      <td>14</td>\n",
              "    </tr>\n",
              "    <tr>\n",
              "      <th>75002</th>\n",
              "      <td>25</td>\n",
              "    </tr>\n",
              "    <tr>\n",
              "      <th>75003</th>\n",
              "      <td>38</td>\n",
              "    </tr>\n",
              "    <tr>\n",
              "      <th>75004</th>\n",
              "      <td>60</td>\n",
              "    </tr>\n",
              "    <tr>\n",
              "      <th>75005</th>\n",
              "      <td>78</td>\n",
              "    </tr>\n",
              "  </tbody>\n",
              "</table>\n",
              "</div>"
            ],
            "text/plain": [
              "       id\n",
              "ardt     \n",
              "75001  14\n",
              "75002  25\n",
              "75003  38\n",
              "75004  60\n",
              "75005  78"
            ]
          },
          "metadata": {
            "tags": []
          },
          "execution_count": 42
        },
        {
          "output_type": "display_data",
          "data": {
            "image/png": "[encoded data removed]",
            "text/plain": [
              "<Figure size 720x360 with 1 Axes>"
            ]
          },
          "metadata": {
            "tags": [],
            "needs_background": "light"
          }
        }
      ]
    },
    {
      "cell_type": "code",
      "metadata": {
        "colab": {
          "base_uri": "https://localhost:8080/",
          "height": 591
        },
        "id": "yLIDU7QTgiNZ",
        "outputId": "5f3f322a-c0dd-44d2-d837-d675f3b45c0c"
      },
      "source": [
        "#Ne garder que les arrondissement de Paris\r\n",
        "\r\n",
        "EspacevertsParis = EspacesvertsOk[(EspacesvertsOk[\"ardt\"] <76000)]\r\n",
        "\r\n",
        "EspacevertsParisardt = EspacevertsParis[[\"ardt\", \"id\"]].groupby(\"ardt\").count()\r\n",
        "EspacevertsParisardt.plot(figsize =(10,5), kind=\"bar\")\r\n",
        "plt.title(\"Nb d'espace verts par Ardt\")\r\n",
        "plt.xlabel(\"Arrondissement\")\r\n",
        "plt.ylabel(\"Nb espaces verts\")\r\n",
        "EspacevertsParisardt.head()"
      ],
      "execution_count": 54,
      "outputs": [
        {
          "output_type": "execute_result",
          "data": {
            "text/html": [
              "<div>\n",
              "<style scoped>\n",
              "    .dataframe tbody tr th:only-of-type {\n",
              "        vertical-align: middle;\n",
              "    }\n",
              "\n",
              "    .dataframe tbody tr th {\n",
              "        vertical-align: top;\n",
              "    }\n",
              "\n",
              "    .dataframe thead th {\n",
              "        text-align: right;\n",
              "    }\n",
              "</style>\n",
              "<table border=\"1\" class=\"dataframe\">\n",
              "  <thead>\n",
              "    <tr style=\"text-align: right;\">\n",
              "      <th></th>\n",
              "      <th>id</th>\n",
              "    </tr>\n",
              "    <tr>\n",
              "      <th>ardt</th>\n",
              "      <th></th>\n",
              "    </tr>\n",
              "  </thead>\n",
              "  <tbody>\n",
              "    <tr>\n",
              "      <th>75001</th>\n",
              "      <td>14</td>\n",
              "    </tr>\n",
              "    <tr>\n",
              "      <th>75002</th>\n",
              "      <td>25</td>\n",
              "    </tr>\n",
              "    <tr>\n",
              "      <th>75003</th>\n",
              "      <td>38</td>\n",
              "    </tr>\n",
              "    <tr>\n",
              "      <th>75004</th>\n",
              "      <td>60</td>\n",
              "    </tr>\n",
              "    <tr>\n",
              "      <th>75005</th>\n",
              "      <td>78</td>\n",
              "    </tr>\n",
              "  </tbody>\n",
              "</table>\n",
              "</div>"
            ],
            "text/plain": [
              "       id\n",
              "ardt     \n",
              "75001  14\n",
              "75002  25\n",
              "75003  38\n",
              "75004  60\n",
              "75005  78"
            ]
          },
          "metadata": {
            "tags": []
          },
          "execution_count": 54
        },
        {
          "output_type": "display_data",
          "data": {
            "image/png": "[encoded data removed]",
            "text/plain": [
              "<Figure size 720x360 with 1 Axes>"
            ]
          },
          "metadata": {
            "tags": [],
            "needs_background": "light"
          }
        }
      ]
    },
    {
      "cell_type": "code",
      "metadata": {
        "colab": {
          "base_uri": "https://localhost:8080/"
        },
        "id": "anx7Dwr3AsE8",
        "outputId": "c1a68d31-2947-48c5-ba93-f9f880fdc3e7"
      },
      "source": [
        "# Calculer la surface moyenne des squares\r\n",
        "\r\n",
        "Squares = EspacesvertsOk[(EspacesvertsOk[\"categorie\"] == 'Square')]\r\n",
        "Squares[\"surface\"].mean()"
      ],
      "execution_count": 20,
      "outputs": [
        {
          "output_type": "execute_result",
          "data": {
            "text/plain": [
              "4188.716723549488"
            ]
          },
          "metadata": {
            "tags": []
          },
          "execution_count": 20
        }
      ]
    },
    {
      "cell_type": "code",
      "metadata": {
        "colab": {
          "base_uri": "https://localhost:8080/"
        },
        "id": "Ca-0U7tlfWBY",
        "outputId": "4ef982fa-da18-48d0-c3a9-98a4d28bb83f"
      },
      "source": [
        "# Calculer la surface moyenne des jardins\r\n",
        "\r\n",
        "Jardins = EspacesvertsOk[(EspacesvertsOk[\"categorie\"] == 'Jardin')]\r\n",
        "Jardins[\"surface\"].mean()"
      ],
      "execution_count": 38,
      "outputs": [
        {
          "output_type": "execute_result",
          "data": {
            "text/plain": [
              "8790.272727272728"
            ]
          },
          "metadata": {
            "tags": []
          },
          "execution_count": 38
        }
      ]
    },
    {
      "cell_type": "code",
      "metadata": {
        "colab": {
          "base_uri": "https://localhost:8080/",
          "height": 297
        },
        "id": "64EiEnEOfaqG",
        "outputId": "17cd40dc-29a1-4352-a618-2c41be01deab"
      },
      "source": [
        "# Calculer la surface moyenne de chaque type d'espace vert\r\n",
        "\r\n",
        "SurfaceType = EspacevertsParis[[\"categorie\", \"surface\"]].groupby(\"categorie\").sum()\r\n",
        "SurfaceType.head()\r\n",
        "SurfaceType.plot(kind=\"barh\")\r\n"
      ],
      "execution_count": 59,
      "outputs": [
        {
          "output_type": "execute_result",
          "data": {
            "text/plain": [
              "<matplotlib.axes._subplots.AxesSubplot at 0x7f7402bf5890>"
            ]
          },
          "metadata": {
            "tags": []
          },
          "execution_count": 59
        },
        {
          "output_type": "display_data",
          "data": {
            "image/png": "[encoded data removed]",
            "text/plain": [
              "<Figure size 432x288 with 1 Axes>"
            ]
          },
          "metadata": {
            "tags": [],
            "needs_background": "light"
          }
        }
      ]
    },
    {
      "cell_type": "code",
      "metadata": {
        "colab": {
          "base_uri": "https://localhost:8080/",
          "height": 591
        },
        "id": "AwM4Igju-uLs",
        "outputId": "88e9d15a-fc71-4c83-a098-c623e3efdc55"
      },
      "source": [
        "#Calculer la superficie des espaces vert par arrondissement (agrégation statistique)\r\n",
        "\r\n",
        "SurfaceEspacevertARDT = EspacevertsParis[[\"ardt\", \"surface\"]].groupby(\"ardt\").sum()\r\n",
        "SurfaceEspacevertARDT.plot(figsize =(10,5), kind=\"bar\")\r\n",
        "plt.title(\"Surface d'espaces verts par Ardt\")\r\n",
        "plt.xlabel(\"Arrondissement\")\r\n",
        "plt.ylabel(\"Surface espaces verts\")\r\n",
        "SurfaceEspacevertARDT.head()"
      ],
      "execution_count": 60,
      "outputs": [
        {
          "output_type": "execute_result",
          "data": {
            "text/html": [
              "<div>\n",
              "<style scoped>\n",
              "    .dataframe tbody tr th:only-of-type {\n",
              "        vertical-align: middle;\n",
              "    }\n",
              "\n",
              "    .dataframe tbody tr th {\n",
              "        vertical-align: top;\n",
              "    }\n",
              "\n",
              "    .dataframe thead th {\n",
              "        text-align: right;\n",
              "    }\n",
              "</style>\n",
              "<table border=\"1\" class=\"dataframe\">\n",
              "  <thead>\n",
              "    <tr style=\"text-align: right;\">\n",
              "      <th></th>\n",
              "      <th>surface</th>\n",
              "    </tr>\n",
              "    <tr>\n",
              "      <th>ardt</th>\n",
              "      <th></th>\n",
              "    </tr>\n",
              "  </thead>\n",
              "  <tbody>\n",
              "    <tr>\n",
              "      <th>75001</th>\n",
              "      <td>48987.0</td>\n",
              "    </tr>\n",
              "    <tr>\n",
              "      <th>75002</th>\n",
              "      <td>3485.0</td>\n",
              "    </tr>\n",
              "    <tr>\n",
              "      <th>75003</th>\n",
              "      <td>28212.0</td>\n",
              "    </tr>\n",
              "    <tr>\n",
              "      <th>75004</th>\n",
              "      <td>68286.0</td>\n",
              "    </tr>\n",
              "    <tr>\n",
              "      <th>75005</th>\n",
              "      <td>84298.0</td>\n",
              "    </tr>\n",
              "  </tbody>\n",
              "</table>\n",
              "</div>"
            ],
            "text/plain": [
              "       surface\n",
              "ardt          \n",
              "75001  48987.0\n",
              "75002   3485.0\n",
              "75003  28212.0\n",
              "75004  68286.0\n",
              "75005  84298.0"
            ]
          },
          "metadata": {
            "tags": []
          },
          "execution_count": 60
        },
        {
          "output_type": "display_data",
          "data": {
            "image/png": "[encoded data removed]",
            "text/plain": [
              "<Figure size 720x360 with 1 Axes>"
            ]
          },
          "metadata": {
            "tags": [],
            "needs_background": "light"
          }
        }
      ]
    },
    {
      "cell_type": "code",
      "metadata": {
        "colab": {
          "base_uri": "https://localhost:8080/"
        },
        "id": "bR3_ZOOx_Vmv",
        "outputId": "87ce9947-3f6f-4da3-d7a4-d5e635173141"
      },
      "source": [
        "#Verifications\r\n",
        "\r\n",
        "totalsurface = EspacesvertsOk['surface'].sum()\r\n",
        "print(totalsurface)\r\n",
        "\r\n",
        "totalsurface2 = SurfaceEspacevertARDT['surface'].sum()\r\n",
        "print(totalsurface2)"
      ],
      "execution_count": 61,
      "outputs": [
        {
          "output_type": "stream",
          "text": [
            "9998565.0\n",
            "6687315.0\n"
          ],
          "name": "stdout"
        }
      ]
    },
    {
      "cell_type": "markdown",
      "metadata": {
        "id": "qwEV86OEucUV"
      },
      "source": [
        "## Exercices autour des lieux de tournage"
      ]
    },
    {
      "cell_type": "markdown",
      "metadata": {
        "id": "qbleMX_Fvs3E"
      },
      "source": [
        "**URL des Données**\r\n",
        "\r\n",
        "https://opendata.paris.fr/explore/dataset/lieux-de-tournage-a-paris/information/?disjunctive.type_tournage&disjunctive.nom_tournage&disjunctive.nom_realisateur&disjunctive.nom_producteur&disjunctive.ardt_lieu&basemap=jawg.dark&location=15,48.87476,2.36187\r\n",
        "\r\n",
        "* Combien de tournage dans le jeu de données\r\n",
        "* Combien de tournage de films\r\n",
        "* Combien de tournages de films dans le 16eme arrondissement\r\n",
        "* Combien de tournages de séries dans le 1er arrondissement\r\n",
        "* Faire un graphique du nombre de tournage par type\r\n",
        "* Faire un graphique du nombre de tournage par arrondissement"
      ]
    },
    {
      "cell_type": "code",
      "metadata": {
        "colab": {
          "base_uri": "https://localhost:8080/"
        },
        "id": "wUteSPsCvM1B",
        "outputId": "ac817176-81a2-44ea-a5ba-f58d67661965"
      },
      "source": [
        "#Téléchargement des datas depuis le site opendata de Paris\r\n",
        "!wget -O tournages.csv https://opendata.paris.fr/explore/dataset/lieux-de-tournage-a-paris/download/?format=csv&timezone=Europe/Berlin&lang=fr&use_labels_for_header=true&csv_separator=%3B "
      ],
      "execution_count": 29,
      "outputs": [
        {
          "output_type": "stream",
          "text": [
            "--2021-03-01 20:26:35--  https://opendata.paris.fr/explore/dataset/lieux-de-tournage-a-paris/download/?format=csv\n",
            "Resolving opendata.paris.fr (opendata.paris.fr)... 34.248.20.69, 34.249.199.226\n",
            "Connecting to opendata.paris.fr (opendata.paris.fr)|34.248.20.69|:443... connected.\n",
            "HTTP request sent, awaiting response... 200 OK\n",
            "Length: unspecified [application/csv]\n",
            "Saving to: ‘tournages.csv’\n",
            "\n",
            "tournages.csv           [                 <=>]   2.28M   527KB/s    in 4.4s    \n",
            "\n",
            "2021-03-01 20:26:40 (527 KB/s) - ‘tournages.csv’ saved [2389303]\n",
            "\n"
          ],
          "name": "stdout"
        }
      ]
    },
    {
      "cell_type": "code",
      "metadata": {
        "colab": {
          "base_uri": "https://localhost:8080/",
          "height": 400
        },
        "id": "iU2o-RN5vdYp",
        "outputId": "60611db8-373f-49ad-a026-d9ba396dab15"
      },
      "source": [
        "#Importer CSV to dataframe\r\n",
        "\r\n",
        "tournages = pd.read_csv(\"tournages.csv\", sep=';')\r\n",
        "tournages.head()"
      ],
      "execution_count": 30,
      "outputs": [
        {
          "output_type": "execute_result",
          "data": {
            "text/html": [
              "<div>\n",
              "<style scoped>\n",
              "    .dataframe tbody tr th:only-of-type {\n",
              "        vertical-align: middle;\n",
              "    }\n",
              "\n",
              "    .dataframe tbody tr th {\n",
              "        vertical-align: top;\n",
              "    }\n",
              "\n",
              "    .dataframe thead th {\n",
              "        text-align: right;\n",
              "    }\n",
              "</style>\n",
              "<table border=\"1\" class=\"dataframe\">\n",
              "  <thead>\n",
              "    <tr style=\"text-align: right;\">\n",
              "      <th></th>\n",
              "      <th>id_lieu</th>\n",
              "      <th>annee_tournage</th>\n",
              "      <th>type_tournage</th>\n",
              "      <th>nom_tournage</th>\n",
              "      <th>nom_realisateur</th>\n",
              "      <th>nom_producteur</th>\n",
              "      <th>adresse_lieu</th>\n",
              "      <th>ardt_lieu</th>\n",
              "      <th>date_debut</th>\n",
              "      <th>date_fin</th>\n",
              "      <th>coord_x</th>\n",
              "      <th>coord_y</th>\n",
              "      <th>geo_shape</th>\n",
              "      <th>geo_point_2d</th>\n",
              "    </tr>\n",
              "  </thead>\n",
              "  <tbody>\n",
              "    <tr>\n",
              "      <th>0</th>\n",
              "      <td>2018-1366</td>\n",
              "      <td>2018</td>\n",
              "      <td>Long métrage</td>\n",
              "      <td>LA VERITE SI JE MENS LES DEBUTS</td>\n",
              "      <td>Michel MUNZ  et Gérard BITTON</td>\n",
              "      <td>LA VERITE PRODUCTION</td>\n",
              "      <td>rue edmond about, 75116 paris</td>\n",
              "      <td>75116.0</td>\n",
              "      <td>2018-11-08</td>\n",
              "      <td>2018-11-08</td>\n",
              "      <td>2.273891</td>\n",
              "      <td>48.862604</td>\n",
              "      <td>{\"type\": \"Point\", \"coordinates\": [2.2738905444...</td>\n",
              "      <td>48.8626043783,2.27389054441</td>\n",
              "    </tr>\n",
              "    <tr>\n",
              "      <th>1</th>\n",
              "      <td>2019-685</td>\n",
              "      <td>2019</td>\n",
              "      <td>Long métrage</td>\n",
              "      <td>Maoussi</td>\n",
              "      <td>Charlotte Schiøler</td>\n",
              "      <td>C.S. Productions</td>\n",
              "      <td>63 rue de belleville, 75019 paris</td>\n",
              "      <td>75019.0</td>\n",
              "      <td>2019-06-18</td>\n",
              "      <td>2019-06-18</td>\n",
              "      <td>2.382256</td>\n",
              "      <td>48.873419</td>\n",
              "      <td>{\"type\": \"Point\", \"coordinates\": [2.3822563279...</td>\n",
              "      <td>48.8734189019,2.38225632792</td>\n",
              "    </tr>\n",
              "    <tr>\n",
              "      <th>2</th>\n",
              "      <td>2019-686</td>\n",
              "      <td>2019</td>\n",
              "      <td>Long métrage</td>\n",
              "      <td>Maoussi</td>\n",
              "      <td>Charlotte Schiøler</td>\n",
              "      <td>C.S. Productions</td>\n",
              "      <td>87 rue de ménilmontant, 75020 paris</td>\n",
              "      <td>75020.0</td>\n",
              "      <td>2019-06-18</td>\n",
              "      <td>2019-06-18</td>\n",
              "      <td>2.390458</td>\n",
              "      <td>48.868945</td>\n",
              "      <td>{\"type\": \"Point\", \"coordinates\": [2.3904579308...</td>\n",
              "      <td>48.8689453903,2.39045793086</td>\n",
              "    </tr>\n",
              "    <tr>\n",
              "      <th>3</th>\n",
              "      <td>2019-688</td>\n",
              "      <td>2019</td>\n",
              "      <td>Long métrage</td>\n",
              "      <td>TOUT SIMPLEMENT NOIR</td>\n",
              "      <td>JEAN PASCAL ZADI ET JOHN WAXXX</td>\n",
              "      <td>GAUMONT</td>\n",
              "      <td>rue edouard vii, 75009 paris</td>\n",
              "      <td>75009.0</td>\n",
              "      <td>2019-06-12</td>\n",
              "      <td>2019-06-12</td>\n",
              "      <td>2.329043</td>\n",
              "      <td>48.870095</td>\n",
              "      <td>{\"type\": \"Point\", \"coordinates\": [2.3290434773...</td>\n",
              "      <td>48.8700952316,2.32904347732</td>\n",
              "    </tr>\n",
              "    <tr>\n",
              "      <th>4</th>\n",
              "      <td>2019-704</td>\n",
              "      <td>2019</td>\n",
              "      <td>Long métrage</td>\n",
              "      <td>CHACUN CHEZ SOI !</td>\n",
              "      <td>Michèle Laroque</td>\n",
              "      <td>ALTER FILMS - CHACUN CHEZ SOI !</td>\n",
              "      <td>10 avenue de camoëns, 75116 paris</td>\n",
              "      <td>75116.0</td>\n",
              "      <td>2019-06-20</td>\n",
              "      <td>2019-06-20</td>\n",
              "      <td>2.286219</td>\n",
              "      <td>48.859759</td>\n",
              "      <td>{\"type\": \"Point\", \"coordinates\": [2.2862189455...</td>\n",
              "      <td>48.859758899,2.28621894558</td>\n",
              "    </tr>\n",
              "  </tbody>\n",
              "</table>\n",
              "</div>"
            ],
            "text/plain": [
              "     id_lieu  ...                 geo_point_2d\n",
              "0  2018-1366  ...  48.8626043783,2.27389054441\n",
              "1   2019-685  ...  48.8734189019,2.38225632792\n",
              "2   2019-686  ...  48.8689453903,2.39045793086\n",
              "3   2019-688  ...  48.8700952316,2.32904347732\n",
              "4   2019-704  ...   48.859758899,2.28621894558\n",
              "\n",
              "[5 rows x 14 columns]"
            ]
          },
          "metadata": {
            "tags": []
          },
          "execution_count": 30
        }
      ]
    },
    {
      "cell_type": "code",
      "metadata": {
        "colab": {
          "base_uri": "https://localhost:8080/",
          "height": 601
        },
        "id": "H9Ss1yFkwiLa",
        "outputId": "373dcaf4-9c5d-47e4-da76-eca3404f4946"
      },
      "source": [
        "#Compter le nombre de tournages par arrondissement\r\n",
        "\r\n",
        "tournagesARDT = tournages[[\"ardt_lieu\", \"type_tournage\"]].groupby(\"ardt_lieu\").count()\r\n",
        "tournagesARDT.plot(figsize =(10,5), kind=\"bar\")\r\n",
        "plt.title(\"Nb de tournages par Ardt\")\r\n",
        "plt.xlabel(\"Arrondissement\")\r\n",
        "plt.ylabel(\"Nb tournages\")\r\n",
        "tournagesARDT.head()"
      ],
      "execution_count": 31,
      "outputs": [
        {
          "output_type": "execute_result",
          "data": {
            "text/html": [
              "<div>\n",
              "<style scoped>\n",
              "    .dataframe tbody tr th:only-of-type {\n",
              "        vertical-align: middle;\n",
              "    }\n",
              "\n",
              "    .dataframe tbody tr th {\n",
              "        vertical-align: top;\n",
              "    }\n",
              "\n",
              "    .dataframe thead th {\n",
              "        text-align: right;\n",
              "    }\n",
              "</style>\n",
              "<table border=\"1\" class=\"dataframe\">\n",
              "  <thead>\n",
              "    <tr style=\"text-align: right;\">\n",
              "      <th></th>\n",
              "      <th>type_tournage</th>\n",
              "    </tr>\n",
              "    <tr>\n",
              "      <th>ardt_lieu</th>\n",
              "      <th></th>\n",
              "    </tr>\n",
              "  </thead>\n",
              "  <tbody>\n",
              "    <tr>\n",
              "      <th>75001.0</th>\n",
              "      <td>497</td>\n",
              "    </tr>\n",
              "    <tr>\n",
              "      <th>75002.0</th>\n",
              "      <td>219</td>\n",
              "    </tr>\n",
              "    <tr>\n",
              "      <th>75003.0</th>\n",
              "      <td>164</td>\n",
              "    </tr>\n",
              "    <tr>\n",
              "      <th>75004.0</th>\n",
              "      <td>497</td>\n",
              "    </tr>\n",
              "    <tr>\n",
              "      <th>75005.0</th>\n",
              "      <td>469</td>\n",
              "    </tr>\n",
              "  </tbody>\n",
              "</table>\n",
              "</div>"
            ],
            "text/plain": [
              "           type_tournage\n",
              "ardt_lieu               \n",
              "75001.0              497\n",
              "75002.0              219\n",
              "75003.0              164\n",
              "75004.0              497\n",
              "75005.0              469"
            ]
          },
          "metadata": {
            "tags": []
          },
          "execution_count": 31
        },
        {
          "output_type": "display_data",
          "data": {
            "image/png": "[encoded data removed]",
            "text/plain": [
              "<Figure size 720x360 with 1 Axes>"
            ]
          },
          "metadata": {
            "tags": [],
            "needs_background": "light"
          }
        }
      ]
    },
    {
      "cell_type": "code",
      "metadata": {
        "colab": {
          "base_uri": "https://localhost:8080/",
          "height": 598
        },
        "id": "9IJUZW0_xY0u",
        "outputId": "da42fcfb-bc00-4034-8385-12f8eb04fd05"
      },
      "source": [
        "#Compter le nombre de tournages par type\r\n",
        "\r\n",
        "tournagesTYPE = tournages[[\"type_tournage\", \"ardt_lieu\"]].groupby(\"type_tournage\").count()\r\n",
        "tournagesTYPE.plot(figsize =(10,5), kind=\"bar\")\r\n",
        "plt.title(\"Nb de tournages par type\")\r\n",
        "plt.xlabel(\"Type\")\r\n",
        "plt.ylabel(\"Nb tournages\")\r\n",
        "tournagesTYPE.head()"
      ],
      "execution_count": 32,
      "outputs": [
        {
          "output_type": "execute_result",
          "data": {
            "text/html": [
              "<div>\n",
              "<style scoped>\n",
              "    .dataframe tbody tr th:only-of-type {\n",
              "        vertical-align: middle;\n",
              "    }\n",
              "\n",
              "    .dataframe tbody tr th {\n",
              "        vertical-align: top;\n",
              "    }\n",
              "\n",
              "    .dataframe thead th {\n",
              "        text-align: right;\n",
              "    }\n",
              "</style>\n",
              "<table border=\"1\" class=\"dataframe\">\n",
              "  <thead>\n",
              "    <tr style=\"text-align: right;\">\n",
              "      <th></th>\n",
              "      <th>ardt_lieu</th>\n",
              "    </tr>\n",
              "    <tr>\n",
              "      <th>type_tournage</th>\n",
              "      <th></th>\n",
              "    </tr>\n",
              "  </thead>\n",
              "  <tbody>\n",
              "    <tr>\n",
              "      <th>Long métrage</th>\n",
              "      <td>5013</td>\n",
              "    </tr>\n",
              "    <tr>\n",
              "      <th>Série TV</th>\n",
              "      <td>3056</td>\n",
              "    </tr>\n",
              "    <tr>\n",
              "      <th>Série Web</th>\n",
              "      <td>380</td>\n",
              "    </tr>\n",
              "    <tr>\n",
              "      <th>Téléfilm</th>\n",
              "      <td>469</td>\n",
              "    </tr>\n",
              "  </tbody>\n",
              "</table>\n",
              "</div>"
            ],
            "text/plain": [
              "               ardt_lieu\n",
              "type_tournage           \n",
              "Long métrage        5013\n",
              "Série TV            3056\n",
              "Série Web            380\n",
              "Téléfilm             469"
            ]
          },
          "metadata": {
            "tags": []
          },
          "execution_count": 32
        },
        {
          "output_type": "display_data",
          "data": {
            "image/png": "[encoded data removed]",
            "text/plain": [
              "<Figure size 720x360 with 1 Axes>"
            ]
          },
          "metadata": {
            "tags": [],
            "needs_background": "light"
          }
        }
      ]
    },
    {
      "cell_type": "markdown",
      "metadata": {
        "id": "EQkbWTkMaiFI"
      },
      "source": [
        "## Transformer csv en geodataframe"
      ]
    },
    {
      "cell_type": "code",
      "metadata": {
        "colab": {
          "base_uri": "https://localhost:8080/"
        },
        "id": "aRXfCeebDKU3",
        "outputId": "17f87d19-525a-492a-da20-734fa621d238"
      },
      "source": [
        "#Téléchargement des datas depuis le site opendata de Paris\r\n",
        "\r\n",
        "!wget -O toilettes.csv https://opendata.paris.fr/explore/dataset/sanisettesparis/download/?format=csv&timezone=Europe/Berlin&lang=fr&use_labels_for_header=true&csv_separator=%3B\r\n"
      ],
      "execution_count": 33,
      "outputs": [
        {
          "output_type": "stream",
          "text": [
            "--2021-03-01 20:27:09--  https://opendata.paris.fr/explore/dataset/sanisettesparis/download/?format=csv\n",
            "Resolving opendata.paris.fr (opendata.paris.fr)... 34.249.199.226, 34.248.20.69\n",
            "Connecting to opendata.paris.fr (opendata.paris.fr)|34.249.199.226|:443... connected.\n",
            "HTTP request sent, awaiting response... 200 OK\n",
            "Length: unspecified [application/csv]\n",
            "Saving to: ‘toilettes.csv’\n",
            "\n",
            "toilettes.csv           [ <=>                ] 124.74K   635KB/s    in 0.2s    \n",
            "\n",
            "2021-03-01 20:27:10 (635 KB/s) - ‘toilettes.csv’ saved [127729]\n",
            "\n"
          ],
          "name": "stdout"
        }
      ]
    },
    {
      "cell_type": "code",
      "metadata": {
        "colab": {
          "base_uri": "https://localhost:8080/",
          "height": 486
        },
        "id": "NXoxYq-vDQlo",
        "outputId": "4fac10f5-d028-44a3-e70f-55a46676fa54"
      },
      "source": [
        "#Importer CSV to dataframe\r\n",
        "\r\n",
        "toilettes = pd.read_csv(\"toilettes.csv\", sep=';')\r\n",
        "toilettes.head()"
      ],
      "execution_count": 35,
      "outputs": [
        {
          "output_type": "execute_result",
          "data": {
            "text/html": [
              "<div>\n",
              "<style scoped>\n",
              "    .dataframe tbody tr th:only-of-type {\n",
              "        vertical-align: middle;\n",
              "    }\n",
              "\n",
              "    .dataframe tbody tr th {\n",
              "        vertical-align: top;\n",
              "    }\n",
              "\n",
              "    .dataframe thead th {\n",
              "        text-align: right;\n",
              "    }\n",
              "</style>\n",
              "<table border=\"1\" class=\"dataframe\">\n",
              "  <thead>\n",
              "    <tr style=\"text-align: right;\">\n",
              "      <th></th>\n",
              "      <th>type</th>\n",
              "      <th>statut</th>\n",
              "      <th>adresse</th>\n",
              "      <th>arrondissement</th>\n",
              "      <th>horaire</th>\n",
              "      <th>acces_pmr</th>\n",
              "      <th>relais_bebe</th>\n",
              "      <th>url_fiche_equipement</th>\n",
              "      <th>geo_shape</th>\n",
              "      <th>geo_point_2d</th>\n",
              "    </tr>\n",
              "  </thead>\n",
              "  <tbody>\n",
              "    <tr>\n",
              "      <th>0</th>\n",
              "      <td>SANISETTES</td>\n",
              "      <td>Fermé</td>\n",
              "      <td>88 AVENUE DU MAINE</td>\n",
              "      <td>14</td>\n",
              "      <td>6 h - 1 h</td>\n",
              "      <td>Oui</td>\n",
              "      <td>NaN</td>\n",
              "      <td>NaN</td>\n",
              "      <td>{\"type\": \"MultiPoint\", \"coordinates\": [[2.3223...</td>\n",
              "      <td>48.838110613,2.32233836205</td>\n",
              "    </tr>\n",
              "    <tr>\n",
              "      <th>1</th>\n",
              "      <td>SANISETTES</td>\n",
              "      <td>Fermé</td>\n",
              "      <td>RUE SAINT CHARLES</td>\n",
              "      <td>15</td>\n",
              "      <td>6 h - 22 h</td>\n",
              "      <td>Oui</td>\n",
              "      <td>NaN</td>\n",
              "      <td>NaN</td>\n",
              "      <td>{\"type\": \"MultiPoint\", \"coordinates\": [[2.2779...</td>\n",
              "      <td>48.838073563,2.27798287108</td>\n",
              "    </tr>\n",
              "    <tr>\n",
              "      <th>2</th>\n",
              "      <td>SANISETTES</td>\n",
              "      <td>Fermé</td>\n",
              "      <td>170 AVENUE DE VERSAILLES</td>\n",
              "      <td>16</td>\n",
              "      <td>6 h - 22 h</td>\n",
              "      <td>Oui</td>\n",
              "      <td>NaN</td>\n",
              "      <td>NaN</td>\n",
              "      <td>{\"type\": \"MultiPoint\", \"coordinates\": [[2.2630...</td>\n",
              "      <td>48.8398553812,2.26307814089</td>\n",
              "    </tr>\n",
              "    <tr>\n",
              "      <th>3</th>\n",
              "      <td>SANISETTES</td>\n",
              "      <td>Fermé</td>\n",
              "      <td>51 BOULEVARD GOUVION SAINT CYR</td>\n",
              "      <td>17</td>\n",
              "      <td>6 h - 22 h</td>\n",
              "      <td>Oui</td>\n",
              "      <td>NaN</td>\n",
              "      <td>NaN</td>\n",
              "      <td>{\"type\": \"MultiPoint\", \"coordinates\": [[2.2860...</td>\n",
              "      <td>48.881884193,2.28601752567</td>\n",
              "    </tr>\n",
              "    <tr>\n",
              "      <th>4</th>\n",
              "      <td>SANISETTES</td>\n",
              "      <td>Fermé</td>\n",
              "      <td>1 RUE SAINT BRUNO</td>\n",
              "      <td>18</td>\n",
              "      <td>24 h / 24</td>\n",
              "      <td>Oui</td>\n",
              "      <td>NaN</td>\n",
              "      <td>NaN</td>\n",
              "      <td>{\"type\": \"MultiPoint\", \"coordinates\": [[2.3562...</td>\n",
              "      <td>48.885957541,2.35627051059</td>\n",
              "    </tr>\n",
              "  </tbody>\n",
              "</table>\n",
              "</div>"
            ],
            "text/plain": [
              "         type  ...                 geo_point_2d\n",
              "0  SANISETTES  ...   48.838110613,2.32233836205\n",
              "1  SANISETTES  ...   48.838073563,2.27798287108\n",
              "2  SANISETTES  ...  48.8398553812,2.26307814089\n",
              "3  SANISETTES  ...   48.881884193,2.28601752567\n",
              "4  SANISETTES  ...   48.885957541,2.35627051059\n",
              "\n",
              "[5 rows x 10 columns]"
            ]
          },
          "metadata": {
            "tags": []
          },
          "execution_count": 35
        }
      ]
    },
    {
      "cell_type": "code",
      "metadata": {
        "colab": {
          "base_uri": "https://localhost:8080/",
          "height": 486
        },
        "id": "Q7w9dw08RGzY",
        "outputId": "87d91139-2949-41e2-d1ca-5cf94b547456"
      },
      "source": [
        "#Séparer la columne des coordonnées géographiques\r\n",
        "\r\n",
        "toilettes[['Latitude','Longitude']] = toilettes['geo_point_2d'].str.split(',', expand=True)\r\n",
        "toilettes.head()"
      ],
      "execution_count": 36,
      "outputs": [
        {
          "output_type": "execute_result",
          "data": {
            "text/html": [
              "<div>\n",
              "<style scoped>\n",
              "    .dataframe tbody tr th:only-of-type {\n",
              "        vertical-align: middle;\n",
              "    }\n",
              "\n",
              "    .dataframe tbody tr th {\n",
              "        vertical-align: top;\n",
              "    }\n",
              "\n",
              "    .dataframe thead th {\n",
              "        text-align: right;\n",
              "    }\n",
              "</style>\n",
              "<table border=\"1\" class=\"dataframe\">\n",
              "  <thead>\n",
              "    <tr style=\"text-align: right;\">\n",
              "      <th></th>\n",
              "      <th>type</th>\n",
              "      <th>statut</th>\n",
              "      <th>adresse</th>\n",
              "      <th>arrondissement</th>\n",
              "      <th>horaire</th>\n",
              "      <th>acces_pmr</th>\n",
              "      <th>relais_bebe</th>\n",
              "      <th>url_fiche_equipement</th>\n",
              "      <th>geo_shape</th>\n",
              "      <th>geo_point_2d</th>\n",
              "      <th>Latitude</th>\n",
              "      <th>Longitude</th>\n",
              "    </tr>\n",
              "  </thead>\n",
              "  <tbody>\n",
              "    <tr>\n",
              "      <th>0</th>\n",
              "      <td>SANISETTES</td>\n",
              "      <td>Fermé</td>\n",
              "      <td>88 AVENUE DU MAINE</td>\n",
              "      <td>14</td>\n",
              "      <td>6 h - 1 h</td>\n",
              "      <td>Oui</td>\n",
              "      <td>NaN</td>\n",
              "      <td>NaN</td>\n",
              "      <td>{\"type\": \"MultiPoint\", \"coordinates\": [[2.3223...</td>\n",
              "      <td>48.838110613,2.32233836205</td>\n",
              "      <td>48.838110613</td>\n",
              "      <td>2.32233836205</td>\n",
              "    </tr>\n",
              "    <tr>\n",
              "      <th>1</th>\n",
              "      <td>SANISETTES</td>\n",
              "      <td>Fermé</td>\n",
              "      <td>RUE SAINT CHARLES</td>\n",
              "      <td>15</td>\n",
              "      <td>6 h - 22 h</td>\n",
              "      <td>Oui</td>\n",
              "      <td>NaN</td>\n",
              "      <td>NaN</td>\n",
              "      <td>{\"type\": \"MultiPoint\", \"coordinates\": [[2.2779...</td>\n",
              "      <td>48.838073563,2.27798287108</td>\n",
              "      <td>48.838073563</td>\n",
              "      <td>2.27798287108</td>\n",
              "    </tr>\n",
              "    <tr>\n",
              "      <th>2</th>\n",
              "      <td>SANISETTES</td>\n",
              "      <td>Fermé</td>\n",
              "      <td>170 AVENUE DE VERSAILLES</td>\n",
              "      <td>16</td>\n",
              "      <td>6 h - 22 h</td>\n",
              "      <td>Oui</td>\n",
              "      <td>NaN</td>\n",
              "      <td>NaN</td>\n",
              "      <td>{\"type\": \"MultiPoint\", \"coordinates\": [[2.2630...</td>\n",
              "      <td>48.8398553812,2.26307814089</td>\n",
              "      <td>48.8398553812</td>\n",
              "      <td>2.26307814089</td>\n",
              "    </tr>\n",
              "    <tr>\n",
              "      <th>3</th>\n",
              "      <td>SANISETTES</td>\n",
              "      <td>Fermé</td>\n",
              "      <td>51 BOULEVARD GOUVION SAINT CYR</td>\n",
              "      <td>17</td>\n",
              "      <td>6 h - 22 h</td>\n",
              "      <td>Oui</td>\n",
              "      <td>NaN</td>\n",
              "      <td>NaN</td>\n",
              "      <td>{\"type\": \"MultiPoint\", \"coordinates\": [[2.2860...</td>\n",
              "      <td>48.881884193,2.28601752567</td>\n",
              "      <td>48.881884193</td>\n",
              "      <td>2.28601752567</td>\n",
              "    </tr>\n",
              "    <tr>\n",
              "      <th>4</th>\n",
              "      <td>SANISETTES</td>\n",
              "      <td>Fermé</td>\n",
              "      <td>1 RUE SAINT BRUNO</td>\n",
              "      <td>18</td>\n",
              "      <td>24 h / 24</td>\n",
              "      <td>Oui</td>\n",
              "      <td>NaN</td>\n",
              "      <td>NaN</td>\n",
              "      <td>{\"type\": \"MultiPoint\", \"coordinates\": [[2.3562...</td>\n",
              "      <td>48.885957541,2.35627051059</td>\n",
              "      <td>48.885957541</td>\n",
              "      <td>2.35627051059</td>\n",
              "    </tr>\n",
              "  </tbody>\n",
              "</table>\n",
              "</div>"
            ],
            "text/plain": [
              "         type statut  ...       Latitude      Longitude\n",
              "0  SANISETTES  Fermé  ...   48.838110613  2.32233836205\n",
              "1  SANISETTES  Fermé  ...   48.838073563  2.27798287108\n",
              "2  SANISETTES  Fermé  ...  48.8398553812  2.26307814089\n",
              "3  SANISETTES  Fermé  ...   48.881884193  2.28601752567\n",
              "4  SANISETTES  Fermé  ...   48.885957541  2.35627051059\n",
              "\n",
              "[5 rows x 12 columns]"
            ]
          },
          "metadata": {
            "tags": []
          },
          "execution_count": 36
        }
      ]
    },
    {
      "cell_type": "code",
      "metadata": {
        "colab": {
          "base_uri": "https://localhost:8080/",
          "height": 419
        },
        "id": "tn9SFWqIQlpg",
        "outputId": "35da606f-71bf-4528-a17f-a0f5f9232b8c"
      },
      "source": [
        "#Dataframe to GeoDataframe\r\n",
        "\r\n",
        "toilettes = gpd.GeoDataFrame(toilettes, crs = 'epsg:4326', geometry=gpd.points_from_xy(toilettes.Longitude, toilettes.Latitude))\r\n",
        "toilettes.plot(figsize=(10,12), markersize=1)"
      ],
      "execution_count": 37,
      "outputs": [
        {
          "output_type": "execute_result",
          "data": {
            "text/plain": [
              "<matplotlib.axes._subplots.AxesSubplot at 0x7f740800abd0>"
            ]
          },
          "metadata": {
            "tags": []
          },
          "execution_count": 37
        },
        {
          "output_type": "display_data",
          "data": {
            "image/png": "[encoded data removed]",
            "text/plain": [
              "<Figure size 720x864 with 1 Axes>"
            ]
          },
          "metadata": {
            "tags": [],
            "needs_background": "light"
          }
        }
      ]
    },
    {
      "cell_type": "markdown",
      "metadata": {
        "id": "ko4DsErham8l"
      },
      "source": [
        "## Exercices autour du jeu de données des arbres\r\n"
      ]
    },
    {
      "cell_type": "markdown",
      "metadata": {
        "id": "y6D6c6Liey7i"
      },
      "source": [
        "\r\n",
        "URL : https://opendata.paris.fr/explore/dataset/les-arbres/information/?disjunctive.typeemplacement&disjunctive.arrondissement&disjunctive.libellefrancais&disjunctive.genre&disjunctive.espece&disjunctive.varieteoucultivar&disjunctive.stadedeveloppement&disjunctive.remarquable\r\n",
        "\r\n",
        "* Importer le dataset des arbres  \r\n",
        "* Compter le nombre d'abres\r\n",
        "* Restructurer le jeu de données (sélection de variables et renommage) > \"idbase\", \"domanialite\", \"arrondissement\", \"libellefrancais\", \"hauteurenm\", \"geo_point_2d\"\r\n",
        "* Proposer une visualisation du nb d'arbres par arrondissement\r\n",
        "* Proposer une visualisation du nb d'arbres par domanialité\r\n",
        "* Proposer une visualisation de la hauteur moyenne par type\r\n",
        "* Proposer une visualisation de la hauteur moyenne par arrondissement\r\n",
        "* Créer un géodataframe \r\n",
        "* Faire une carte avec uniquement les chênes, les erables et les frênes\r\n",
        "\r\n"
      ]
    },
    {
      "cell_type": "code",
      "metadata": {
        "colab": {
          "base_uri": "https://localhost:8080/"
        },
        "id": "KUTOW6Lv8dOK",
        "outputId": "86c45f94-51ca-4042-e9e3-535f3426fc94"
      },
      "source": [
        "#Téléchargement des datas depuis l'opendata\r\n",
        "!wget -O arbres.csv https://opendata.paris.fr/explore/dataset/les-arbres/download/?format=csv&timezone=Europe/Berlin&lang=fr&use_labels_for_header=true&csv_separator=%3B "
      ],
      "execution_count": null,
      "outputs": [
        {
          "output_type": "stream",
          "text": [
            "--2021-03-01 13:50:51--  https://opendata.paris.fr/explore/dataset/les-arbres/download/?format=csv\n",
            "Resolving opendata.paris.fr (opendata.paris.fr)... 34.248.20.69, 34.249.199.226\n",
            "Connecting to opendata.paris.fr (opendata.paris.fr)|34.248.20.69|:443... connected.\n",
            "HTTP request sent, awaiting response... 200 OK\n",
            "Length: unspecified [application/csv]\n",
            "Saving to: ‘arbres.csv’\n",
            "\n",
            "arbres.csv              [  <=>               ]  30.16M   294KB/s    in 1m 50s  \n",
            "\n",
            "2021-03-01 13:52:44 (281 KB/s) - ‘arbres.csv’ saved [31621783]\n",
            "\n"
          ],
          "name": "stdout"
        }
      ]
    },
    {
      "cell_type": "code",
      "metadata": {
        "colab": {
          "base_uri": "https://localhost:8080/",
          "height": 452
        },
        "id": "DrYCtEiJ8paS",
        "outputId": "f3016e2a-aa43-43f7-9100-86249820da3e"
      },
      "source": [
        "#Importer CSV to dataframe\r\n",
        "\r\n",
        "arbres = pd.read_csv(\"arbres.csv\", sep=';')\r\n",
        "arbres.head()"
      ],
      "execution_count": null,
      "outputs": [
        {
          "output_type": "execute_result",
          "data": {
            "text/html": [
              "<div>\n",
              "<style scoped>\n",
              "    .dataframe tbody tr th:only-of-type {\n",
              "        vertical-align: middle;\n",
              "    }\n",
              "\n",
              "    .dataframe tbody tr th {\n",
              "        vertical-align: top;\n",
              "    }\n",
              "\n",
              "    .dataframe thead th {\n",
              "        text-align: right;\n",
              "    }\n",
              "</style>\n",
              "<table border=\"1\" class=\"dataframe\">\n",
              "  <thead>\n",
              "    <tr style=\"text-align: right;\">\n",
              "      <th></th>\n",
              "      <th>idbase</th>\n",
              "      <th>typeemplacement</th>\n",
              "      <th>domanialite</th>\n",
              "      <th>arrondissement</th>\n",
              "      <th>complementadresse</th>\n",
              "      <th>numero</th>\n",
              "      <th>adresse</th>\n",
              "      <th>idemplacement</th>\n",
              "      <th>libellefrancais</th>\n",
              "      <th>genre</th>\n",
              "      <th>espece</th>\n",
              "      <th>varieteoucultivar</th>\n",
              "      <th>circonferenceencm</th>\n",
              "      <th>hauteurenm</th>\n",
              "      <th>stadedeveloppement</th>\n",
              "      <th>remarquable</th>\n",
              "      <th>geo_point_2d</th>\n",
              "    </tr>\n",
              "  </thead>\n",
              "  <tbody>\n",
              "    <tr>\n",
              "      <th>0</th>\n",
              "      <td>2029277</td>\n",
              "      <td>Arbre</td>\n",
              "      <td>DJS</td>\n",
              "      <td>PARIS 19E ARRDT</td>\n",
              "      <td>NaN</td>\n",
              "      <td>NaN</td>\n",
              "      <td>CENTRE SPORTIF JULES LADOUMEGUE / 35 ROUTE DES...</td>\n",
              "      <td>000104004</td>\n",
              "      <td>Copalme</td>\n",
              "      <td>Liquidambar</td>\n",
              "      <td>styraciflua</td>\n",
              "      <td>NaN</td>\n",
              "      <td>20</td>\n",
              "      <td>5</td>\n",
              "      <td>J</td>\n",
              "      <td>NON</td>\n",
              "      <td>48.8910678703,2.39818911237</td>\n",
              "    </tr>\n",
              "    <tr>\n",
              "      <th>1</th>\n",
              "      <td>251547</td>\n",
              "      <td>Arbre</td>\n",
              "      <td>Alignement</td>\n",
              "      <td>PARIS 16E ARRDT</td>\n",
              "      <td>NaN</td>\n",
              "      <td>NaN</td>\n",
              "      <td>AVENUE DU PRESIDENT WILSON</td>\n",
              "      <td>000303003</td>\n",
              "      <td>Platane</td>\n",
              "      <td>Platanus</td>\n",
              "      <td>x hispanica</td>\n",
              "      <td>NaN</td>\n",
              "      <td>205</td>\n",
              "      <td>20</td>\n",
              "      <td>A</td>\n",
              "      <td>NON</td>\n",
              "      <td>48.8649086201,2.2993502247</td>\n",
              "    </tr>\n",
              "    <tr>\n",
              "      <th>2</th>\n",
              "      <td>282670</td>\n",
              "      <td>Arbre</td>\n",
              "      <td>Alignement</td>\n",
              "      <td>PARIS 8E ARRDT</td>\n",
              "      <td>NaN</td>\n",
              "      <td>NaN</td>\n",
              "      <td>AVENUE PERCIER</td>\n",
              "      <td>000202005</td>\n",
              "      <td>Platane</td>\n",
              "      <td>Platanus</td>\n",
              "      <td>x hispanica</td>\n",
              "      <td>NaN</td>\n",
              "      <td>86</td>\n",
              "      <td>12</td>\n",
              "      <td>A</td>\n",
              "      <td>NON</td>\n",
              "      <td>48.8740816418,2.31454494358</td>\n",
              "    </tr>\n",
              "    <tr>\n",
              "      <th>3</th>\n",
              "      <td>185672</td>\n",
              "      <td>Arbre</td>\n",
              "      <td>DASCO</td>\n",
              "      <td>PARIS 20E ARRDT</td>\n",
              "      <td>NaN</td>\n",
              "      <td>NaN</td>\n",
              "      <td>ECOLE ELEMENTAIRE / 24 RUE OLIVIER METRA</td>\n",
              "      <td>098501015</td>\n",
              "      <td>Bouleau</td>\n",
              "      <td>Betula</td>\n",
              "      <td>pendula</td>\n",
              "      <td>NaN</td>\n",
              "      <td>75</td>\n",
              "      <td>12</td>\n",
              "      <td>J</td>\n",
              "      <td>NON</td>\n",
              "      <td>48.8732579515,2.3942408403</td>\n",
              "    </tr>\n",
              "    <tr>\n",
              "      <th>4</th>\n",
              "      <td>219422</td>\n",
              "      <td>Arbre</td>\n",
              "      <td>Alignement</td>\n",
              "      <td>PARIS 8E ARRDT</td>\n",
              "      <td>NaN</td>\n",
              "      <td>NaN</td>\n",
              "      <td>BOULEVARD HAUSSMANN</td>\n",
              "      <td>003202007</td>\n",
              "      <td>Platane</td>\n",
              "      <td>Platanus</td>\n",
              "      <td>x hispanica</td>\n",
              "      <td>NaN</td>\n",
              "      <td>54</td>\n",
              "      <td>9</td>\n",
              "      <td>A</td>\n",
              "      <td>NON</td>\n",
              "      <td>48.8751388795,2.31742365137</td>\n",
              "    </tr>\n",
              "  </tbody>\n",
              "</table>\n",
              "</div>"
            ],
            "text/plain": [
              "    idbase typeemplacement  ... remarquable                 geo_point_2d\n",
              "0  2029277           Arbre  ...         NON  48.8910678703,2.39818911237\n",
              "1   251547           Arbre  ...         NON   48.8649086201,2.2993502247\n",
              "2   282670           Arbre  ...         NON  48.8740816418,2.31454494358\n",
              "3   185672           Arbre  ...         NON   48.8732579515,2.3942408403\n",
              "4   219422           Arbre  ...         NON  48.8751388795,2.31742365137\n",
              "\n",
              "[5 rows x 17 columns]"
            ]
          },
          "metadata": {
            "tags": []
          },
          "execution_count": 61
        }
      ]
    },
    {
      "cell_type": "code",
      "metadata": {
        "colab": {
          "base_uri": "https://localhost:8080/"
        },
        "id": "aEP3T5xT9CaE",
        "outputId": "328b814d-d16a-4d36-8676-1b4da547280b"
      },
      "source": [
        "#Compter le nombre d'arbres\r\n",
        "\r\n",
        "arbres['domanialite'].size"
      ],
      "execution_count": null,
      "outputs": [
        {
          "output_type": "execute_result",
          "data": {
            "text/plain": [
              "204909"
            ]
          },
          "metadata": {
            "tags": []
          },
          "execution_count": 40
        }
      ]
    },
    {
      "cell_type": "code",
      "metadata": {
        "colab": {
          "base_uri": "https://localhost:8080/",
          "height": 206
        },
        "id": "qanwYKLUFiSn",
        "outputId": "3c4d2929-e1f9-4968-a5ab-7a594d38446a"
      },
      "source": [
        "#Réorganiser la table\r\n",
        "\r\n",
        "arbresok = arbres[[\"idbase\", \"domanialite\", \"arrondissement\", \"libellefrancais\", \"hauteurenm\", \"geo_point_2d\"]]\r\n",
        "arbresok.head()"
      ],
      "execution_count": null,
      "outputs": [
        {
          "output_type": "execute_result",
          "data": {
            "text/html": [
              "<div>\n",
              "<style scoped>\n",
              "    .dataframe tbody tr th:only-of-type {\n",
              "        vertical-align: middle;\n",
              "    }\n",
              "\n",
              "    .dataframe tbody tr th {\n",
              "        vertical-align: top;\n",
              "    }\n",
              "\n",
              "    .dataframe thead th {\n",
              "        text-align: right;\n",
              "    }\n",
              "</style>\n",
              "<table border=\"1\" class=\"dataframe\">\n",
              "  <thead>\n",
              "    <tr style=\"text-align: right;\">\n",
              "      <th></th>\n",
              "      <th>idbase</th>\n",
              "      <th>domanialite</th>\n",
              "      <th>arrondissement</th>\n",
              "      <th>libellefrancais</th>\n",
              "      <th>hauteurenm</th>\n",
              "      <th>geo_point_2d</th>\n",
              "    </tr>\n",
              "  </thead>\n",
              "  <tbody>\n",
              "    <tr>\n",
              "      <th>0</th>\n",
              "      <td>2029277</td>\n",
              "      <td>DJS</td>\n",
              "      <td>PARIS 19E ARRDT</td>\n",
              "      <td>Copalme</td>\n",
              "      <td>5</td>\n",
              "      <td>48.8910678703,2.39818911237</td>\n",
              "    </tr>\n",
              "    <tr>\n",
              "      <th>1</th>\n",
              "      <td>251547</td>\n",
              "      <td>Alignement</td>\n",
              "      <td>PARIS 16E ARRDT</td>\n",
              "      <td>Platane</td>\n",
              "      <td>20</td>\n",
              "      <td>48.8649086201,2.2993502247</td>\n",
              "    </tr>\n",
              "    <tr>\n",
              "      <th>2</th>\n",
              "      <td>282670</td>\n",
              "      <td>Alignement</td>\n",
              "      <td>PARIS 8E ARRDT</td>\n",
              "      <td>Platane</td>\n",
              "      <td>12</td>\n",
              "      <td>48.8740816418,2.31454494358</td>\n",
              "    </tr>\n",
              "    <tr>\n",
              "      <th>3</th>\n",
              "      <td>185672</td>\n",
              "      <td>DASCO</td>\n",
              "      <td>PARIS 20E ARRDT</td>\n",
              "      <td>Bouleau</td>\n",
              "      <td>12</td>\n",
              "      <td>48.8732579515,2.3942408403</td>\n",
              "    </tr>\n",
              "    <tr>\n",
              "      <th>4</th>\n",
              "      <td>219422</td>\n",
              "      <td>Alignement</td>\n",
              "      <td>PARIS 8E ARRDT</td>\n",
              "      <td>Platane</td>\n",
              "      <td>9</td>\n",
              "      <td>48.8751388795,2.31742365137</td>\n",
              "    </tr>\n",
              "  </tbody>\n",
              "</table>\n",
              "</div>"
            ],
            "text/plain": [
              "    idbase domanialite  ... hauteurenm                 geo_point_2d\n",
              "0  2029277         DJS  ...          5  48.8910678703,2.39818911237\n",
              "1   251547  Alignement  ...         20   48.8649086201,2.2993502247\n",
              "2   282670  Alignement  ...         12  48.8740816418,2.31454494358\n",
              "3   185672       DASCO  ...         12   48.8732579515,2.3942408403\n",
              "4   219422  Alignement  ...          9  48.8751388795,2.31742365137\n",
              "\n",
              "[5 rows x 6 columns]"
            ]
          },
          "metadata": {
            "tags": []
          },
          "execution_count": 64
        }
      ]
    },
    {
      "cell_type": "code",
      "metadata": {
        "colab": {
          "base_uri": "https://localhost:8080/",
          "height": 300
        },
        "id": "rU4hoWhhFiSs",
        "outputId": "c2630f47-0047-4318-eb31-569b5ccb3fc7"
      },
      "source": [
        "# Renommer les champs\r\n",
        "\r\n",
        "arbresok.rename(columns={'idbase': 'id','libellefrancais': 'type','hauteurenm': 'hauteur'}, inplace=True)\r\n",
        "arbresok.head()"
      ],
      "execution_count": null,
      "outputs": [
        {
          "output_type": "stream",
          "text": [
            "/usr/local/lib/python3.7/dist-packages/pandas/core/frame.py:4308: SettingWithCopyWarning: \n",
            "A value is trying to be set on a copy of a slice from a DataFrame\n",
            "\n",
            "See the caveats in the documentation: https://pandas.pydata.org/pandas-docs/stable/user_guide/indexing.html#returning-a-view-versus-a-copy\n",
            "  errors=errors,\n"
          ],
          "name": "stderr"
        },
        {
          "output_type": "execute_result",
          "data": {
            "text/html": [
              "<div>\n",
              "<style scoped>\n",
              "    .dataframe tbody tr th:only-of-type {\n",
              "        vertical-align: middle;\n",
              "    }\n",
              "\n",
              "    .dataframe tbody tr th {\n",
              "        vertical-align: top;\n",
              "    }\n",
              "\n",
              "    .dataframe thead th {\n",
              "        text-align: right;\n",
              "    }\n",
              "</style>\n",
              "<table border=\"1\" class=\"dataframe\">\n",
              "  <thead>\n",
              "    <tr style=\"text-align: right;\">\n",
              "      <th></th>\n",
              "      <th>id</th>\n",
              "      <th>domanialite</th>\n",
              "      <th>arrondissement</th>\n",
              "      <th>type</th>\n",
              "      <th>hauteur</th>\n",
              "      <th>geo_point_2d</th>\n",
              "    </tr>\n",
              "  </thead>\n",
              "  <tbody>\n",
              "    <tr>\n",
              "      <th>0</th>\n",
              "      <td>2029277</td>\n",
              "      <td>DJS</td>\n",
              "      <td>PARIS 19E ARRDT</td>\n",
              "      <td>Copalme</td>\n",
              "      <td>5</td>\n",
              "      <td>48.8910678703,2.39818911237</td>\n",
              "    </tr>\n",
              "    <tr>\n",
              "      <th>1</th>\n",
              "      <td>251547</td>\n",
              "      <td>Alignement</td>\n",
              "      <td>PARIS 16E ARRDT</td>\n",
              "      <td>Platane</td>\n",
              "      <td>20</td>\n",
              "      <td>48.8649086201,2.2993502247</td>\n",
              "    </tr>\n",
              "    <tr>\n",
              "      <th>2</th>\n",
              "      <td>282670</td>\n",
              "      <td>Alignement</td>\n",
              "      <td>PARIS 8E ARRDT</td>\n",
              "      <td>Platane</td>\n",
              "      <td>12</td>\n",
              "      <td>48.8740816418,2.31454494358</td>\n",
              "    </tr>\n",
              "    <tr>\n",
              "      <th>3</th>\n",
              "      <td>185672</td>\n",
              "      <td>DASCO</td>\n",
              "      <td>PARIS 20E ARRDT</td>\n",
              "      <td>Bouleau</td>\n",
              "      <td>12</td>\n",
              "      <td>48.8732579515,2.3942408403</td>\n",
              "    </tr>\n",
              "    <tr>\n",
              "      <th>4</th>\n",
              "      <td>219422</td>\n",
              "      <td>Alignement</td>\n",
              "      <td>PARIS 8E ARRDT</td>\n",
              "      <td>Platane</td>\n",
              "      <td>9</td>\n",
              "      <td>48.8751388795,2.31742365137</td>\n",
              "    </tr>\n",
              "  </tbody>\n",
              "</table>\n",
              "</div>"
            ],
            "text/plain": [
              "        id domanialite  ... hauteur                 geo_point_2d\n",
              "0  2029277         DJS  ...       5  48.8910678703,2.39818911237\n",
              "1   251547  Alignement  ...      20   48.8649086201,2.2993502247\n",
              "2   282670  Alignement  ...      12  48.8740816418,2.31454494358\n",
              "3   185672       DASCO  ...      12   48.8732579515,2.3942408403\n",
              "4   219422  Alignement  ...       9  48.8751388795,2.31742365137\n",
              "\n",
              "[5 rows x 6 columns]"
            ]
          },
          "metadata": {
            "tags": []
          },
          "execution_count": 65
        }
      ]
    },
    {
      "cell_type": "code",
      "metadata": {
        "colab": {
          "base_uri": "https://localhost:8080/",
          "height": 661
        },
        "id": "7qDgfzyJ9Vyl",
        "outputId": "9b88214c-882c-4984-c8c2-3863d518e6ec"
      },
      "source": [
        "#Compter le nombre d'arbres par arrondissement\r\n",
        "\r\n",
        "ArbresARDT = arbresok[[\"arrondissement\", \"id\"]].groupby(\"arrondissement\").count()\r\n",
        "ArbresARDT.plot(figsize =(15,5), kind=\"bar\")\r\n",
        "plt.title(\"Nb d'arbres par Ardt\")\r\n",
        "plt.xlabel(\"Arrondissement\")\r\n",
        "plt.ylabel(\"Nb d'arbres\")\r\n",
        "ArbresARDT.head()\r\n"
      ],
      "execution_count": null,
      "outputs": [
        {
          "output_type": "execute_result",
          "data": {
            "text/html": [
              "<div>\n",
              "<style scoped>\n",
              "    .dataframe tbody tr th:only-of-type {\n",
              "        vertical-align: middle;\n",
              "    }\n",
              "\n",
              "    .dataframe tbody tr th {\n",
              "        vertical-align: top;\n",
              "    }\n",
              "\n",
              "    .dataframe thead th {\n",
              "        text-align: right;\n",
              "    }\n",
              "</style>\n",
              "<table border=\"1\" class=\"dataframe\">\n",
              "  <thead>\n",
              "    <tr style=\"text-align: right;\">\n",
              "      <th></th>\n",
              "      <th>id</th>\n",
              "    </tr>\n",
              "    <tr>\n",
              "      <th>arrondissement</th>\n",
              "      <th></th>\n",
              "    </tr>\n",
              "  </thead>\n",
              "  <tbody>\n",
              "    <tr>\n",
              "      <th>BOIS DE BOULOGNE</th>\n",
              "      <td>4117</td>\n",
              "    </tr>\n",
              "    <tr>\n",
              "      <th>BOIS DE VINCENNES</th>\n",
              "      <td>11835</td>\n",
              "    </tr>\n",
              "    <tr>\n",
              "      <th>HAUTS-DE-SEINE</th>\n",
              "      <td>5417</td>\n",
              "    </tr>\n",
              "    <tr>\n",
              "      <th>PARIS 10E ARRDT</th>\n",
              "      <td>3408</td>\n",
              "    </tr>\n",
              "    <tr>\n",
              "      <th>PARIS 11E ARRDT</th>\n",
              "      <td>5908</td>\n",
              "    </tr>\n",
              "  </tbody>\n",
              "</table>\n",
              "</div>"
            ],
            "text/plain": [
              "                      id\n",
              "arrondissement          \n",
              "BOIS DE BOULOGNE    4117\n",
              "BOIS DE VINCENNES  11835\n",
              "HAUTS-DE-SEINE      5417\n",
              "PARIS 10E ARRDT     3408\n",
              "PARIS 11E ARRDT     5908"
            ]
          },
          "metadata": {
            "tags": []
          },
          "execution_count": 66
        },
        {
          "output_type": "display_data",
          "data": {
            "image/png": "[encoded data removed]",
            "text/plain": [
              "<Figure size 1080x360 with 1 Axes>"
            ]
          },
          "metadata": {
            "tags": [],
            "needs_background": "light"
          }
        }
      ]
    },
    {
      "cell_type": "code",
      "metadata": {
        "colab": {
          "base_uri": "https://localhost:8080/",
          "height": 633
        },
        "id": "qVNX0yqU-0pK",
        "outputId": "fda4564d-c0aa-4424-8ad6-cc99e1ae8086"
      },
      "source": [
        "#Compter le nombre d'arbres par type de domanialité\r\n",
        "\r\n",
        "ArbresDomanialite = arbresok[[\"domanialite\", \"id\"]].groupby(\"domanialite\").count()\r\n",
        "ArbresDomanialite.plot(figsize =(15,5), kind=\"bar\")\r\n",
        "plt.title(\"Nb d'arbres par domanialité\")\r\n",
        "plt.xlabel(\"Domanialité\")\r\n",
        "plt.ylabel(\"Nb d'arbres\")\r\n",
        "ArbresDomanialite.head()"
      ],
      "execution_count": null,
      "outputs": [
        {
          "output_type": "execute_result",
          "data": {
            "text/html": [
              "<div>\n",
              "<style scoped>\n",
              "    .dataframe tbody tr th:only-of-type {\n",
              "        vertical-align: middle;\n",
              "    }\n",
              "\n",
              "    .dataframe tbody tr th {\n",
              "        vertical-align: top;\n",
              "    }\n",
              "\n",
              "    .dataframe thead th {\n",
              "        text-align: right;\n",
              "    }\n",
              "</style>\n",
              "<table border=\"1\" class=\"dataframe\">\n",
              "  <thead>\n",
              "    <tr style=\"text-align: right;\">\n",
              "      <th></th>\n",
              "      <th>id</th>\n",
              "    </tr>\n",
              "    <tr>\n",
              "      <th>domanialite</th>\n",
              "      <th></th>\n",
              "    </tr>\n",
              "  </thead>\n",
              "  <tbody>\n",
              "    <tr>\n",
              "      <th>Alignement</th>\n",
              "      <td>106155</td>\n",
              "    </tr>\n",
              "    <tr>\n",
              "      <th>CIMETIERE</th>\n",
              "      <td>32161</td>\n",
              "    </tr>\n",
              "    <tr>\n",
              "      <th>DAC</th>\n",
              "      <td>27</td>\n",
              "    </tr>\n",
              "    <tr>\n",
              "      <th>DASCO</th>\n",
              "      <td>7204</td>\n",
              "    </tr>\n",
              "    <tr>\n",
              "      <th>DASES</th>\n",
              "      <td>11</td>\n",
              "    </tr>\n",
              "  </tbody>\n",
              "</table>\n",
              "</div>"
            ],
            "text/plain": [
              "                 id\n",
              "domanialite        \n",
              "Alignement   106155\n",
              "CIMETIERE     32161\n",
              "DAC              27\n",
              "DASCO          7204\n",
              "DASES            11"
            ]
          },
          "metadata": {
            "tags": []
          },
          "execution_count": 50
        },
        {
          "output_type": "display_data",
          "data": {
            "image/png": "[encoded data removed]",
            "text/plain": [
              "<Figure size 1080x360 with 1 Axes>"
            ]
          },
          "metadata": {
            "tags": [],
            "needs_background": "light"
          }
        }
      ]
    },
    {
      "cell_type": "code",
      "metadata": {
        "colab": {
          "base_uri": "https://localhost:8080/",
          "height": 706
        },
        "id": "LIx7UgckHDRo",
        "outputId": "20332e6c-13c2-447c-ffe4-d480da88926f"
      },
      "source": [
        "# Calculer la hauteur moyenne des arbres par type d'arbres\r\n",
        "\r\n",
        "HauteurType = arbresok[[\"type\", \"hauteur\"]].groupby(\"type\").mean()\r\n",
        "HauteurType.plot(figsize =(15,5), kind=\"bar\")\r\n",
        "plt.xlabel(\"Type\")\r\n",
        "plt.ylabel(\"hauteur moyenne\")\r\n",
        "HauteurType.head()"
      ],
      "execution_count": null,
      "outputs": [
        {
          "output_type": "execute_result",
          "data": {
            "text/html": [
              "<div>\n",
              "<style scoped>\n",
              "    .dataframe tbody tr th:only-of-type {\n",
              "        vertical-align: middle;\n",
              "    }\n",
              "\n",
              "    .dataframe tbody tr th {\n",
              "        vertical-align: top;\n",
              "    }\n",
              "\n",
              "    .dataframe thead th {\n",
              "        text-align: right;\n",
              "    }\n",
              "</style>\n",
              "<table border=\"1\" class=\"dataframe\">\n",
              "  <thead>\n",
              "    <tr style=\"text-align: right;\">\n",
              "      <th></th>\n",
              "      <th>hauteur</th>\n",
              "    </tr>\n",
              "    <tr>\n",
              "      <th>type</th>\n",
              "      <th></th>\n",
              "    </tr>\n",
              "  </thead>\n",
              "  <tbody>\n",
              "    <tr>\n",
              "      <th>Abelia</th>\n",
              "      <td>5.500000</td>\n",
              "    </tr>\n",
              "    <tr>\n",
              "      <th>Abricotier</th>\n",
              "      <td>2.379310</td>\n",
              "    </tr>\n",
              "    <tr>\n",
              "      <th>Abricotier fruit</th>\n",
              "      <td>2.000000</td>\n",
              "    </tr>\n",
              "    <tr>\n",
              "      <th>Ailante</th>\n",
              "      <td>8.520373</td>\n",
              "    </tr>\n",
              "    <tr>\n",
              "      <th>Alangium</th>\n",
              "      <td>2.333333</td>\n",
              "    </tr>\n",
              "  </tbody>\n",
              "</table>\n",
              "</div>"
            ],
            "text/plain": [
              "                   hauteur\n",
              "type                      \n",
              "Abelia            5.500000\n",
              "Abricotier        2.379310\n",
              "Abricotier fruit  2.000000\n",
              "Ailante           8.520373\n",
              "Alangium          2.333333"
            ]
          },
          "metadata": {
            "tags": []
          },
          "execution_count": 52
        },
        {
          "output_type": "display_data",
          "data": {
            "image/png": "[encoded data removed]",
            "text/plain": [
              "<Figure size 1080x360 with 1 Axes>"
            ]
          },
          "metadata": {
            "tags": [],
            "needs_background": "light"
          }
        }
      ]
    },
    {
      "cell_type": "code",
      "metadata": {
        "colab": {
          "base_uri": "https://localhost:8080/",
          "height": 649
        },
        "id": "WNjFYAGFHdA2",
        "outputId": "7beb5ee6-ddd9-45b7-cd70-5d147cb7ba3e"
      },
      "source": [
        "# Calculer la hauteur moyenne des arbres par ardt\r\n",
        "\r\n",
        "HauteurType = arbresok[[\"arrondissement\", \"hauteur\"]].groupby(\"arrondissement\").mean()\r\n",
        "HauteurType.plot(figsize =(15,5), kind=\"bar\")\r\n",
        "plt.xlabel(\"Type\")\r\n",
        "plt.ylabel(\"hauteur moyenne\")\r\n",
        "HauteurType.head()"
      ],
      "execution_count": null,
      "outputs": [
        {
          "output_type": "execute_result",
          "data": {
            "text/html": [
              "<div>\n",
              "<style scoped>\n",
              "    .dataframe tbody tr th:only-of-type {\n",
              "        vertical-align: middle;\n",
              "    }\n",
              "\n",
              "    .dataframe tbody tr th {\n",
              "        vertical-align: top;\n",
              "    }\n",
              "\n",
              "    .dataframe thead th {\n",
              "        text-align: right;\n",
              "    }\n",
              "</style>\n",
              "<table border=\"1\" class=\"dataframe\">\n",
              "  <thead>\n",
              "    <tr style=\"text-align: right;\">\n",
              "      <th></th>\n",
              "      <th>hauteur</th>\n",
              "    </tr>\n",
              "    <tr>\n",
              "      <th>arrondissement</th>\n",
              "      <th></th>\n",
              "    </tr>\n",
              "  </thead>\n",
              "  <tbody>\n",
              "    <tr>\n",
              "      <th>BOIS DE BOULOGNE</th>\n",
              "      <td>13.334224</td>\n",
              "    </tr>\n",
              "    <tr>\n",
              "      <th>BOIS DE VINCENNES</th>\n",
              "      <td>9.467596</td>\n",
              "    </tr>\n",
              "    <tr>\n",
              "      <th>HAUTS-DE-SEINE</th>\n",
              "      <td>2.106147</td>\n",
              "    </tr>\n",
              "    <tr>\n",
              "      <th>PARIS 10E ARRDT</th>\n",
              "      <td>10.675176</td>\n",
              "    </tr>\n",
              "    <tr>\n",
              "      <th>PARIS 11E ARRDT</th>\n",
              "      <td>10.854096</td>\n",
              "    </tr>\n",
              "  </tbody>\n",
              "</table>\n",
              "</div>"
            ],
            "text/plain": [
              "                     hauteur\n",
              "arrondissement              \n",
              "BOIS DE BOULOGNE   13.334224\n",
              "BOIS DE VINCENNES   9.467596\n",
              "HAUTS-DE-SEINE      2.106147\n",
              "PARIS 10E ARRDT    10.675176\n",
              "PARIS 11E ARRDT    10.854096"
            ]
          },
          "metadata": {
            "tags": []
          },
          "execution_count": 53
        },
        {
          "output_type": "display_data",
          "data": {
            "image/png": "[encoded data removed]",
            "text/plain": [
              "<Figure size 1080x360 with 1 Axes>"
            ]
          },
          "metadata": {
            "tags": [],
            "needs_background": "light"
          }
        }
      ]
    },
    {
      "cell_type": "code",
      "metadata": {
        "colab": {
          "base_uri": "https://localhost:8080/",
          "height": 319
        },
        "id": "veFoYcu8Aqo_",
        "outputId": "f8d91893-745f-4db3-dc67-e5840834cfd9"
      },
      "source": [
        "#Séparer la colonne des coordonnées géographiques\r\n",
        "\r\n",
        "arbresok[['Latitude','Longitude']] = arbresok['geo_point_2d'].str.split(',', expand=True)\r\n",
        "arbresok.head()\r\n"
      ],
      "execution_count": null,
      "outputs": [
        {
          "output_type": "stream",
          "text": [
            "/usr/local/lib/python3.7/dist-packages/pandas/core/frame.py:3069: SettingWithCopyWarning: \n",
            "A value is trying to be set on a copy of a slice from a DataFrame.\n",
            "Try using .loc[row_indexer,col_indexer] = value instead\n",
            "\n",
            "See the caveats in the documentation: https://pandas.pydata.org/pandas-docs/stable/user_guide/indexing.html#returning-a-view-versus-a-copy\n",
            "  self[k1] = value[k2]\n"
          ],
          "name": "stderr"
        },
        {
          "output_type": "execute_result",
          "data": {
            "text/html": [
              "<div>\n",
              "<style scoped>\n",
              "    .dataframe tbody tr th:only-of-type {\n",
              "        vertical-align: middle;\n",
              "    }\n",
              "\n",
              "    .dataframe tbody tr th {\n",
              "        vertical-align: top;\n",
              "    }\n",
              "\n",
              "    .dataframe thead th {\n",
              "        text-align: right;\n",
              "    }\n",
              "</style>\n",
              "<table border=\"1\" class=\"dataframe\">\n",
              "  <thead>\n",
              "    <tr style=\"text-align: right;\">\n",
              "      <th></th>\n",
              "      <th>id</th>\n",
              "      <th>domanialite</th>\n",
              "      <th>arrondissement</th>\n",
              "      <th>type</th>\n",
              "      <th>hauteur</th>\n",
              "      <th>geo_point_2d</th>\n",
              "      <th>Latitude</th>\n",
              "      <th>Longitude</th>\n",
              "    </tr>\n",
              "  </thead>\n",
              "  <tbody>\n",
              "    <tr>\n",
              "      <th>0</th>\n",
              "      <td>2029277</td>\n",
              "      <td>DJS</td>\n",
              "      <td>PARIS 19E ARRDT</td>\n",
              "      <td>Copalme</td>\n",
              "      <td>5</td>\n",
              "      <td>48.8910678703,2.39818911237</td>\n",
              "      <td>48.8910678703</td>\n",
              "      <td>2.39818911237</td>\n",
              "    </tr>\n",
              "    <tr>\n",
              "      <th>1</th>\n",
              "      <td>251547</td>\n",
              "      <td>Alignement</td>\n",
              "      <td>PARIS 16E ARRDT</td>\n",
              "      <td>Platane</td>\n",
              "      <td>20</td>\n",
              "      <td>48.8649086201,2.2993502247</td>\n",
              "      <td>48.8649086201</td>\n",
              "      <td>2.2993502247</td>\n",
              "    </tr>\n",
              "    <tr>\n",
              "      <th>2</th>\n",
              "      <td>282670</td>\n",
              "      <td>Alignement</td>\n",
              "      <td>PARIS 8E ARRDT</td>\n",
              "      <td>Platane</td>\n",
              "      <td>12</td>\n",
              "      <td>48.8740816418,2.31454494358</td>\n",
              "      <td>48.8740816418</td>\n",
              "      <td>2.31454494358</td>\n",
              "    </tr>\n",
              "    <tr>\n",
              "      <th>3</th>\n",
              "      <td>185672</td>\n",
              "      <td>DASCO</td>\n",
              "      <td>PARIS 20E ARRDT</td>\n",
              "      <td>Bouleau</td>\n",
              "      <td>12</td>\n",
              "      <td>48.8732579515,2.3942408403</td>\n",
              "      <td>48.8732579515</td>\n",
              "      <td>2.3942408403</td>\n",
              "    </tr>\n",
              "    <tr>\n",
              "      <th>4</th>\n",
              "      <td>219422</td>\n",
              "      <td>Alignement</td>\n",
              "      <td>PARIS 8E ARRDT</td>\n",
              "      <td>Platane</td>\n",
              "      <td>9</td>\n",
              "      <td>48.8751388795,2.31742365137</td>\n",
              "      <td>48.8751388795</td>\n",
              "      <td>2.31742365137</td>\n",
              "    </tr>\n",
              "  </tbody>\n",
              "</table>\n",
              "</div>"
            ],
            "text/plain": [
              "        id domanialite  ...       Latitude      Longitude\n",
              "0  2029277         DJS  ...  48.8910678703  2.39818911237\n",
              "1   251547  Alignement  ...  48.8649086201   2.2993502247\n",
              "2   282670  Alignement  ...  48.8740816418  2.31454494358\n",
              "3   185672       DASCO  ...  48.8732579515   2.3942408403\n",
              "4   219422  Alignement  ...  48.8751388795  2.31742365137\n",
              "\n",
              "[5 rows x 8 columns]"
            ]
          },
          "metadata": {
            "tags": []
          },
          "execution_count": 67
        }
      ]
    },
    {
      "cell_type": "code",
      "metadata": {
        "colab": {
          "base_uri": "https://localhost:8080/",
          "height": 206
        },
        "id": "5NmIBLoLIGDk",
        "outputId": "4f44647e-55a0-4644-d488-3871a54177a3"
      },
      "source": [
        "# Ne garder que les chênes, les Erables et les  Frênes\r\n",
        "\r\n",
        "Arbresselect = arbresok[(arbresok[\"type\"] == 'Chêne') | (arbresok[\"type\"] == 'Erable')| (arbresok[\"type\"] == 'Frêne')]\r\n",
        "Arbresselect.head()"
      ],
      "execution_count": null,
      "outputs": [
        {
          "output_type": "execute_result",
          "data": {
            "text/html": [
              "<div>\n",
              "<style scoped>\n",
              "    .dataframe tbody tr th:only-of-type {\n",
              "        vertical-align: middle;\n",
              "    }\n",
              "\n",
              "    .dataframe tbody tr th {\n",
              "        vertical-align: top;\n",
              "    }\n",
              "\n",
              "    .dataframe thead th {\n",
              "        text-align: right;\n",
              "    }\n",
              "</style>\n",
              "<table border=\"1\" class=\"dataframe\">\n",
              "  <thead>\n",
              "    <tr style=\"text-align: right;\">\n",
              "      <th></th>\n",
              "      <th>id</th>\n",
              "      <th>domanialite</th>\n",
              "      <th>arrondissement</th>\n",
              "      <th>type</th>\n",
              "      <th>hauteur</th>\n",
              "      <th>geo_point_2d</th>\n",
              "      <th>Latitude</th>\n",
              "      <th>Longitude</th>\n",
              "    </tr>\n",
              "  </thead>\n",
              "  <tbody>\n",
              "    <tr>\n",
              "      <th>13</th>\n",
              "      <td>229337</td>\n",
              "      <td>Alignement</td>\n",
              "      <td>PARIS 16E ARRDT</td>\n",
              "      <td>Chêne</td>\n",
              "      <td>6</td>\n",
              "      <td>48.8424636191,2.25577123939</td>\n",
              "      <td>48.8424636191</td>\n",
              "      <td>2.25577123939</td>\n",
              "    </tr>\n",
              "    <tr>\n",
              "      <th>24</th>\n",
              "      <td>131445</td>\n",
              "      <td>Jardin</td>\n",
              "      <td>PARIS 15E ARRDT</td>\n",
              "      <td>Erable</td>\n",
              "      <td>0</td>\n",
              "      <td>48.8299320401,2.27428795161</td>\n",
              "      <td>48.8299320401</td>\n",
              "      <td>2.27428795161</td>\n",
              "    </tr>\n",
              "    <tr>\n",
              "      <th>42</th>\n",
              "      <td>312555</td>\n",
              "      <td>Jardin</td>\n",
              "      <td>PARIS 8E ARRDT</td>\n",
              "      <td>Erable</td>\n",
              "      <td>10</td>\n",
              "      <td>48.8790253976,2.30733282782</td>\n",
              "      <td>48.8790253976</td>\n",
              "      <td>2.30733282782</td>\n",
              "    </tr>\n",
              "    <tr>\n",
              "      <th>64</th>\n",
              "      <td>214223</td>\n",
              "      <td>Alignement</td>\n",
              "      <td>PARIS 14E ARRDT</td>\n",
              "      <td>Frêne</td>\n",
              "      <td>8</td>\n",
              "      <td>48.8198742284,2.34410853627</td>\n",
              "      <td>48.8198742284</td>\n",
              "      <td>2.34410853627</td>\n",
              "    </tr>\n",
              "    <tr>\n",
              "      <th>84</th>\n",
              "      <td>108440</td>\n",
              "      <td>Jardin</td>\n",
              "      <td>PARIS 16E ARRDT</td>\n",
              "      <td>Erable</td>\n",
              "      <td>17</td>\n",
              "      <td>48.8599544085,2.28785356435</td>\n",
              "      <td>48.8599544085</td>\n",
              "      <td>2.28785356435</td>\n",
              "    </tr>\n",
              "  </tbody>\n",
              "</table>\n",
              "</div>"
            ],
            "text/plain": [
              "        id domanialite  ...       Latitude      Longitude\n",
              "13  229337  Alignement  ...  48.8424636191  2.25577123939\n",
              "24  131445      Jardin  ...  48.8299320401  2.27428795161\n",
              "42  312555      Jardin  ...  48.8790253976  2.30733282782\n",
              "64  214223  Alignement  ...  48.8198742284  2.34410853627\n",
              "84  108440      Jardin  ...  48.8599544085  2.28785356435\n",
              "\n",
              "[5 rows x 8 columns]"
            ]
          },
          "metadata": {
            "tags": []
          },
          "execution_count": 69
        }
      ]
    },
    {
      "cell_type": "code",
      "metadata": {
        "colab": {
          "base_uri": "https://localhost:8080/",
          "height": 341
        },
        "id": "Mkn61lE9L3LV",
        "outputId": "2d628e47-6228-420b-e225-1f0023278f25"
      },
      "source": [
        "# Visualisation (pie)\r\n",
        "\r\n",
        "les3arbres = Arbresselect[[\"type\", \"id\"]].groupby(\"type\").count()\r\n",
        "les3arbres.plot.pie(y='id', figsize=(5, 5), subplots=True)"
      ],
      "execution_count": null,
      "outputs": [
        {
          "output_type": "execute_result",
          "data": {
            "text/plain": [
              "array([<matplotlib.axes._subplots.AxesSubplot object at 0x7f1cc1bd14d0>],\n",
              "      dtype=object)"
            ]
          },
          "metadata": {
            "tags": []
          },
          "execution_count": 82
        },
        {
          "output_type": "display_data",
          "data": {
            "image/png": "[encoded data removed]",
            "text/plain": [
              "<Figure size 360x360 with 1 Axes>"
            ]
          },
          "metadata": {
            "tags": []
          }
        }
      ]
    },
    {
      "cell_type": "code",
      "metadata": {
        "colab": {
          "base_uri": "https://localhost:8080/",
          "height": 697
        },
        "id": "bh846HvMA-Y9",
        "outputId": "cb45c8b7-8836-4b1c-bcad-ef72592d9f1a"
      },
      "source": [
        "#Dataframe to GeoDataframe\r\n",
        "\r\n",
        "Arbresselect = gpd.GeoDataFrame(Arbresselect, crs = 'epsg:4326', geometry=gpd.points_from_xy(Arbresselect.Longitude, Arbresselect.Latitude))\r\n",
        "Arbresselect.plot(figsize=(10,12), markersize=0.2, column = \"type\", legend = 'true')"
      ],
      "execution_count": null,
      "outputs": [
        {
          "output_type": "execute_result",
          "data": {
            "text/plain": [
              "<matplotlib.axes._subplots.AxesSubplot at 0x7f1cc2561a50>"
            ]
          },
          "metadata": {
            "tags": []
          },
          "execution_count": 73
        },
        {
          "output_type": "display_data",
          "data": {
            "image/png": "[encoded data removed]",
            "text/plain": [
              "<Figure size 720x864 with 1 Axes>"
            ]
          },
          "metadata": {
            "tags": [],
            "needs_background": "light"
          }
        }
      ]
    }
  ]
}