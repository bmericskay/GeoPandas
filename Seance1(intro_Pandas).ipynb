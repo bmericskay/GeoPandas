{
  "nbformat": 4,
  "nbformat_minor": 0,
  "metadata": {
    "colab": {
      "name": "Séance 1 (intro Pandas)",
      "provenance": [],
      "collapsed_sections": [],
      "authorship_tag": "ABX9TyNenuojOYHqT0iF02EYSc9Q",
      "include_colab_link": true
    },
    "kernelspec": {
      "name": "python3",
      "display_name": "Python 3"
    }
  },
  "cells": [
    {
      "cell_type": "markdown",
      "metadata": {
        "id": "view-in-github",
        "colab_type": "text"
      },
      "source": [
        "<a href=\"https://colab.research.google.com/github/mastersigat/GeoPandas/blob/main/S%C3%A9ance_1_(intro_Pandas).ipynb\" target=\"_parent\"><img src=\"https://colab.research.google.com/assets/colab-badge.svg\" alt=\"Open In Colab\"/></a>"
      ]
    },
    {
      "cell_type": "markdown",
      "metadata": {
        "id": "PDNscZUy5ZVP"
      },
      "source": [
        "# Séance 1 / Introduction à pandas"
      ]
    },
    {
      "cell_type": "markdown",
      "metadata": {
        "id": "8PNwl1fDjWRU"
      },
      "source": [
        "## Configuration de l'environnement de travail\r\n",
        "\r\n",
        "https://colab.research.google.com/notebooks/intro.ipynb\r\n",
        "\r\n",
        "\r\n"
      ]
    },
    {
      "cell_type": "code",
      "metadata": {
        "id": "U_wo94BSjWRy"
      },
      "source": [
        "#Initialisation de l'environnement avec geopandas\r\n",
        "!apt update\r\n",
        "!apt install gdal-bin python-gdal python3-gdal \r\n",
        "# Install rtree - Geopandas requirment\r\n",
        "!apt install python3-rtree \r\n",
        "# Install Geopandas\r\n",
        "!pip install git+git://github.com/geopandas/geopandas.git\r\n",
        "# Instal contextily\r\n",
        "!pip install contextily\r\n",
        "#Depuis sa version 0.8, Geopandas peut fonctionner de manière expérimental avec Pygeos ce qui accèlère certaines opérations\r\n",
        "!pip install pygeos\r\n"
      ],
      "execution_count": null,
      "outputs": []
    },
    {
      "cell_type": "code",
      "metadata": {
        "id": "pyScSRHsjWR7"
      },
      "source": [
        "#Importation des librairies nécessaires\r\n",
        "import pandas as pd #Gestion de données\r\n",
        "import matplotlib.pyplot as plt #Visualisation de données\r\n",
        "import geopandas as gpd #Gestion données sptiales\r\n",
        "import contextily as ctx #Fond de carte\r\n",
        "import os\r\n",
        "import numpy as np\r\n",
        "import shapely"
      ],
      "execution_count": null,
      "outputs": []
    },
    {
      "cell_type": "markdown",
      "metadata": {
        "id": "x_ttJ_XU43Za"
      },
      "source": [
        "## Téléchargement des données"
      ]
    },
    {
      "cell_type": "code",
      "metadata": {
        "id": "z9Nb8AAXjWSC"
      },
      "source": [
        "#Téléchargement des datas depuis le site opendata de Paris\r\n",
        "!wget -O Espacesverts.csv https://opendata.paris.fr/explore/dataset/espaces_verts/download/?format=csv&timezone=Europe/Berlin&lang=fr&use_labels_for_header=true&csv_separator=%3B"
      ],
      "execution_count": null,
      "outputs": []
    },
    {
      "cell_type": "markdown",
      "metadata": {
        "id": "JW5VMs5IaZR9"
      },
      "source": [
        "## Exploration du jeux de données des espaces verts\r\n"
      ]
    },
    {
      "cell_type": "code",
      "metadata": {
        "colab": {
          "base_uri": "https://localhost:8080/",
          "height": 521
        },
        "id": "pDPmszCQQaM8",
        "outputId": "112634ce-78bd-4b98-87d2-ce1b2f30417b"
      },
      "source": [
        "#Importer CSV to dataframe\r\n",
        "\r\n",
        "Espacesverts = pd.read_csv(\"Espacesverts.csv\", sep=';')\r\n",
        "Espacesverts.head()"
      ],
      "execution_count": 4,
      "outputs": [
        {
          "output_type": "execute_result",
          "data": {
            "text/html": [
              "<div>\n",
              "<style scoped>\n",
              "    .dataframe tbody tr th:only-of-type {\n",
              "        vertical-align: middle;\n",
              "    }\n",
              "\n",
              "    .dataframe tbody tr th {\n",
              "        vertical-align: top;\n",
              "    }\n",
              "\n",
              "    .dataframe thead th {\n",
              "        text-align: right;\n",
              "    }\n",
              "</style>\n",
              "<table border=\"1\" class=\"dataframe\">\n",
              "  <thead>\n",
              "    <tr style=\"text-align: right;\">\n",
              "      <th></th>\n",
              "      <th>nsq_espace_vert</th>\n",
              "      <th>nom_ev</th>\n",
              "      <th>type_ev</th>\n",
              "      <th>categorie</th>\n",
              "      <th>adresse_numero</th>\n",
              "      <th>adresse_complement</th>\n",
              "      <th>adresse_typevoie</th>\n",
              "      <th>adresse_libellevoie</th>\n",
              "      <th>adresse_codepostal</th>\n",
              "      <th>poly_area</th>\n",
              "      <th>surface_totale_reelle</th>\n",
              "      <th>surface_horticole</th>\n",
              "      <th>presence_cloture</th>\n",
              "      <th>perimeter</th>\n",
              "      <th>annee_ouverture</th>\n",
              "      <th>annee_renovation</th>\n",
              "      <th>ancien_nom_ev</th>\n",
              "      <th>annee_changement_nom</th>\n",
              "      <th>nb_entites</th>\n",
              "      <th>ouvert_ferme</th>\n",
              "      <th>id_division</th>\n",
              "      <th>id_atelier_horticole</th>\n",
              "      <th>ida3d_enb</th>\n",
              "      <th>site_villes</th>\n",
              "      <th>id_eqpt</th>\n",
              "      <th>competence</th>\n",
              "      <th>geom</th>\n",
              "      <th>url_plan</th>\n",
              "      <th>geom_x_y</th>\n",
              "    </tr>\n",
              "  </thead>\n",
              "  <tbody>\n",
              "    <tr>\n",
              "      <th>0</th>\n",
              "      <td>103.0</td>\n",
              "      <td>JARDIN DES ABORDS DU PETIT PALAIS</td>\n",
              "      <td>Promenades ouvertes</td>\n",
              "      <td>Jardin</td>\n",
              "      <td>14.0</td>\n",
              "      <td>NaN</td>\n",
              "      <td>COURS LA</td>\n",
              "      <td>REINE</td>\n",
              "      <td>75008</td>\n",
              "      <td>6489.0</td>\n",
              "      <td>1280.0</td>\n",
              "      <td>6599.0</td>\n",
              "      <td>Non</td>\n",
              "      <td>446.520694</td>\n",
              "      <td>2006.0</td>\n",
              "      <td>NaN</td>\n",
              "      <td>NaN</td>\n",
              "      <td>NaN</td>\n",
              "      <td>1.0</td>\n",
              "      <td>Oui</td>\n",
              "      <td>104</td>\n",
              "      <td>9.0</td>\n",
              "      <td>46198</td>\n",
              "      <td>3746</td>\n",
              "      <td>4981</td>\n",
              "      <td>CP</td>\n",
              "      <td>{\"type\": \"Polygon\", \"coordinates\": [[[2.314412...</td>\n",
              "      <td>http://p70-planet.apps.paris.mdp/Advitium/Appe...</td>\n",
              "      <td>NaN</td>\n",
              "    </tr>\n",
              "    <tr>\n",
              "      <th>1</th>\n",
              "      <td>30.0</td>\n",
              "      <td>JARDIN DU PASSAGE DE L'HOTEL DE SENS</td>\n",
              "      <td>Promenades ouvertes</td>\n",
              "      <td>Jardin</td>\n",
              "      <td>8.0</td>\n",
              "      <td>NaN</td>\n",
              "      <td>RUE DES</td>\n",
              "      <td>NONNAINS D HYERES</td>\n",
              "      <td>75004</td>\n",
              "      <td>645.0</td>\n",
              "      <td>620.0</td>\n",
              "      <td>337.0</td>\n",
              "      <td>Oui</td>\n",
              "      <td>149.442539</td>\n",
              "      <td>1957.0</td>\n",
              "      <td>NaN</td>\n",
              "      <td>NaN</td>\n",
              "      <td>NaN</td>\n",
              "      <td>1.0</td>\n",
              "      <td>Non</td>\n",
              "      <td>101</td>\n",
              "      <td>3.0</td>\n",
              "      <td>43320</td>\n",
              "      <td>3369</td>\n",
              "      <td>3394</td>\n",
              "      <td>CA</td>\n",
              "      <td>{\"type\": \"Polygon\", \"coordinates\": [[[2.358755...</td>\n",
              "      <td>http://p70-planet.apps.paris.mdp/Advitium/Appe...</td>\n",
              "      <td>NaN</td>\n",
              "    </tr>\n",
              "    <tr>\n",
              "      <th>2</th>\n",
              "      <td>827.0</td>\n",
              "      <td>SQUARE RESTIF DE LA BRETONNE</td>\n",
              "      <td>Promenades ouvertes</td>\n",
              "      <td>Square</td>\n",
              "      <td>2.0</td>\n",
              "      <td>NaN</td>\n",
              "      <td>RUE DE LA</td>\n",
              "      <td>BUCHERIE</td>\n",
              "      <td>75005</td>\n",
              "      <td>53.0</td>\n",
              "      <td>43.0</td>\n",
              "      <td>43.0</td>\n",
              "      <td>Oui</td>\n",
              "      <td>37.715443</td>\n",
              "      <td>2000.0</td>\n",
              "      <td>NaN</td>\n",
              "      <td>NaN</td>\n",
              "      <td>NaN</td>\n",
              "      <td>1.0</td>\n",
              "      <td>Non</td>\n",
              "      <td>113</td>\n",
              "      <td>4.0</td>\n",
              "      <td>43795</td>\n",
              "      <td>369</td>\n",
              "      <td>3676</td>\n",
              "      <td>CA</td>\n",
              "      <td>{\"type\": \"Polygon\", \"coordinates\": [[[2.349180...</td>\n",
              "      <td>http://p70-planet.apps.paris.mdp/Advitium/Appe...</td>\n",
              "      <td>NaN</td>\n",
              "    </tr>\n",
              "    <tr>\n",
              "      <th>3</th>\n",
              "      <td>190.0</td>\n",
              "      <td>SQUARE PHILIPPE FARINE</td>\n",
              "      <td>Promenades ouvertes</td>\n",
              "      <td>Square</td>\n",
              "      <td>12.0</td>\n",
              "      <td>BIS</td>\n",
              "      <td>PASSAGE</td>\n",
              "      <td>GATBOIS</td>\n",
              "      <td>75012</td>\n",
              "      <td>1313.0</td>\n",
              "      <td>1310.0</td>\n",
              "      <td>510.0</td>\n",
              "      <td>Oui</td>\n",
              "      <td>189.327487</td>\n",
              "      <td>1997.0</td>\n",
              "      <td>2010.0</td>\n",
              "      <td>SQUARE DU MAIL GATBOIS</td>\n",
              "      <td>2013.0</td>\n",
              "      <td>1.0</td>\n",
              "      <td>Non</td>\n",
              "      <td>111</td>\n",
              "      <td>15.0</td>\n",
              "      <td>50721</td>\n",
              "      <td>4685</td>\n",
              "      <td>3596</td>\n",
              "      <td>CA</td>\n",
              "      <td>{\"type\": \"Polygon\", \"coordinates\": [[[2.379536...</td>\n",
              "      <td>http://p70-planet.apps.paris.mdp/Advitium/Appe...</td>\n",
              "      <td>NaN</td>\n",
              "    </tr>\n",
              "    <tr>\n",
              "      <th>4</th>\n",
              "      <td>302.0</td>\n",
              "      <td>JARDIN DU CLOITRE</td>\n",
              "      <td>Promenades ouvertes</td>\n",
              "      <td>Jardin</td>\n",
              "      <td>30.0</td>\n",
              "      <td>NaN</td>\n",
              "      <td>RUE</td>\n",
              "      <td>GUILLEMINOT</td>\n",
              "      <td>75014</td>\n",
              "      <td>1622.0</td>\n",
              "      <td>1650.0</td>\n",
              "      <td>78.0</td>\n",
              "      <td>Non</td>\n",
              "      <td>216.319170</td>\n",
              "      <td>1987.0</td>\n",
              "      <td>NaN</td>\n",
              "      <td>NaN</td>\n",
              "      <td>NaN</td>\n",
              "      <td>1.0</td>\n",
              "      <td>Oui</td>\n",
              "      <td>114</td>\n",
              "      <td>22.0</td>\n",
              "      <td>55529</td>\n",
              "      <td>1484</td>\n",
              "      <td>3385</td>\n",
              "      <td>CA</td>\n",
              "      <td>{\"type\": \"Polygon\", \"coordinates\": [[[2.317526...</td>\n",
              "      <td>http://p70-planet.apps.paris.mdp/Advitium/Appe...</td>\n",
              "      <td>NaN</td>\n",
              "    </tr>\n",
              "  </tbody>\n",
              "</table>\n",
              "</div>"
            ],
            "text/plain": [
              "   nsq_espace_vert  ... geom_x_y\n",
              "0            103.0  ...      NaN\n",
              "1             30.0  ...      NaN\n",
              "2            827.0  ...      NaN\n",
              "3            190.0  ...      NaN\n",
              "4            302.0  ...      NaN\n",
              "\n",
              "[5 rows x 29 columns]"
            ]
          },
          "metadata": {
            "tags": []
          },
          "execution_count": 4
        }
      ]
    },
    {
      "cell_type": "code",
      "metadata": {
        "colab": {
          "base_uri": "https://localhost:8080/"
        },
        "id": "Ou0N8YQ63Mb_",
        "outputId": "08a2f246-552b-4f35-ed84-56aeb6526226"
      },
      "source": [
        "#Checker les types de champs\r\n",
        "\r\n",
        "Espacesverts.dtypes"
      ],
      "execution_count": 5,
      "outputs": [
        {
          "output_type": "execute_result",
          "data": {
            "text/plain": [
              "nsq_espace_vert          float64\n",
              "nom_ev                    object\n",
              "type_ev                   object\n",
              "categorie                 object\n",
              "adresse_numero           float64\n",
              "adresse_complement        object\n",
              "adresse_typevoie          object\n",
              "adresse_libellevoie       object\n",
              "adresse_codepostal         int64\n",
              "poly_area                float64\n",
              "surface_totale_reelle    float64\n",
              "surface_horticole        float64\n",
              "presence_cloture          object\n",
              "perimeter                float64\n",
              "annee_ouverture          float64\n",
              "annee_renovation         float64\n",
              "ancien_nom_ev             object\n",
              "annee_changement_nom     float64\n",
              "nb_entites               float64\n",
              "ouvert_ferme              object\n",
              "id_division                int64\n",
              "id_atelier_horticole     float64\n",
              "ida3d_enb                 object\n",
              "site_villes               object\n",
              "id_eqpt                   object\n",
              "competence                object\n",
              "geom                      object\n",
              "url_plan                  object\n",
              "geom_x_y                 float64\n",
              "dtype: object"
            ]
          },
          "metadata": {
            "tags": []
          },
          "execution_count": 5
        }
      ]
    },
    {
      "cell_type": "code",
      "metadata": {
        "colab": {
          "base_uri": "https://localhost:8080/"
        },
        "id": "4TtrUa8p0Mmi",
        "outputId": "4dc39370-1756-427d-c246-89673f9f5ae2"
      },
      "source": [
        "#Compter le nombre d'enregistrements\r\n",
        "\r\n",
        "Espacesverts['nsq_espace_vert'].size"
      ],
      "execution_count": 6,
      "outputs": [
        {
          "output_type": "execute_result",
          "data": {
            "text/plain": [
              "2110"
            ]
          },
          "metadata": {
            "tags": []
          },
          "execution_count": 6
        }
      ]
    },
    {
      "cell_type": "code",
      "metadata": {
        "colab": {
          "base_uri": "https://localhost:8080/",
          "height": 206
        },
        "id": "R7H8Sb3h-RYt",
        "outputId": "9a83bc5b-0a8c-497b-d165-c7f9a6060fcd"
      },
      "source": [
        "#Réorganiser la table (sélection des colonnes importantes)\r\n",
        "\r\n",
        "EspacesvertsOk = Espacesverts[[\"nsq_espace_vert\", \"nom_ev\", \"categorie\", \"adresse_codepostal\", \"surface_totale_reelle\", \"annee_ouverture\"]]\r\n",
        "EspacesvertsOk.head()"
      ],
      "execution_count": 7,
      "outputs": [
        {
          "output_type": "execute_result",
          "data": {
            "text/html": [
              "<div>\n",
              "<style scoped>\n",
              "    .dataframe tbody tr th:only-of-type {\n",
              "        vertical-align: middle;\n",
              "    }\n",
              "\n",
              "    .dataframe tbody tr th {\n",
              "        vertical-align: top;\n",
              "    }\n",
              "\n",
              "    .dataframe thead th {\n",
              "        text-align: right;\n",
              "    }\n",
              "</style>\n",
              "<table border=\"1\" class=\"dataframe\">\n",
              "  <thead>\n",
              "    <tr style=\"text-align: right;\">\n",
              "      <th></th>\n",
              "      <th>nsq_espace_vert</th>\n",
              "      <th>nom_ev</th>\n",
              "      <th>categorie</th>\n",
              "      <th>adresse_codepostal</th>\n",
              "      <th>surface_totale_reelle</th>\n",
              "      <th>annee_ouverture</th>\n",
              "    </tr>\n",
              "  </thead>\n",
              "  <tbody>\n",
              "    <tr>\n",
              "      <th>0</th>\n",
              "      <td>103.0</td>\n",
              "      <td>JARDIN DES ABORDS DU PETIT PALAIS</td>\n",
              "      <td>Jardin</td>\n",
              "      <td>75008</td>\n",
              "      <td>1280.0</td>\n",
              "      <td>2006.0</td>\n",
              "    </tr>\n",
              "    <tr>\n",
              "      <th>1</th>\n",
              "      <td>30.0</td>\n",
              "      <td>JARDIN DU PASSAGE DE L'HOTEL DE SENS</td>\n",
              "      <td>Jardin</td>\n",
              "      <td>75004</td>\n",
              "      <td>620.0</td>\n",
              "      <td>1957.0</td>\n",
              "    </tr>\n",
              "    <tr>\n",
              "      <th>2</th>\n",
              "      <td>827.0</td>\n",
              "      <td>SQUARE RESTIF DE LA BRETONNE</td>\n",
              "      <td>Square</td>\n",
              "      <td>75005</td>\n",
              "      <td>43.0</td>\n",
              "      <td>2000.0</td>\n",
              "    </tr>\n",
              "    <tr>\n",
              "      <th>3</th>\n",
              "      <td>190.0</td>\n",
              "      <td>SQUARE PHILIPPE FARINE</td>\n",
              "      <td>Square</td>\n",
              "      <td>75012</td>\n",
              "      <td>1310.0</td>\n",
              "      <td>1997.0</td>\n",
              "    </tr>\n",
              "    <tr>\n",
              "      <th>4</th>\n",
              "      <td>302.0</td>\n",
              "      <td>JARDIN DU CLOITRE</td>\n",
              "      <td>Jardin</td>\n",
              "      <td>75014</td>\n",
              "      <td>1650.0</td>\n",
              "      <td>1987.0</td>\n",
              "    </tr>\n",
              "  </tbody>\n",
              "</table>\n",
              "</div>"
            ],
            "text/plain": [
              "   nsq_espace_vert  ... annee_ouverture\n",
              "0            103.0  ...          2006.0\n",
              "1             30.0  ...          1957.0\n",
              "2            827.0  ...          2000.0\n",
              "3            190.0  ...          1997.0\n",
              "4            302.0  ...          1987.0\n",
              "\n",
              "[5 rows x 6 columns]"
            ]
          },
          "metadata": {
            "tags": []
          },
          "execution_count": 7
        }
      ]
    },
    {
      "cell_type": "code",
      "metadata": {
        "colab": {
          "base_uri": "https://localhost:8080/",
          "height": 299
        },
        "id": "_NoQ9SqE8ano",
        "outputId": "ca98426e-d373-492a-d848-e45b88003a37"
      },
      "source": [
        "# Renommer les noms des champs\r\n",
        "\r\n",
        "EspacesvertsOk.rename(columns={'nsq_espace_vert': 'id','nom_ev': 'nom','adresse_codepostal': 'ardt', 'surface_totale_reelle' : 'surface', 'annee_ouverture': 'ouverture'}, inplace=True)\r\n",
        "EspacesvertsOk.head()"
      ],
      "execution_count": 8,
      "outputs": [
        {
          "output_type": "stream",
          "text": [
            "/usr/local/lib/python3.7/dist-packages/pandas/core/frame.py:4308: SettingWithCopyWarning: \n",
            "A value is trying to be set on a copy of a slice from a DataFrame\n",
            "\n",
            "See the caveats in the documentation: https://pandas.pydata.org/pandas-docs/stable/user_guide/indexing.html#returning-a-view-versus-a-copy\n",
            "  errors=errors,\n"
          ],
          "name": "stderr"
        },
        {
          "output_type": "execute_result",
          "data": {
            "text/html": [
              "<div>\n",
              "<style scoped>\n",
              "    .dataframe tbody tr th:only-of-type {\n",
              "        vertical-align: middle;\n",
              "    }\n",
              "\n",
              "    .dataframe tbody tr th {\n",
              "        vertical-align: top;\n",
              "    }\n",
              "\n",
              "    .dataframe thead th {\n",
              "        text-align: right;\n",
              "    }\n",
              "</style>\n",
              "<table border=\"1\" class=\"dataframe\">\n",
              "  <thead>\n",
              "    <tr style=\"text-align: right;\">\n",
              "      <th></th>\n",
              "      <th>id</th>\n",
              "      <th>nom</th>\n",
              "      <th>categorie</th>\n",
              "      <th>ardt</th>\n",
              "      <th>surface</th>\n",
              "      <th>ouverture</th>\n",
              "    </tr>\n",
              "  </thead>\n",
              "  <tbody>\n",
              "    <tr>\n",
              "      <th>0</th>\n",
              "      <td>103.0</td>\n",
              "      <td>JARDIN DES ABORDS DU PETIT PALAIS</td>\n",
              "      <td>Jardin</td>\n",
              "      <td>75008</td>\n",
              "      <td>1280.0</td>\n",
              "      <td>2006.0</td>\n",
              "    </tr>\n",
              "    <tr>\n",
              "      <th>1</th>\n",
              "      <td>30.0</td>\n",
              "      <td>JARDIN DU PASSAGE DE L'HOTEL DE SENS</td>\n",
              "      <td>Jardin</td>\n",
              "      <td>75004</td>\n",
              "      <td>620.0</td>\n",
              "      <td>1957.0</td>\n",
              "    </tr>\n",
              "    <tr>\n",
              "      <th>2</th>\n",
              "      <td>827.0</td>\n",
              "      <td>SQUARE RESTIF DE LA BRETONNE</td>\n",
              "      <td>Square</td>\n",
              "      <td>75005</td>\n",
              "      <td>43.0</td>\n",
              "      <td>2000.0</td>\n",
              "    </tr>\n",
              "    <tr>\n",
              "      <th>3</th>\n",
              "      <td>190.0</td>\n",
              "      <td>SQUARE PHILIPPE FARINE</td>\n",
              "      <td>Square</td>\n",
              "      <td>75012</td>\n",
              "      <td>1310.0</td>\n",
              "      <td>1997.0</td>\n",
              "    </tr>\n",
              "    <tr>\n",
              "      <th>4</th>\n",
              "      <td>302.0</td>\n",
              "      <td>JARDIN DU CLOITRE</td>\n",
              "      <td>Jardin</td>\n",
              "      <td>75014</td>\n",
              "      <td>1650.0</td>\n",
              "      <td>1987.0</td>\n",
              "    </tr>\n",
              "  </tbody>\n",
              "</table>\n",
              "</div>"
            ],
            "text/plain": [
              "      id                                   nom  ... surface  ouverture\n",
              "0  103.0     JARDIN DES ABORDS DU PETIT PALAIS  ...  1280.0     2006.0\n",
              "1   30.0  JARDIN DU PASSAGE DE L'HOTEL DE SENS  ...   620.0     1957.0\n",
              "2  827.0          SQUARE RESTIF DE LA BRETONNE  ...    43.0     2000.0\n",
              "3  190.0                SQUARE PHILIPPE FARINE  ...  1310.0     1997.0\n",
              "4  302.0                     JARDIN DU CLOITRE  ...  1650.0     1987.0\n",
              "\n",
              "[5 rows x 6 columns]"
            ]
          },
          "metadata": {
            "tags": []
          },
          "execution_count": 8
        }
      ]
    },
    {
      "cell_type": "code",
      "metadata": {
        "id": "1XhtAlQTyqLn"
      },
      "source": [
        "# Filtrer les données\r\n",
        "\r\n",
        "# Selectioner selon une modalité d'une variable\r\n",
        "Jardins = EspacesvertsOk[(EspacesvertsOk[\"categorie\"] == 'Jardin')]\r\n",
        "\r\n",
        "# Sélectionner selon deux modalité d'une variable (OR)\r\n",
        "Squaresetjardins = EspacesvertsOk[(EspacesvertsOk[\"categorie\"] == 'Jardin') | (EspacesvertsOk[\"categorie\"] == 'Square')]\r\n",
        "\r\n",
        "# Selectioner selon une valeur numérique\r\n",
        "Grandespacesverts = EspacesvertsOk[(EspacesvertsOk[\"surface\"] >10000)]\r\n",
        "\r\n",
        "#Sélectionner selon les modalités de deux variables (AND)\r\n",
        "Squares15eme = Espacesverts[(EspacesvertsOk[\"ardt\"] == 75015) & (EspacesvertsOk[\"categorie\"] == 'Square')]\r\n"
      ],
      "execution_count": null,
      "outputs": []
    },
    {
      "cell_type": "code",
      "metadata": {
        "colab": {
          "base_uri": "https://localhost:8080/"
        },
        "id": "G679uDOXvln3",
        "outputId": "c0a4d1ed-e196-48bf-914c-77cd4dfc4c9b"
      },
      "source": [
        "#Compter le nombre d'enregistrement des sélections\r\n",
        "\r\n",
        "Jardins['id'].size"
      ],
      "execution_count": null,
      "outputs": [
        {
          "output_type": "execute_result",
          "data": {
            "text/plain": [
              "201"
            ]
          },
          "metadata": {
            "tags": []
          },
          "execution_count": 11
        }
      ]
    },
    {
      "cell_type": "code",
      "metadata": {
        "colab": {
          "base_uri": "https://localhost:8080/",
          "height": 485
        },
        "id": "2ZVQQg9J7XJm",
        "outputId": "7534e9e0-6493-4f8c-fd93-90d39d9beb70"
      },
      "source": [
        "# Regrouper les espaces verts par catégorie avec comptage (GROUP BY)\r\n",
        "\r\n",
        "Categorie = EspacesvertsOk[[\"categorie\", \"id\"]].groupby(\"categorie\").count()\r\n",
        "Categorie.plot(kind=\"barh\")\r\n",
        "Categorie.head()"
      ],
      "execution_count": 9,
      "outputs": [
        {
          "output_type": "execute_result",
          "data": {
            "text/html": [
              "<div>\n",
              "<style scoped>\n",
              "    .dataframe tbody tr th:only-of-type {\n",
              "        vertical-align: middle;\n",
              "    }\n",
              "\n",
              "    .dataframe tbody tr th {\n",
              "        vertical-align: top;\n",
              "    }\n",
              "\n",
              "    .dataframe thead th {\n",
              "        text-align: right;\n",
              "    }\n",
              "</style>\n",
              "<table border=\"1\" class=\"dataframe\">\n",
              "  <thead>\n",
              "    <tr style=\"text-align: right;\">\n",
              "      <th></th>\n",
              "      <th>id</th>\n",
              "    </tr>\n",
              "    <tr>\n",
              "      <th>categorie</th>\n",
              "      <th></th>\n",
              "    </tr>\n",
              "  </thead>\n",
              "  <tbody>\n",
              "    <tr>\n",
              "      <th>Arboretum</th>\n",
              "      <td>1</td>\n",
              "    </tr>\n",
              "    <tr>\n",
              "      <th>Archipel</th>\n",
              "      <td>1</td>\n",
              "    </tr>\n",
              "    <tr>\n",
              "      <th>Bois</th>\n",
              "      <td>2</td>\n",
              "    </tr>\n",
              "    <tr>\n",
              "      <th>Cimetière</th>\n",
              "      <td>21</td>\n",
              "    </tr>\n",
              "    <tr>\n",
              "      <th>Decoration</th>\n",
              "      <td>82</td>\n",
              "    </tr>\n",
              "  </tbody>\n",
              "</table>\n",
              "</div>"
            ],
            "text/plain": [
              "            id\n",
              "categorie     \n",
              "Arboretum    1\n",
              "Archipel     1\n",
              "Bois         2\n",
              "Cimetière   21\n",
              "Decoration  82"
            ]
          },
          "metadata": {
            "tags": []
          },
          "execution_count": 9
        },
        {
          "output_type": "display_data",
          "data": {
            "image/png": "[encoded data removed]",
            "text/plain": [
              "<Figure size 432x288 with 1 Axes>"
            ]
          },
          "metadata": {
            "tags": [],
            "needs_background": "light"
          }
        }
      ]
    },
    {
      "cell_type": "code",
      "metadata": {
        "colab": {
          "base_uri": "https://localhost:8080/",
          "height": 524
        },
        "id": "Wqd7Dx0t3pqZ",
        "outputId": "b68189ae-9c8a-4317-e321-12fc4be2d98d"
      },
      "source": [
        "# Regrouper par année d'ouverture\r\n",
        "\r\n",
        "Anneeouverture = EspacesvertsOk[[\"ouverture\", \"id\"]].groupby(\"ouverture\").count()\r\n",
        "Anneeouverture.plot(kind=\"bar\")\r\n",
        "Anneeouverture.head()"
      ],
      "execution_count": 10,
      "outputs": [
        {
          "output_type": "execute_result",
          "data": {
            "text/html": [
              "<div>\n",
              "<style scoped>\n",
              "    .dataframe tbody tr th:only-of-type {\n",
              "        vertical-align: middle;\n",
              "    }\n",
              "\n",
              "    .dataframe tbody tr th {\n",
              "        vertical-align: top;\n",
              "    }\n",
              "\n",
              "    .dataframe thead th {\n",
              "        text-align: right;\n",
              "    }\n",
              "</style>\n",
              "<table border=\"1\" class=\"dataframe\">\n",
              "  <thead>\n",
              "    <tr style=\"text-align: right;\">\n",
              "      <th></th>\n",
              "      <th>id</th>\n",
              "    </tr>\n",
              "    <tr>\n",
              "      <th>ouverture</th>\n",
              "      <th></th>\n",
              "    </tr>\n",
              "  </thead>\n",
              "  <tbody>\n",
              "    <tr>\n",
              "      <th>1688.0</th>\n",
              "      <td>1</td>\n",
              "    </tr>\n",
              "    <tr>\n",
              "      <th>1791.0</th>\n",
              "      <td>1</td>\n",
              "    </tr>\n",
              "    <tr>\n",
              "      <th>1798.0</th>\n",
              "      <td>1</td>\n",
              "    </tr>\n",
              "    <tr>\n",
              "      <th>1800.0</th>\n",
              "      <td>1</td>\n",
              "    </tr>\n",
              "    <tr>\n",
              "      <th>1804.0</th>\n",
              "      <td>1</td>\n",
              "    </tr>\n",
              "  </tbody>\n",
              "</table>\n",
              "</div>"
            ],
            "text/plain": [
              "           id\n",
              "ouverture    \n",
              "1688.0      1\n",
              "1791.0      1\n",
              "1798.0      1\n",
              "1800.0      1\n",
              "1804.0      1"
            ]
          },
          "metadata": {
            "tags": []
          },
          "execution_count": 10
        },
        {
          "output_type": "display_data",
          "data": {
            "image/png": "[encoded data removed]",
            "text/plain": [
              "<Figure size 432x288 with 1 Axes>"
            ]
          },
          "metadata": {
            "tags": [],
            "needs_background": "light"
          }
        }
      ]
    },
    {
      "cell_type": "code",
      "metadata": {
        "colab": {
          "base_uri": "https://localhost:8080/",
          "height": 378
        },
        "id": "6bq952NbfpXe",
        "outputId": "369232b0-d8f4-48c6-e6a5-397e78ecd157"
      },
      "source": [
        "# Regrouper par année d'ouverture depuis 1950\r\n",
        "\r\n",
        "Espacesverts1950 = EspacesvertsOk[(EspacesvertsOk[\"ouverture\"] >=1950)]\r\n",
        "Espacesvertsannee = Espacesverts1950[[\"ouverture\", \"id\"]].groupby(\"ouverture\").count()\r\n",
        "Espacesvertsannee.plot(figsize =(14,5), kind=\"bar\")"
      ],
      "execution_count": 12,
      "outputs": [
        {
          "output_type": "execute_result",
          "data": {
            "text/plain": [
              "<matplotlib.axes._subplots.AxesSubplot at 0x7ff9792fdd50>"
            ]
          },
          "metadata": {
            "tags": []
          },
          "execution_count": 12
        },
        {
          "output_type": "display_data",
          "data": {
            "image/png": "[encoded data removed]",
            "text/plain": [
              "<Figure size 1008x360 with 1 Axes>"
            ]
          },
          "metadata": {
            "tags": [],
            "needs_background": "light"
          }
        }
      ]
    },
    {
      "cell_type": "code",
      "metadata": {
        "colab": {
          "base_uri": "https://localhost:8080/",
          "height": 591
        },
        "id": "jvJgF-wV3u3A",
        "outputId": "a7e955c3-c4ae-47fb-a075-c308ea694bff"
      },
      "source": [
        "#Compter le nombre d'espaces vert par arrondissement\r\n",
        "\r\n",
        "EspacevertARDT = EspacesvertsOk[[\"ardt\", \"id\"]].groupby(\"ardt\").count()\r\n",
        "EspacevertARDT.plot(figsize =(10,5), kind=\"bar\")\r\n",
        "plt.title(\"Nb d'espace verts par Ardt\")\r\n",
        "plt.xlabel(\"Arrondissement\")\r\n",
        "plt.ylabel(\"Nb espaces verts\")\r\n",
        "EspacevertARDT.head()"
      ],
      "execution_count": 13,
      "outputs": [
        {
          "output_type": "execute_result",
          "data": {
            "text/html": [
              "<div>\n",
              "<style scoped>\n",
              "    .dataframe tbody tr th:only-of-type {\n",
              "        vertical-align: middle;\n",
              "    }\n",
              "\n",
              "    .dataframe tbody tr th {\n",
              "        vertical-align: top;\n",
              "    }\n",
              "\n",
              "    .dataframe thead th {\n",
              "        text-align: right;\n",
              "    }\n",
              "</style>\n",
              "<table border=\"1\" class=\"dataframe\">\n",
              "  <thead>\n",
              "    <tr style=\"text-align: right;\">\n",
              "      <th></th>\n",
              "      <th>id</th>\n",
              "    </tr>\n",
              "    <tr>\n",
              "      <th>ardt</th>\n",
              "      <th></th>\n",
              "    </tr>\n",
              "  </thead>\n",
              "  <tbody>\n",
              "    <tr>\n",
              "      <th>75001</th>\n",
              "      <td>14</td>\n",
              "    </tr>\n",
              "    <tr>\n",
              "      <th>75002</th>\n",
              "      <td>25</td>\n",
              "    </tr>\n",
              "    <tr>\n",
              "      <th>75003</th>\n",
              "      <td>38</td>\n",
              "    </tr>\n",
              "    <tr>\n",
              "      <th>75004</th>\n",
              "      <td>60</td>\n",
              "    </tr>\n",
              "    <tr>\n",
              "      <th>75005</th>\n",
              "      <td>78</td>\n",
              "    </tr>\n",
              "  </tbody>\n",
              "</table>\n",
              "</div>"
            ],
            "text/plain": [
              "       id\n",
              "ardt     \n",
              "75001  14\n",
              "75002  25\n",
              "75003  38\n",
              "75004  60\n",
              "75005  78"
            ]
          },
          "metadata": {
            "tags": []
          },
          "execution_count": 13
        },
        {
          "output_type": "display_data",
          "data": {
            "image/png": "[encoded data removed]",
            "text/plain": [
              "<Figure size 720x360 with 1 Axes>"
            ]
          },
          "metadata": {
            "tags": [],
            "needs_background": "light"
          }
        }
      ]
    },
    {
      "cell_type": "code",
      "metadata": {
        "colab": {
          "base_uri": "https://localhost:8080/",
          "height": 591
        },
        "id": "yLIDU7QTgiNZ",
        "outputId": "03f51396-76e6-4050-ad07-f8e0c5c55c79"
      },
      "source": [
        "#Ne garder que les arrondissement de Paris\r\n",
        "\r\n",
        "EspacevertsParis = EspacesvertsOk[(EspacesvertsOk[\"ardt\"] <76000)]\r\n",
        "\r\n",
        "EspacevertsParisardt = EspacevertsParis[[\"ardt\", \"id\"]].groupby(\"ardt\").count()\r\n",
        "EspacevertsParisardt.plot(figsize =(10,5), kind=\"bar\")\r\n",
        "plt.title(\"Nb d'espace verts par Ardt\")\r\n",
        "plt.xlabel(\"Arrondissement\")\r\n",
        "plt.ylabel(\"Nb espaces verts\")\r\n",
        "EspacevertsParisardt.head()"
      ],
      "execution_count": 14,
      "outputs": [
        {
          "output_type": "execute_result",
          "data": {
            "text/html": [
              "<div>\n",
              "<style scoped>\n",
              "    .dataframe tbody tr th:only-of-type {\n",
              "        vertical-align: middle;\n",
              "    }\n",
              "\n",
              "    .dataframe tbody tr th {\n",
              "        vertical-align: top;\n",
              "    }\n",
              "\n",
              "    .dataframe thead th {\n",
              "        text-align: right;\n",
              "    }\n",
              "</style>\n",
              "<table border=\"1\" class=\"dataframe\">\n",
              "  <thead>\n",
              "    <tr style=\"text-align: right;\">\n",
              "      <th></th>\n",
              "      <th>id</th>\n",
              "    </tr>\n",
              "    <tr>\n",
              "      <th>ardt</th>\n",
              "      <th></th>\n",
              "    </tr>\n",
              "  </thead>\n",
              "  <tbody>\n",
              "    <tr>\n",
              "      <th>75001</th>\n",
              "      <td>14</td>\n",
              "    </tr>\n",
              "    <tr>\n",
              "      <th>75002</th>\n",
              "      <td>25</td>\n",
              "    </tr>\n",
              "    <tr>\n",
              "      <th>75003</th>\n",
              "      <td>38</td>\n",
              "    </tr>\n",
              "    <tr>\n",
              "      <th>75004</th>\n",
              "      <td>60</td>\n",
              "    </tr>\n",
              "    <tr>\n",
              "      <th>75005</th>\n",
              "      <td>78</td>\n",
              "    </tr>\n",
              "  </tbody>\n",
              "</table>\n",
              "</div>"
            ],
            "text/plain": [
              "       id\n",
              "ardt     \n",
              "75001  14\n",
              "75002  25\n",
              "75003  38\n",
              "75004  60\n",
              "75005  78"
            ]
          },
          "metadata": {
            "tags": []
          },
          "execution_count": 14
        },
        {
          "output_type": "display_data",
          "data": {
            "image/png": "[encoded data removed]",
            "text/plain": [
              "<Figure size 720x360 with 1 Axes>"
            ]
          },
          "metadata": {
            "tags": [],
            "needs_background": "light"
          }
        }
      ]
    },
    {
      "cell_type": "code",
      "metadata": {
        "colab": {
          "base_uri": "https://localhost:8080/"
        },
        "id": "anx7Dwr3AsE8",
        "outputId": "4f07f9e4-65f0-4ee2-b055-ec33627d123b"
      },
      "source": [
        "# Calculer la surface moyenne des squares\r\n",
        "\r\n",
        "Squares = EspacesvertsOk[(EspacesvertsOk[\"categorie\"] == 'Square')]\r\n",
        "Squares[\"surface\"].mean()"
      ],
      "execution_count": 15,
      "outputs": [
        {
          "output_type": "execute_result",
          "data": {
            "text/plain": [
              "4188.716723549488"
            ]
          },
          "metadata": {
            "tags": []
          },
          "execution_count": 15
        }
      ]
    },
    {
      "cell_type": "code",
      "metadata": {
        "colab": {
          "base_uri": "https://localhost:8080/"
        },
        "id": "Ca-0U7tlfWBY",
        "outputId": "30d91124-d776-4160-dcb5-3efbb6e040e3"
      },
      "source": [
        "# Calculer la surface moyenne des jardins\r\n",
        "\r\n",
        "Jardins = EspacesvertsOk[(EspacesvertsOk[\"categorie\"] == 'Jardin')]\r\n",
        "Jardins[\"surface\"].mean()"
      ],
      "execution_count": 16,
      "outputs": [
        {
          "output_type": "execute_result",
          "data": {
            "text/plain": [
              "8790.272727272728"
            ]
          },
          "metadata": {
            "tags": []
          },
          "execution_count": 16
        }
      ]
    },
    {
      "cell_type": "code",
      "metadata": {
        "colab": {
          "base_uri": "https://localhost:8080/",
          "height": 284
        },
        "id": "64EiEnEOfaqG",
        "outputId": "1fd5d512-bc32-45cd-c2fa-ead02dc242b0"
      },
      "source": [
        "# Calculer la surface moyenne de chaque type d'espace vert\r\n",
        "\r\n",
        "SurfaceType = EspacevertsParis[[\"categorie\", \"surface\"]].groupby(\"categorie\").mean()\r\n",
        "SurfaceType.head()\r\n",
        "SurfaceType.plot(kind=\"barh\")"
      ],
      "execution_count": 17,
      "outputs": [
        {
          "output_type": "execute_result",
          "data": {
            "text/plain": [
              "<matplotlib.axes._subplots.AxesSubplot at 0x7ff97aa8a890>"
            ]
          },
          "metadata": {
            "tags": []
          },
          "execution_count": 17
        },
        {
          "output_type": "display_data",
          "data": {
            "image/png": "[encoded data removed]",
            "text/plain": [
              "<Figure size 432x288 with 1 Axes>"
            ]
          },
          "metadata": {
            "tags": [],
            "needs_background": "light"
          }
        }
      ]
    },
    {
      "cell_type": "code",
      "metadata": {
        "colab": {
          "base_uri": "https://localhost:8080/",
          "height": 591
        },
        "id": "AwM4Igju-uLs",
        "outputId": "ed141eda-50bf-4a47-95ac-a5277cdd4489"
      },
      "source": [
        "#Calculer la superficie des espaces vert par arrondissement (agrégation statistique)\r\n",
        "\r\n",
        "SurfaceEspacevertARDT = EspacevertsParis[[\"ardt\", \"surface\"]].groupby(\"ardt\").sum()\r\n",
        "SurfaceEspacevertARDT.plot(figsize =(10,5), kind=\"bar\")\r\n",
        "plt.title(\"Surface d'espaces verts par Ardt\")\r\n",
        "plt.xlabel(\"Arrondissement\")\r\n",
        "plt.ylabel(\"Surface espaces verts\")\r\n",
        "SurfaceEspacevertARDT.head()"
      ],
      "execution_count": 18,
      "outputs": [
        {
          "output_type": "execute_result",
          "data": {
            "text/html": [
              "<div>\n",
              "<style scoped>\n",
              "    .dataframe tbody tr th:only-of-type {\n",
              "        vertical-align: middle;\n",
              "    }\n",
              "\n",
              "    .dataframe tbody tr th {\n",
              "        vertical-align: top;\n",
              "    }\n",
              "\n",
              "    .dataframe thead th {\n",
              "        text-align: right;\n",
              "    }\n",
              "</style>\n",
              "<table border=\"1\" class=\"dataframe\">\n",
              "  <thead>\n",
              "    <tr style=\"text-align: right;\">\n",
              "      <th></th>\n",
              "      <th>surface</th>\n",
              "    </tr>\n",
              "    <tr>\n",
              "      <th>ardt</th>\n",
              "      <th></th>\n",
              "    </tr>\n",
              "  </thead>\n",
              "  <tbody>\n",
              "    <tr>\n",
              "      <th>75001</th>\n",
              "      <td>48987.0</td>\n",
              "    </tr>\n",
              "    <tr>\n",
              "      <th>75002</th>\n",
              "      <td>3485.0</td>\n",
              "    </tr>\n",
              "    <tr>\n",
              "      <th>75003</th>\n",
              "      <td>28212.0</td>\n",
              "    </tr>\n",
              "    <tr>\n",
              "      <th>75004</th>\n",
              "      <td>68286.0</td>\n",
              "    </tr>\n",
              "    <tr>\n",
              "      <th>75005</th>\n",
              "      <td>84298.0</td>\n",
              "    </tr>\n",
              "  </tbody>\n",
              "</table>\n",
              "</div>"
            ],
            "text/plain": [
              "       surface\n",
              "ardt          \n",
              "75001  48987.0\n",
              "75002   3485.0\n",
              "75003  28212.0\n",
              "75004  68286.0\n",
              "75005  84298.0"
            ]
          },
          "metadata": {
            "tags": []
          },
          "execution_count": 18
        },
        {
          "output_type": "display_data",
          "data": {
            "image/png": "[encoded data removed]",
            "text/plain": [
              "<Figure size 720x360 with 1 Axes>"
            ]
          },
          "metadata": {
            "tags": [],
            "needs_background": "light"
          }
        }
      ]
    },
    {
      "cell_type": "code",
      "metadata": {
        "colab": {
          "base_uri": "https://localhost:8080/"
        },
        "id": "bR3_ZOOx_Vmv",
        "outputId": "feecc219-f638-4ac3-ad3c-f993d134c301"
      },
      "source": [
        "#Verifications\r\n",
        "\r\n",
        "totalsurface = EspacesvertsOk['surface'].sum()\r\n",
        "print(totalsurface)\r\n",
        "\r\n",
        "totalsurface2 = SurfaceEspacevertARDT['surface'].sum()\r\n",
        "print(totalsurface2)"
      ],
      "execution_count": 19,
      "outputs": [
        {
          "output_type": "stream",
          "text": [
            "9998565.0\n",
            "6687315.0\n"
          ],
          "name": "stdout"
        }
      ]
    },
    {
      "cell_type": "markdown",
      "metadata": {
        "id": "qwEV86OEucUV"
      },
      "source": [
        "## Exercices autour des lieux de tournage"
      ]
    },
    {
      "cell_type": "markdown",
      "metadata": {
        "id": "qbleMX_Fvs3E"
      },
      "source": [
        "**URL des Données**\r\n",
        "\r\n",
        "https://opendata.paris.fr/explore/dataset/lieux-de-tournage-a-paris\r\n",
        "\r\n",
        "* Combien de tournage dans le jeu de données\r\n",
        "* Combien de tournages de films\r\n",
        "* Combien de tournages de films dans le 16eme arrondissement\r\n",
        "* Combien de tournages de séries dans le 1er arrondissement\r\n",
        "* Faire un graphique du nombre de tournages par année\r\n",
        "* Faire un graphique du nombre de tournages par type\r\n",
        "* Faire un graphique du nombre de tournages par arrondissement"
      ]
    },
    {
      "cell_type": "code",
      "metadata": {
        "id": "wUteSPsCvM1B"
      },
      "source": [
        "#Téléchargement des datas depuis le site opendata de Paris\r\n",
        "!wget -O tournages.csv https://opendata.paris.fr/explore/dataset/lieux-de-tournage-a-paris/download/?format=csv&timezone=Europe/Berlin&lang=fr&use_labels_for_header=true&csv_separator=%3B "
      ],
      "execution_count": null,
      "outputs": []
    },
    {
      "cell_type": "code",
      "metadata": {
        "colab": {
          "base_uri": "https://localhost:8080/",
          "height": 400
        },
        "id": "iU2o-RN5vdYp",
        "outputId": "ca888db6-3310-47e6-d31e-ecc61f929dfc"
      },
      "source": [
        "#Importer CSV to dataframe\r\n",
        "\r\n",
        "tournages = pd.read_csv(\"tournages.csv\", sep=';')\r\n",
        "tournages.head()"
      ],
      "execution_count": 21,
      "outputs": [
        {
          "output_type": "execute_result",
          "data": {
            "text/html": [
              "<div>\n",
              "<style scoped>\n",
              "    .dataframe tbody tr th:only-of-type {\n",
              "        vertical-align: middle;\n",
              "    }\n",
              "\n",
              "    .dataframe tbody tr th {\n",
              "        vertical-align: top;\n",
              "    }\n",
              "\n",
              "    .dataframe thead th {\n",
              "        text-align: right;\n",
              "    }\n",
              "</style>\n",
              "<table border=\"1\" class=\"dataframe\">\n",
              "  <thead>\n",
              "    <tr style=\"text-align: right;\">\n",
              "      <th></th>\n",
              "      <th>id_lieu</th>\n",
              "      <th>annee_tournage</th>\n",
              "      <th>type_tournage</th>\n",
              "      <th>nom_tournage</th>\n",
              "      <th>nom_realisateur</th>\n",
              "      <th>nom_producteur</th>\n",
              "      <th>adresse_lieu</th>\n",
              "      <th>ardt_lieu</th>\n",
              "      <th>date_debut</th>\n",
              "      <th>date_fin</th>\n",
              "      <th>coord_x</th>\n",
              "      <th>coord_y</th>\n",
              "      <th>geo_shape</th>\n",
              "      <th>geo_point_2d</th>\n",
              "    </tr>\n",
              "  </thead>\n",
              "  <tbody>\n",
              "    <tr>\n",
              "      <th>0</th>\n",
              "      <td>2018-1366</td>\n",
              "      <td>2018</td>\n",
              "      <td>Long métrage</td>\n",
              "      <td>LA VERITE SI JE MENS LES DEBUTS</td>\n",
              "      <td>Michel MUNZ  et Gérard BITTON</td>\n",
              "      <td>LA VERITE PRODUCTION</td>\n",
              "      <td>rue edmond about, 75116 paris</td>\n",
              "      <td>75116.0</td>\n",
              "      <td>2018-11-08</td>\n",
              "      <td>2018-11-08</td>\n",
              "      <td>2.273891</td>\n",
              "      <td>48.862604</td>\n",
              "      <td>{\"type\": \"Point\", \"coordinates\": [2.2738905444...</td>\n",
              "      <td>48.8626043783,2.27389054441</td>\n",
              "    </tr>\n",
              "    <tr>\n",
              "      <th>1</th>\n",
              "      <td>2019-685</td>\n",
              "      <td>2019</td>\n",
              "      <td>Long métrage</td>\n",
              "      <td>Maoussi</td>\n",
              "      <td>Charlotte Schiøler</td>\n",
              "      <td>C.S. Productions</td>\n",
              "      <td>63 rue de belleville, 75019 paris</td>\n",
              "      <td>75019.0</td>\n",
              "      <td>2019-06-18</td>\n",
              "      <td>2019-06-18</td>\n",
              "      <td>2.382256</td>\n",
              "      <td>48.873419</td>\n",
              "      <td>{\"type\": \"Point\", \"coordinates\": [2.3822563279...</td>\n",
              "      <td>48.8734189019,2.38225632792</td>\n",
              "    </tr>\n",
              "    <tr>\n",
              "      <th>2</th>\n",
              "      <td>2019-686</td>\n",
              "      <td>2019</td>\n",
              "      <td>Long métrage</td>\n",
              "      <td>Maoussi</td>\n",
              "      <td>Charlotte Schiøler</td>\n",
              "      <td>C.S. Productions</td>\n",
              "      <td>87 rue de ménilmontant, 75020 paris</td>\n",
              "      <td>75020.0</td>\n",
              "      <td>2019-06-18</td>\n",
              "      <td>2019-06-18</td>\n",
              "      <td>2.390458</td>\n",
              "      <td>48.868945</td>\n",
              "      <td>{\"type\": \"Point\", \"coordinates\": [2.3904579308...</td>\n",
              "      <td>48.8689453903,2.39045793086</td>\n",
              "    </tr>\n",
              "    <tr>\n",
              "      <th>3</th>\n",
              "      <td>2019-688</td>\n",
              "      <td>2019</td>\n",
              "      <td>Long métrage</td>\n",
              "      <td>TOUT SIMPLEMENT NOIR</td>\n",
              "      <td>JEAN PASCAL ZADI ET JOHN WAXXX</td>\n",
              "      <td>GAUMONT</td>\n",
              "      <td>rue edouard vii, 75009 paris</td>\n",
              "      <td>75009.0</td>\n",
              "      <td>2019-06-12</td>\n",
              "      <td>2019-06-12</td>\n",
              "      <td>2.329043</td>\n",
              "      <td>48.870095</td>\n",
              "      <td>{\"type\": \"Point\", \"coordinates\": [2.3290434773...</td>\n",
              "      <td>48.8700952316,2.32904347732</td>\n",
              "    </tr>\n",
              "    <tr>\n",
              "      <th>4</th>\n",
              "      <td>2019-704</td>\n",
              "      <td>2019</td>\n",
              "      <td>Long métrage</td>\n",
              "      <td>CHACUN CHEZ SOI !</td>\n",
              "      <td>Michèle Laroque</td>\n",
              "      <td>ALTER FILMS - CHACUN CHEZ SOI !</td>\n",
              "      <td>10 avenue de camoëns, 75116 paris</td>\n",
              "      <td>75116.0</td>\n",
              "      <td>2019-06-20</td>\n",
              "      <td>2019-06-20</td>\n",
              "      <td>2.286219</td>\n",
              "      <td>48.859759</td>\n",
              "      <td>{\"type\": \"Point\", \"coordinates\": [2.2862189455...</td>\n",
              "      <td>48.859758899,2.28621894558</td>\n",
              "    </tr>\n",
              "  </tbody>\n",
              "</table>\n",
              "</div>"
            ],
            "text/plain": [
              "     id_lieu  ...                 geo_point_2d\n",
              "0  2018-1366  ...  48.8626043783,2.27389054441\n",
              "1   2019-685  ...  48.8734189019,2.38225632792\n",
              "2   2019-686  ...  48.8689453903,2.39045793086\n",
              "3   2019-688  ...  48.8700952316,2.32904347732\n",
              "4   2019-704  ...   48.859758899,2.28621894558\n",
              "\n",
              "[5 rows x 14 columns]"
            ]
          },
          "metadata": {
            "tags": []
          },
          "execution_count": 21
        }
      ]
    },
    {
      "cell_type": "code",
      "metadata": {
        "colab": {
          "base_uri": "https://localhost:8080/",
          "height": 531
        },
        "id": "NoaTQPW1FPpu",
        "outputId": "bc29bb6b-3256-4284-b36f-88ae46f8257b"
      },
      "source": [
        "#Compter le nombre de tournages par année\r\n",
        "\r\n",
        "tournagesdate = tournages[[\"annee_tournage\", \"type_tournage\"]].groupby(\"annee_tournage\").count()\r\n",
        "tournagesdate.plot(figsize =(8,4), kind=\"bar\")\r\n",
        "plt.title(\"Nb de tournages par année\")\r\n",
        "plt.xlabel(\"Année\")\r\n",
        "plt.ylabel(\"Nb tournages\")\r\n",
        "tournagesdate.head()"
      ],
      "execution_count": 23,
      "outputs": [
        {
          "output_type": "execute_result",
          "data": {
            "text/html": [
              "<div>\n",
              "<style scoped>\n",
              "    .dataframe tbody tr th:only-of-type {\n",
              "        vertical-align: middle;\n",
              "    }\n",
              "\n",
              "    .dataframe tbody tr th {\n",
              "        vertical-align: top;\n",
              "    }\n",
              "\n",
              "    .dataframe thead th {\n",
              "        text-align: right;\n",
              "    }\n",
              "</style>\n",
              "<table border=\"1\" class=\"dataframe\">\n",
              "  <thead>\n",
              "    <tr style=\"text-align: right;\">\n",
              "      <th></th>\n",
              "      <th>type_tournage</th>\n",
              "    </tr>\n",
              "    <tr>\n",
              "      <th>annee_tournage</th>\n",
              "      <th></th>\n",
              "    </tr>\n",
              "  </thead>\n",
              "  <tbody>\n",
              "    <tr>\n",
              "      <th>2016</th>\n",
              "      <td>2660</td>\n",
              "    </tr>\n",
              "    <tr>\n",
              "      <th>2017</th>\n",
              "      <td>1743</td>\n",
              "    </tr>\n",
              "    <tr>\n",
              "      <th>2018</th>\n",
              "      <td>1579</td>\n",
              "    </tr>\n",
              "    <tr>\n",
              "      <th>2019</th>\n",
              "      <td>1760</td>\n",
              "    </tr>\n",
              "    <tr>\n",
              "      <th>2020</th>\n",
              "      <td>1177</td>\n",
              "    </tr>\n",
              "  </tbody>\n",
              "</table>\n",
              "</div>"
            ],
            "text/plain": [
              "                type_tournage\n",
              "annee_tournage               \n",
              "2016                     2660\n",
              "2017                     1743\n",
              "2018                     1579\n",
              "2019                     1760\n",
              "2020                     1177"
            ]
          },
          "metadata": {
            "tags": []
          },
          "execution_count": 23
        },
        {
          "output_type": "display_data",
          "data": {
            "image/png": "[encoded data removed]",
            "text/plain": [
              "<Figure size 576x288 with 1 Axes>"
            ]
          },
          "metadata": {
            "tags": [],
            "needs_background": "light"
          }
        }
      ]
    },
    {
      "cell_type": "code",
      "metadata": {
        "colab": {
          "base_uri": "https://localhost:8080/",
          "height": 601
        },
        "id": "H9Ss1yFkwiLa",
        "outputId": "d3cf5310-8714-4421-8604-48e8f756136e"
      },
      "source": [
        "#Compter le nombre de tournages par arrondissement\r\n",
        "\r\n",
        "tournagesARDT = tournages[[\"ardt_lieu\", \"type_tournage\"]].groupby(\"ardt_lieu\").count()\r\n",
        "tournagesARDT.plot(figsize =(10,5), kind=\"bar\")\r\n",
        "plt.title(\"Nb de tournages par Ardt\")\r\n",
        "plt.xlabel(\"Arrondissement\")\r\n",
        "plt.ylabel(\"Nb tournages\")\r\n",
        "tournagesARDT.head()"
      ],
      "execution_count": 24,
      "outputs": [
        {
          "output_type": "execute_result",
          "data": {
            "text/html": [
              "<div>\n",
              "<style scoped>\n",
              "    .dataframe tbody tr th:only-of-type {\n",
              "        vertical-align: middle;\n",
              "    }\n",
              "\n",
              "    .dataframe tbody tr th {\n",
              "        vertical-align: top;\n",
              "    }\n",
              "\n",
              "    .dataframe thead th {\n",
              "        text-align: right;\n",
              "    }\n",
              "</style>\n",
              "<table border=\"1\" class=\"dataframe\">\n",
              "  <thead>\n",
              "    <tr style=\"text-align: right;\">\n",
              "      <th></th>\n",
              "      <th>type_tournage</th>\n",
              "    </tr>\n",
              "    <tr>\n",
              "      <th>ardt_lieu</th>\n",
              "      <th></th>\n",
              "    </tr>\n",
              "  </thead>\n",
              "  <tbody>\n",
              "    <tr>\n",
              "      <th>75001.0</th>\n",
              "      <td>497</td>\n",
              "    </tr>\n",
              "    <tr>\n",
              "      <th>75002.0</th>\n",
              "      <td>219</td>\n",
              "    </tr>\n",
              "    <tr>\n",
              "      <th>75003.0</th>\n",
              "      <td>164</td>\n",
              "    </tr>\n",
              "    <tr>\n",
              "      <th>75004.0</th>\n",
              "      <td>497</td>\n",
              "    </tr>\n",
              "    <tr>\n",
              "      <th>75005.0</th>\n",
              "      <td>469</td>\n",
              "    </tr>\n",
              "  </tbody>\n",
              "</table>\n",
              "</div>"
            ],
            "text/plain": [
              "           type_tournage\n",
              "ardt_lieu               \n",
              "75001.0              497\n",
              "75002.0              219\n",
              "75003.0              164\n",
              "75004.0              497\n",
              "75005.0              469"
            ]
          },
          "metadata": {
            "tags": []
          },
          "execution_count": 24
        },
        {
          "output_type": "display_data",
          "data": {
            "image/png": "[encoded data removed]",
            "text/plain": [
              "<Figure size 720x360 with 1 Axes>"
            ]
          },
          "metadata": {
            "tags": [],
            "needs_background": "light"
          }
        }
      ]
    },
    {
      "cell_type": "code",
      "metadata": {
        "colab": {
          "base_uri": "https://localhost:8080/",
          "height": 598
        },
        "id": "9IJUZW0_xY0u",
        "outputId": "dc492cd1-42a5-4cd1-ac81-faf7999361e7"
      },
      "source": [
        "#Compter le nombre de tournages par type\r\n",
        "\r\n",
        "tournagesTYPE = tournages[[\"type_tournage\", \"ardt_lieu\"]].groupby(\"type_tournage\").count()\r\n",
        "tournagesTYPE.plot(figsize =(10,5), kind=\"bar\")\r\n",
        "plt.title(\"Nb de tournages par type\")\r\n",
        "plt.xlabel(\"Type\")\r\n",
        "plt.ylabel(\"Nb tournages\")\r\n",
        "tournagesTYPE.head()"
      ],
      "execution_count": 25,
      "outputs": [
        {
          "output_type": "execute_result",
          "data": {
            "text/html": [
              "<div>\n",
              "<style scoped>\n",
              "    .dataframe tbody tr th:only-of-type {\n",
              "        vertical-align: middle;\n",
              "    }\n",
              "\n",
              "    .dataframe tbody tr th {\n",
              "        vertical-align: top;\n",
              "    }\n",
              "\n",
              "    .dataframe thead th {\n",
              "        text-align: right;\n",
              "    }\n",
              "</style>\n",
              "<table border=\"1\" class=\"dataframe\">\n",
              "  <thead>\n",
              "    <tr style=\"text-align: right;\">\n",
              "      <th></th>\n",
              "      <th>ardt_lieu</th>\n",
              "    </tr>\n",
              "    <tr>\n",
              "      <th>type_tournage</th>\n",
              "      <th></th>\n",
              "    </tr>\n",
              "  </thead>\n",
              "  <tbody>\n",
              "    <tr>\n",
              "      <th>Long métrage</th>\n",
              "      <td>5013</td>\n",
              "    </tr>\n",
              "    <tr>\n",
              "      <th>Série TV</th>\n",
              "      <td>3056</td>\n",
              "    </tr>\n",
              "    <tr>\n",
              "      <th>Série Web</th>\n",
              "      <td>380</td>\n",
              "    </tr>\n",
              "    <tr>\n",
              "      <th>Téléfilm</th>\n",
              "      <td>469</td>\n",
              "    </tr>\n",
              "  </tbody>\n",
              "</table>\n",
              "</div>"
            ],
            "text/plain": [
              "               ardt_lieu\n",
              "type_tournage           \n",
              "Long métrage        5013\n",
              "Série TV            3056\n",
              "Série Web            380\n",
              "Téléfilm             469"
            ]
          },
          "metadata": {
            "tags": []
          },
          "execution_count": 25
        },
        {
          "output_type": "display_data",
          "data": {
            "image/png": "[encoded data removed]",
            "text/plain": [
              "<Figure size 720x360 with 1 Axes>"
            ]
          },
          "metadata": {
            "tags": [],
            "needs_background": "light"
          }
        }
      ]
    },
    {
      "cell_type": "markdown",
      "metadata": {
        "id": "EQkbWTkMaiFI"
      },
      "source": [
        "## Transformer csv en geodataframe"
      ]
    },
    {
      "cell_type": "code",
      "metadata": {
        "id": "aRXfCeebDKU3"
      },
      "source": [
        "#Téléchargement des datas depuis le site opendata de Paris\r\n",
        "\r\n",
        "!wget -O toilettes.csv https://opendata.paris.fr/explore/dataset/sanisettesparis/download/?format=csv&timezone=Europe/Berlin&lang=fr&use_labels_for_header=true&csv_separator=%3B\r\n"
      ],
      "execution_count": null,
      "outputs": []
    },
    {
      "cell_type": "code",
      "metadata": {
        "colab": {
          "base_uri": "https://localhost:8080/",
          "height": 486
        },
        "id": "NXoxYq-vDQlo",
        "outputId": "f0e4df0d-68d7-4f16-e2eb-cfb1a02b3b20"
      },
      "source": [
        "#Importer CSV to dataframe\r\n",
        "\r\n",
        "toilettes = pd.read_csv(\"toilettes.csv\", sep=';')\r\n",
        "toilettes.head()"
      ],
      "execution_count": 27,
      "outputs": [
        {
          "output_type": "execute_result",
          "data": {
            "text/html": [
              "<div>\n",
              "<style scoped>\n",
              "    .dataframe tbody tr th:only-of-type {\n",
              "        vertical-align: middle;\n",
              "    }\n",
              "\n",
              "    .dataframe tbody tr th {\n",
              "        vertical-align: top;\n",
              "    }\n",
              "\n",
              "    .dataframe thead th {\n",
              "        text-align: right;\n",
              "    }\n",
              "</style>\n",
              "<table border=\"1\" class=\"dataframe\">\n",
              "  <thead>\n",
              "    <tr style=\"text-align: right;\">\n",
              "      <th></th>\n",
              "      <th>type</th>\n",
              "      <th>statut</th>\n",
              "      <th>adresse</th>\n",
              "      <th>arrondissement</th>\n",
              "      <th>horaire</th>\n",
              "      <th>acces_pmr</th>\n",
              "      <th>relais_bebe</th>\n",
              "      <th>url_fiche_equipement</th>\n",
              "      <th>geo_shape</th>\n",
              "      <th>geo_point_2d</th>\n",
              "    </tr>\n",
              "  </thead>\n",
              "  <tbody>\n",
              "    <tr>\n",
              "      <th>0</th>\n",
              "      <td>SANISETTES</td>\n",
              "      <td>Fermé</td>\n",
              "      <td>88 AVENUE DU MAINE</td>\n",
              "      <td>14</td>\n",
              "      <td>6 h - 1 h</td>\n",
              "      <td>Oui</td>\n",
              "      <td>NaN</td>\n",
              "      <td>NaN</td>\n",
              "      <td>{\"type\": \"MultiPoint\", \"coordinates\": [[2.3223...</td>\n",
              "      <td>48.838110613,2.32233836205</td>\n",
              "    </tr>\n",
              "    <tr>\n",
              "      <th>1</th>\n",
              "      <td>SANISETTES</td>\n",
              "      <td>Fermé</td>\n",
              "      <td>RUE SAINT CHARLES</td>\n",
              "      <td>15</td>\n",
              "      <td>6 h - 22 h</td>\n",
              "      <td>Oui</td>\n",
              "      <td>NaN</td>\n",
              "      <td>NaN</td>\n",
              "      <td>{\"type\": \"MultiPoint\", \"coordinates\": [[2.2779...</td>\n",
              "      <td>48.838073563,2.27798287108</td>\n",
              "    </tr>\n",
              "    <tr>\n",
              "      <th>2</th>\n",
              "      <td>SANISETTES</td>\n",
              "      <td>Fermé</td>\n",
              "      <td>170 AVENUE DE VERSAILLES</td>\n",
              "      <td>16</td>\n",
              "      <td>6 h - 22 h</td>\n",
              "      <td>Oui</td>\n",
              "      <td>NaN</td>\n",
              "      <td>NaN</td>\n",
              "      <td>{\"type\": \"MultiPoint\", \"coordinates\": [[2.2630...</td>\n",
              "      <td>48.8398553812,2.26307814089</td>\n",
              "    </tr>\n",
              "    <tr>\n",
              "      <th>3</th>\n",
              "      <td>SANISETTES</td>\n",
              "      <td>Fermé</td>\n",
              "      <td>51 BOULEVARD GOUVION SAINT CYR</td>\n",
              "      <td>17</td>\n",
              "      <td>6 h - 22 h</td>\n",
              "      <td>Oui</td>\n",
              "      <td>NaN</td>\n",
              "      <td>NaN</td>\n",
              "      <td>{\"type\": \"MultiPoint\", \"coordinates\": [[2.2860...</td>\n",
              "      <td>48.881884193,2.28601752567</td>\n",
              "    </tr>\n",
              "    <tr>\n",
              "      <th>4</th>\n",
              "      <td>SANISETTES</td>\n",
              "      <td>Fermé</td>\n",
              "      <td>1 RUE SAINT BRUNO</td>\n",
              "      <td>18</td>\n",
              "      <td>24 h / 24</td>\n",
              "      <td>Oui</td>\n",
              "      <td>NaN</td>\n",
              "      <td>NaN</td>\n",
              "      <td>{\"type\": \"MultiPoint\", \"coordinates\": [[2.3562...</td>\n",
              "      <td>48.885957541,2.35627051059</td>\n",
              "    </tr>\n",
              "  </tbody>\n",
              "</table>\n",
              "</div>"
            ],
            "text/plain": [
              "         type  ...                 geo_point_2d\n",
              "0  SANISETTES  ...   48.838110613,2.32233836205\n",
              "1  SANISETTES  ...   48.838073563,2.27798287108\n",
              "2  SANISETTES  ...  48.8398553812,2.26307814089\n",
              "3  SANISETTES  ...   48.881884193,2.28601752567\n",
              "4  SANISETTES  ...   48.885957541,2.35627051059\n",
              "\n",
              "[5 rows x 10 columns]"
            ]
          },
          "metadata": {
            "tags": []
          },
          "execution_count": 27
        }
      ]
    },
    {
      "cell_type": "code",
      "metadata": {
        "colab": {
          "base_uri": "https://localhost:8080/",
          "height": 486
        },
        "id": "Q7w9dw08RGzY",
        "outputId": "317284b0-c5ce-40f5-eb9b-981ebf5f3d33"
      },
      "source": [
        "#Séparer la columne des coordonnées géographiques\r\n",
        "\r\n",
        "toilettes[['Latitude','Longitude']] = toilettes['geo_point_2d'].str.split(',', expand=True)\r\n",
        "toilettes.head()"
      ],
      "execution_count": 28,
      "outputs": [
        {
          "output_type": "execute_result",
          "data": {
            "text/html": [
              "<div>\n",
              "<style scoped>\n",
              "    .dataframe tbody tr th:only-of-type {\n",
              "        vertical-align: middle;\n",
              "    }\n",
              "\n",
              "    .dataframe tbody tr th {\n",
              "        vertical-align: top;\n",
              "    }\n",
              "\n",
              "    .dataframe thead th {\n",
              "        text-align: right;\n",
              "    }\n",
              "</style>\n",
              "<table border=\"1\" class=\"dataframe\">\n",
              "  <thead>\n",
              "    <tr style=\"text-align: right;\">\n",
              "      <th></th>\n",
              "      <th>type</th>\n",
              "      <th>statut</th>\n",
              "      <th>adresse</th>\n",
              "      <th>arrondissement</th>\n",
              "      <th>horaire</th>\n",
              "      <th>acces_pmr</th>\n",
              "      <th>relais_bebe</th>\n",
              "      <th>url_fiche_equipement</th>\n",
              "      <th>geo_shape</th>\n",
              "      <th>geo_point_2d</th>\n",
              "      <th>Latitude</th>\n",
              "      <th>Longitude</th>\n",
              "    </tr>\n",
              "  </thead>\n",
              "  <tbody>\n",
              "    <tr>\n",
              "      <th>0</th>\n",
              "      <td>SANISETTES</td>\n",
              "      <td>Fermé</td>\n",
              "      <td>88 AVENUE DU MAINE</td>\n",
              "      <td>14</td>\n",
              "      <td>6 h - 1 h</td>\n",
              "      <td>Oui</td>\n",
              "      <td>NaN</td>\n",
              "      <td>NaN</td>\n",
              "      <td>{\"type\": \"MultiPoint\", \"coordinates\": [[2.3223...</td>\n",
              "      <td>48.838110613,2.32233836205</td>\n",
              "      <td>48.838110613</td>\n",
              "      <td>2.32233836205</td>\n",
              "    </tr>\n",
              "    <tr>\n",
              "      <th>1</th>\n",
              "      <td>SANISETTES</td>\n",
              "      <td>Fermé</td>\n",
              "      <td>RUE SAINT CHARLES</td>\n",
              "      <td>15</td>\n",
              "      <td>6 h - 22 h</td>\n",
              "      <td>Oui</td>\n",
              "      <td>NaN</td>\n",
              "      <td>NaN</td>\n",
              "      <td>{\"type\": \"MultiPoint\", \"coordinates\": [[2.2779...</td>\n",
              "      <td>48.838073563,2.27798287108</td>\n",
              "      <td>48.838073563</td>\n",
              "      <td>2.27798287108</td>\n",
              "    </tr>\n",
              "    <tr>\n",
              "      <th>2</th>\n",
              "      <td>SANISETTES</td>\n",
              "      <td>Fermé</td>\n",
              "      <td>170 AVENUE DE VERSAILLES</td>\n",
              "      <td>16</td>\n",
              "      <td>6 h - 22 h</td>\n",
              "      <td>Oui</td>\n",
              "      <td>NaN</td>\n",
              "      <td>NaN</td>\n",
              "      <td>{\"type\": \"MultiPoint\", \"coordinates\": [[2.2630...</td>\n",
              "      <td>48.8398553812,2.26307814089</td>\n",
              "      <td>48.8398553812</td>\n",
              "      <td>2.26307814089</td>\n",
              "    </tr>\n",
              "    <tr>\n",
              "      <th>3</th>\n",
              "      <td>SANISETTES</td>\n",
              "      <td>Fermé</td>\n",
              "      <td>51 BOULEVARD GOUVION SAINT CYR</td>\n",
              "      <td>17</td>\n",
              "      <td>6 h - 22 h</td>\n",
              "      <td>Oui</td>\n",
              "      <td>NaN</td>\n",
              "      <td>NaN</td>\n",
              "      <td>{\"type\": \"MultiPoint\", \"coordinates\": [[2.2860...</td>\n",
              "      <td>48.881884193,2.28601752567</td>\n",
              "      <td>48.881884193</td>\n",
              "      <td>2.28601752567</td>\n",
              "    </tr>\n",
              "    <tr>\n",
              "      <th>4</th>\n",
              "      <td>SANISETTES</td>\n",
              "      <td>Fermé</td>\n",
              "      <td>1 RUE SAINT BRUNO</td>\n",
              "      <td>18</td>\n",
              "      <td>24 h / 24</td>\n",
              "      <td>Oui</td>\n",
              "      <td>NaN</td>\n",
              "      <td>NaN</td>\n",
              "      <td>{\"type\": \"MultiPoint\", \"coordinates\": [[2.3562...</td>\n",
              "      <td>48.885957541,2.35627051059</td>\n",
              "      <td>48.885957541</td>\n",
              "      <td>2.35627051059</td>\n",
              "    </tr>\n",
              "  </tbody>\n",
              "</table>\n",
              "</div>"
            ],
            "text/plain": [
              "         type statut  ...       Latitude      Longitude\n",
              "0  SANISETTES  Fermé  ...   48.838110613  2.32233836205\n",
              "1  SANISETTES  Fermé  ...   48.838073563  2.27798287108\n",
              "2  SANISETTES  Fermé  ...  48.8398553812  2.26307814089\n",
              "3  SANISETTES  Fermé  ...   48.881884193  2.28601752567\n",
              "4  SANISETTES  Fermé  ...   48.885957541  2.35627051059\n",
              "\n",
              "[5 rows x 12 columns]"
            ]
          },
          "metadata": {
            "tags": []
          },
          "execution_count": 28
        }
      ]
    },
    {
      "cell_type": "code",
      "metadata": {
        "colab": {
          "base_uri": "https://localhost:8080/",
          "height": 419
        },
        "id": "tn9SFWqIQlpg",
        "outputId": "624f01a3-0f2e-4673-f1d1-1d357307cf98"
      },
      "source": [
        "#Dataframe to GeoDataframe\r\n",
        "\r\n",
        "toilettes = gpd.GeoDataFrame(toilettes, crs = 'epsg:4326', geometry=gpd.points_from_xy(toilettes.Longitude, toilettes.Latitude))\r\n",
        "toilettes.plot(figsize=(10,12), markersize=1)"
      ],
      "execution_count": 29,
      "outputs": [
        {
          "output_type": "execute_result",
          "data": {
            "text/plain": [
              "<matplotlib.axes._subplots.AxesSubplot at 0x7ff978d6b950>"
            ]
          },
          "metadata": {
            "tags": []
          },
          "execution_count": 29
        },
        {
          "output_type": "display_data",
          "data": {
            "image/png": "[encoded data removed]",
            "text/plain": [
              "<Figure size 720x864 with 1 Axes>"
            ]
          },
          "metadata": {
            "tags": [],
            "needs_background": "light"
          }
        }
      ]
    },
    {
      "cell_type": "markdown",
      "metadata": {
        "id": "ko4DsErham8l"
      },
      "source": [
        "## Exercices autour du jeu de données des arbres\r\n"
      ]
    },
    {
      "cell_type": "markdown",
      "metadata": {
        "id": "y6D6c6Liey7i"
      },
      "source": [
        "\r\n",
        "URL : https://opendata.paris.fr/explore/dataset/les-arbres\r\n",
        "\r\n",
        "* Importer le dataset des arbres  \r\n",
        "* Compter le nombre d'abres\r\n",
        "* Restructurer le jeu de données (sélection de variables et renommage) > \"idbase\", \"domanialite\", \"arrondissement\", \"libellefrancais\", \"hauteurenm\", \"geo_point_2d\"\r\n",
        "* Proposer une visualisation du nb d'arbres par arrondissement\r\n",
        "* Proposer une visualisation du nb d'arbres par domanialité\r\n",
        "* Proposer une visualisation de la hauteur moyenne par type\r\n",
        "* Proposer une visualisation de la hauteur moyenne par arrondissement\r\n",
        "* Créer un géodataframe \r\n",
        "* Faire une carte avec uniquement les chênes, les erables et les frênes\r\n",
        "\r\n"
      ]
    },
    {
      "cell_type": "code",
      "metadata": {
        "colab": {
          "base_uri": "https://localhost:8080/",
          "height": 347
        },
        "id": "DrYCtEiJ8paS",
        "outputId": "23149223-24e6-4273-99ae-569b5ca8f408"
      },
      "source": [
        "#Importer CSV to dataframe\r\n",
        "\r\n",
        "arbres = pd.read_csv(\"arbres.csv\", sep=';')\r\n",
        "arbres.head()"
      ],
      "execution_count": 31,
      "outputs": [
        {
          "output_type": "execute_result",
          "data": {
            "text/html": [
              "<div>\n",
              "<style scoped>\n",
              "    .dataframe tbody tr th:only-of-type {\n",
              "        vertical-align: middle;\n",
              "    }\n",
              "\n",
              "    .dataframe tbody tr th {\n",
              "        vertical-align: top;\n",
              "    }\n",
              "\n",
              "    .dataframe thead th {\n",
              "        text-align: right;\n",
              "    }\n",
              "</style>\n",
              "<table border=\"1\" class=\"dataframe\">\n",
              "  <thead>\n",
              "    <tr style=\"text-align: right;\">\n",
              "      <th></th>\n",
              "      <th>idbase</th>\n",
              "      <th>typeemplacement</th>\n",
              "      <th>domanialite</th>\n",
              "      <th>arrondissement</th>\n",
              "      <th>complementadresse</th>\n",
              "      <th>numero</th>\n",
              "      <th>adresse</th>\n",
              "      <th>idemplacement</th>\n",
              "      <th>libellefrancais</th>\n",
              "      <th>genre</th>\n",
              "      <th>espece</th>\n",
              "      <th>varieteoucultivar</th>\n",
              "      <th>circonferenceencm</th>\n",
              "      <th>hauteurenm</th>\n",
              "      <th>stadedeveloppement</th>\n",
              "      <th>remarquable</th>\n",
              "      <th>geo_point_2d</th>\n",
              "    </tr>\n",
              "  </thead>\n",
              "  <tbody>\n",
              "    <tr>\n",
              "      <th>0</th>\n",
              "      <td>236865</td>\n",
              "      <td>Arbre</td>\n",
              "      <td>Alignement</td>\n",
              "      <td>PARIS 18E ARRDT</td>\n",
              "      <td>NaN</td>\n",
              "      <td>NaN</td>\n",
              "      <td>RUE BERNARD DIMEY</td>\n",
              "      <td>000202005</td>\n",
              "      <td>Cerisier à grappes</td>\n",
              "      <td>Prunus</td>\n",
              "      <td>padus</td>\n",
              "      <td>''Tiefurt''</td>\n",
              "      <td>20</td>\n",
              "      <td>5</td>\n",
              "      <td>NaN</td>\n",
              "      <td>NON</td>\n",
              "      <td>48.8970800881,2.33129044307</td>\n",
              "    </tr>\n",
              "    <tr>\n",
              "      <th>1</th>\n",
              "      <td>214956</td>\n",
              "      <td>Arbre</td>\n",
              "      <td>Alignement</td>\n",
              "      <td>PARIS 13E ARRDT</td>\n",
              "      <td>NaN</td>\n",
              "      <td>NaN</td>\n",
              "      <td>AVENUE DE FRANCE</td>\n",
              "      <td>000501016</td>\n",
              "      <td>Arbre aux quarante écus</td>\n",
              "      <td>Ginkgo</td>\n",
              "      <td>biloba</td>\n",
              "      <td>NaN</td>\n",
              "      <td>45</td>\n",
              "      <td>8</td>\n",
              "      <td>JA</td>\n",
              "      <td>NON</td>\n",
              "      <td>48.8301994313,2.37697518465</td>\n",
              "    </tr>\n",
              "    <tr>\n",
              "      <th>2</th>\n",
              "      <td>214399</td>\n",
              "      <td>Arbre</td>\n",
              "      <td>Alignement</td>\n",
              "      <td>PARIS 15E ARRDT</td>\n",
              "      <td>SN°</td>\n",
              "      <td>NaN</td>\n",
              "      <td>RUE LEBLANC</td>\n",
              "      <td>000602011</td>\n",
              "      <td>Poirier à fleurs</td>\n",
              "      <td>Pyrus</td>\n",
              "      <td>calleryana</td>\n",
              "      <td>''Chanticleer''</td>\n",
              "      <td>30</td>\n",
              "      <td>7</td>\n",
              "      <td>A</td>\n",
              "      <td>NON</td>\n",
              "      <td>48.8365129867,2.27971919875</td>\n",
              "    </tr>\n",
              "    <tr>\n",
              "      <th>3</th>\n",
              "      <td>232195</td>\n",
              "      <td>Arbre</td>\n",
              "      <td>Alignement</td>\n",
              "      <td>PARIS 17E ARRDT</td>\n",
              "      <td>NaN</td>\n",
              "      <td>NaN</td>\n",
              "      <td>BOULEVARD PEREIRE</td>\n",
              "      <td>001002003</td>\n",
              "      <td>Sophora</td>\n",
              "      <td>Sophora</td>\n",
              "      <td>japonica</td>\n",
              "      <td>NaN</td>\n",
              "      <td>184</td>\n",
              "      <td>17</td>\n",
              "      <td>M</td>\n",
              "      <td>NON</td>\n",
              "      <td>48.8808487215,2.28936083674</td>\n",
              "    </tr>\n",
              "    <tr>\n",
              "      <th>4</th>\n",
              "      <td>239639</td>\n",
              "      <td>Arbre</td>\n",
              "      <td>Alignement</td>\n",
              "      <td>PARIS 10E ARRDT</td>\n",
              "      <td>20</td>\n",
              "      <td>NaN</td>\n",
              "      <td>BOULEVARD DE MAGENTA</td>\n",
              "      <td>000202015</td>\n",
              "      <td>Orme</td>\n",
              "      <td>Ulmus</td>\n",
              "      <td>NaN</td>\n",
              "      <td>''Sapporo Autumn Gold'' RESISTA</td>\n",
              "      <td>63</td>\n",
              "      <td>12</td>\n",
              "      <td>A</td>\n",
              "      <td>NON</td>\n",
              "      <td>48.8699906691,2.36182643939</td>\n",
              "    </tr>\n",
              "  </tbody>\n",
              "</table>\n",
              "</div>"
            ],
            "text/plain": [
              "   idbase typeemplacement  ... remarquable                 geo_point_2d\n",
              "0  236865           Arbre  ...         NON  48.8970800881,2.33129044307\n",
              "1  214956           Arbre  ...         NON  48.8301994313,2.37697518465\n",
              "2  214399           Arbre  ...         NON  48.8365129867,2.27971919875\n",
              "3  232195           Arbre  ...         NON  48.8808487215,2.28936083674\n",
              "4  239639           Arbre  ...         NON  48.8699906691,2.36182643939\n",
              "\n",
              "[5 rows x 17 columns]"
            ]
          },
          "metadata": {
            "tags": []
          },
          "execution_count": 31
        }
      ]
    },
    {
      "cell_type": "code",
      "metadata": {
        "colab": {
          "base_uri": "https://localhost:8080/"
        },
        "id": "aEP3T5xT9CaE",
        "outputId": "46a8bf74-09b0-43a3-f144-fc4715f64377"
      },
      "source": [
        "#Compter le nombre d'arbres\r\n",
        "\r\n",
        "arbres['domanialite'].size"
      ],
      "execution_count": 32,
      "outputs": [
        {
          "output_type": "execute_result",
          "data": {
            "text/plain": [
              "204909"
            ]
          },
          "metadata": {
            "tags": []
          },
          "execution_count": 32
        }
      ]
    },
    {
      "cell_type": "code",
      "metadata": {
        "colab": {
          "base_uri": "https://localhost:8080/",
          "height": 206
        },
        "id": "qanwYKLUFiSn",
        "outputId": "85ad9afe-18cb-408f-ea05-eaf87962c3cc"
      },
      "source": [
        "#Réorganiser la table\r\n",
        "\r\n",
        "arbresok = arbres[[\"idbase\", \"domanialite\", \"arrondissement\", \"libellefrancais\", \"hauteurenm\", \"circonferenceencm\", \"remarquable\", \"geo_point_2d\"]]\r\n",
        "arbresok.head()"
      ],
      "execution_count": 63,
      "outputs": [
        {
          "output_type": "execute_result",
          "data": {
            "text/html": [
              "<div>\n",
              "<style scoped>\n",
              "    .dataframe tbody tr th:only-of-type {\n",
              "        vertical-align: middle;\n",
              "    }\n",
              "\n",
              "    .dataframe tbody tr th {\n",
              "        vertical-align: top;\n",
              "    }\n",
              "\n",
              "    .dataframe thead th {\n",
              "        text-align: right;\n",
              "    }\n",
              "</style>\n",
              "<table border=\"1\" class=\"dataframe\">\n",
              "  <thead>\n",
              "    <tr style=\"text-align: right;\">\n",
              "      <th></th>\n",
              "      <th>idbase</th>\n",
              "      <th>domanialite</th>\n",
              "      <th>arrondissement</th>\n",
              "      <th>libellefrancais</th>\n",
              "      <th>hauteurenm</th>\n",
              "      <th>circonferenceencm</th>\n",
              "      <th>remarquable</th>\n",
              "      <th>geo_point_2d</th>\n",
              "    </tr>\n",
              "  </thead>\n",
              "  <tbody>\n",
              "    <tr>\n",
              "      <th>0</th>\n",
              "      <td>236865</td>\n",
              "      <td>Alignement</td>\n",
              "      <td>PARIS 18E ARRDT</td>\n",
              "      <td>Cerisier à grappes</td>\n",
              "      <td>5</td>\n",
              "      <td>20</td>\n",
              "      <td>NON</td>\n",
              "      <td>48.8970800881,2.33129044307</td>\n",
              "    </tr>\n",
              "    <tr>\n",
              "      <th>1</th>\n",
              "      <td>214956</td>\n",
              "      <td>Alignement</td>\n",
              "      <td>PARIS 13E ARRDT</td>\n",
              "      <td>Arbre aux quarante écus</td>\n",
              "      <td>8</td>\n",
              "      <td>45</td>\n",
              "      <td>NON</td>\n",
              "      <td>48.8301994313,2.37697518465</td>\n",
              "    </tr>\n",
              "    <tr>\n",
              "      <th>2</th>\n",
              "      <td>214399</td>\n",
              "      <td>Alignement</td>\n",
              "      <td>PARIS 15E ARRDT</td>\n",
              "      <td>Poirier à fleurs</td>\n",
              "      <td>7</td>\n",
              "      <td>30</td>\n",
              "      <td>NON</td>\n",
              "      <td>48.8365129867,2.27971919875</td>\n",
              "    </tr>\n",
              "    <tr>\n",
              "      <th>3</th>\n",
              "      <td>232195</td>\n",
              "      <td>Alignement</td>\n",
              "      <td>PARIS 17E ARRDT</td>\n",
              "      <td>Sophora</td>\n",
              "      <td>17</td>\n",
              "      <td>184</td>\n",
              "      <td>NON</td>\n",
              "      <td>48.8808487215,2.28936083674</td>\n",
              "    </tr>\n",
              "    <tr>\n",
              "      <th>4</th>\n",
              "      <td>239639</td>\n",
              "      <td>Alignement</td>\n",
              "      <td>PARIS 10E ARRDT</td>\n",
              "      <td>Orme</td>\n",
              "      <td>12</td>\n",
              "      <td>63</td>\n",
              "      <td>NON</td>\n",
              "      <td>48.8699906691,2.36182643939</td>\n",
              "    </tr>\n",
              "  </tbody>\n",
              "</table>\n",
              "</div>"
            ],
            "text/plain": [
              "   idbase domanialite  ... remarquable                 geo_point_2d\n",
              "0  236865  Alignement  ...         NON  48.8970800881,2.33129044307\n",
              "1  214956  Alignement  ...         NON  48.8301994313,2.37697518465\n",
              "2  214399  Alignement  ...         NON  48.8365129867,2.27971919875\n",
              "3  232195  Alignement  ...         NON  48.8808487215,2.28936083674\n",
              "4  239639  Alignement  ...         NON  48.8699906691,2.36182643939\n",
              "\n",
              "[5 rows x 8 columns]"
            ]
          },
          "metadata": {
            "tags": []
          },
          "execution_count": 63
        }
      ]
    },
    {
      "cell_type": "code",
      "metadata": {
        "colab": {
          "base_uri": "https://localhost:8080/",
          "height": 299
        },
        "id": "rU4hoWhhFiSs",
        "outputId": "eb15523a-0abd-4807-80d7-aa5bde8a6e40"
      },
      "source": [
        "# Renommer les champs\r\n",
        "\r\n",
        "arbresok.rename(columns={'idbase': 'id','libellefrancais': 'type','hauteurenm': 'hauteur', 'circonferenceencm': 'circonference'}, inplace=True)\r\n",
        "arbresok.head()"
      ],
      "execution_count": 64,
      "outputs": [
        {
          "output_type": "stream",
          "text": [
            "/usr/local/lib/python3.7/dist-packages/pandas/core/frame.py:4308: SettingWithCopyWarning: \n",
            "A value is trying to be set on a copy of a slice from a DataFrame\n",
            "\n",
            "See the caveats in the documentation: https://pandas.pydata.org/pandas-docs/stable/user_guide/indexing.html#returning-a-view-versus-a-copy\n",
            "  errors=errors,\n"
          ],
          "name": "stderr"
        },
        {
          "output_type": "execute_result",
          "data": {
            "text/html": [
              "<div>\n",
              "<style scoped>\n",
              "    .dataframe tbody tr th:only-of-type {\n",
              "        vertical-align: middle;\n",
              "    }\n",
              "\n",
              "    .dataframe tbody tr th {\n",
              "        vertical-align: top;\n",
              "    }\n",
              "\n",
              "    .dataframe thead th {\n",
              "        text-align: right;\n",
              "    }\n",
              "</style>\n",
              "<table border=\"1\" class=\"dataframe\">\n",
              "  <thead>\n",
              "    <tr style=\"text-align: right;\">\n",
              "      <th></th>\n",
              "      <th>id</th>\n",
              "      <th>domanialite</th>\n",
              "      <th>arrondissement</th>\n",
              "      <th>type</th>\n",
              "      <th>hauteur</th>\n",
              "      <th>circonference</th>\n",
              "      <th>remarquable</th>\n",
              "      <th>geo_point_2d</th>\n",
              "    </tr>\n",
              "  </thead>\n",
              "  <tbody>\n",
              "    <tr>\n",
              "      <th>0</th>\n",
              "      <td>236865</td>\n",
              "      <td>Alignement</td>\n",
              "      <td>PARIS 18E ARRDT</td>\n",
              "      <td>Cerisier à grappes</td>\n",
              "      <td>5</td>\n",
              "      <td>20</td>\n",
              "      <td>NON</td>\n",
              "      <td>48.8970800881,2.33129044307</td>\n",
              "    </tr>\n",
              "    <tr>\n",
              "      <th>1</th>\n",
              "      <td>214956</td>\n",
              "      <td>Alignement</td>\n",
              "      <td>PARIS 13E ARRDT</td>\n",
              "      <td>Arbre aux quarante écus</td>\n",
              "      <td>8</td>\n",
              "      <td>45</td>\n",
              "      <td>NON</td>\n",
              "      <td>48.8301994313,2.37697518465</td>\n",
              "    </tr>\n",
              "    <tr>\n",
              "      <th>2</th>\n",
              "      <td>214399</td>\n",
              "      <td>Alignement</td>\n",
              "      <td>PARIS 15E ARRDT</td>\n",
              "      <td>Poirier à fleurs</td>\n",
              "      <td>7</td>\n",
              "      <td>30</td>\n",
              "      <td>NON</td>\n",
              "      <td>48.8365129867,2.27971919875</td>\n",
              "    </tr>\n",
              "    <tr>\n",
              "      <th>3</th>\n",
              "      <td>232195</td>\n",
              "      <td>Alignement</td>\n",
              "      <td>PARIS 17E ARRDT</td>\n",
              "      <td>Sophora</td>\n",
              "      <td>17</td>\n",
              "      <td>184</td>\n",
              "      <td>NON</td>\n",
              "      <td>48.8808487215,2.28936083674</td>\n",
              "    </tr>\n",
              "    <tr>\n",
              "      <th>4</th>\n",
              "      <td>239639</td>\n",
              "      <td>Alignement</td>\n",
              "      <td>PARIS 10E ARRDT</td>\n",
              "      <td>Orme</td>\n",
              "      <td>12</td>\n",
              "      <td>63</td>\n",
              "      <td>NON</td>\n",
              "      <td>48.8699906691,2.36182643939</td>\n",
              "    </tr>\n",
              "  </tbody>\n",
              "</table>\n",
              "</div>"
            ],
            "text/plain": [
              "       id domanialite  ... remarquable                 geo_point_2d\n",
              "0  236865  Alignement  ...         NON  48.8970800881,2.33129044307\n",
              "1  214956  Alignement  ...         NON  48.8301994313,2.37697518465\n",
              "2  214399  Alignement  ...         NON  48.8365129867,2.27971919875\n",
              "3  232195  Alignement  ...         NON  48.8808487215,2.28936083674\n",
              "4  239639  Alignement  ...         NON  48.8699906691,2.36182643939\n",
              "\n",
              "[5 rows x 8 columns]"
            ]
          },
          "metadata": {
            "tags": []
          },
          "execution_count": 64
        }
      ]
    },
    {
      "cell_type": "code",
      "metadata": {
        "colab": {
          "base_uri": "https://localhost:8080/",
          "height": 339
        },
        "id": "Wlwd6krkHLUM",
        "outputId": "a3a03894-cd65-4e16-fd36-efe3853bdb81"
      },
      "source": [
        "# Faire un histogramme de distribution des hauteurs des arbres\r\n",
        "\r\n",
        "arbresok.plot.hist(y='hauteur', figsize=(5, 5))"
      ],
      "execution_count": 65,
      "outputs": [
        {
          "output_type": "execute_result",
          "data": {
            "text/plain": [
              "<matplotlib.axes._subplots.AxesSubplot at 0x7ff971f84850>"
            ]
          },
          "metadata": {
            "tags": []
          },
          "execution_count": 65
        },
        {
          "output_type": "display_data",
          "data": {
            "image/png": "[encoded data removed]",
            "text/plain": [
              "<Figure size 360x360 with 1 Axes>"
            ]
          },
          "metadata": {
            "tags": [],
            "needs_background": "light"
          }
        }
      ]
    },
    {
      "cell_type": "code",
      "metadata": {
        "colab": {
          "base_uri": "https://localhost:8080/",
          "height": 339
        },
        "id": "yuP6slCSH2Ks",
        "outputId": "1714d196-9483-4f24-8ba2-963f61aed260"
      },
      "source": [
        "#Nettoyer le jeu de données des valeurs abérantes (moins de 30m)\r\n",
        "\r\n",
        "arbresclean = arbresok[(arbresok[\"hauteur\"] <=30)]\r\n",
        "arbresclean.plot.hist(y='hauteur', figsize=(10, 5), bins= 30, color = 'green', rwidth=0.8)"
      ],
      "execution_count": 66,
      "outputs": [
        {
          "output_type": "execute_result",
          "data": {
            "text/plain": [
              "<matplotlib.axes._subplots.AxesSubplot at 0x7ff971f408d0>"
            ]
          },
          "metadata": {
            "tags": []
          },
          "execution_count": 66
        },
        {
          "output_type": "display_data",
          "data": {
            "image/png": "[encoded data removed]",
            "text/plain": [
              "<Figure size 720x360 with 1 Axes>"
            ]
          },
          "metadata": {
            "tags": [],
            "needs_background": "light"
          }
        }
      ]
    },
    {
      "cell_type": "code",
      "metadata": {
        "colab": {
          "base_uri": "https://localhost:8080/",
          "height": 339
        },
        "id": "y460JoieJ7eY",
        "outputId": "3fda0444-e49b-49f1-d54e-ade68339d41e"
      },
      "source": [
        "# Faire un histogramme de distribution des circonférences des arbres\r\n",
        "\r\n",
        "arbresok.plot.hist(y='circonference', figsize=(5, 5))"
      ],
      "execution_count": 67,
      "outputs": [
        {
          "output_type": "execute_result",
          "data": {
            "text/plain": [
              "<matplotlib.axes._subplots.AxesSubplot at 0x7ff971e10e10>"
            ]
          },
          "metadata": {
            "tags": []
          },
          "execution_count": 67
        },
        {
          "output_type": "display_data",
          "data": {
            "image/png": "[encoded data removed]",
            "text/plain": [
              "<Figure size 360x360 with 1 Axes>"
            ]
          },
          "metadata": {
            "tags": [],
            "needs_background": "light"
          }
        }
      ]
    },
    {
      "cell_type": "code",
      "metadata": {
        "colab": {
          "base_uri": "https://localhost:8080/",
          "height": 339
        },
        "id": "VY1spEf7KBBZ",
        "outputId": "0aaafed4-a43b-4b93-9a4a-8c34b68a15da"
      },
      "source": [
        "#Nettoyer le jeu de données des valeurs abérantes (moins de 5m)\r\n",
        "\r\n",
        "arbresclean = arbresclean[(arbresclean[\"circonference\"] <=500)]\r\n",
        "arbresclean.plot.hist(y='circonference', figsize=(10, 5), bins= 30, color = 'orange', rwidth=0.8)"
      ],
      "execution_count": 68,
      "outputs": [
        {
          "output_type": "execute_result",
          "data": {
            "text/plain": [
              "<matplotlib.axes._subplots.AxesSubplot at 0x7ff98f2f6190>"
            ]
          },
          "metadata": {
            "tags": []
          },
          "execution_count": 68
        },
        {
          "output_type": "display_data",
          "data": {
            "image/png": "[encoded data removed]",
            "text/plain": [
              "<Figure size 720x360 with 1 Axes>"
            ]
          },
          "metadata": {
            "tags": [],
            "needs_background": "light"
          }
        }
      ]
    },
    {
      "cell_type": "code",
      "metadata": {
        "colab": {
          "base_uri": "https://localhost:8080/",
          "height": 353
        },
        "id": "VzJLRwZ5JZpi",
        "outputId": "caa5b424-530c-414b-e8db-fa74f737c429"
      },
      "source": [
        "# Faire un scatterplot qui met en relation la hauteur et la circonférence des arbres\r\n",
        "\r\n",
        "arbresclean.plot.scatter(x='hauteur', y =\"circonference\", figsize=(10, 5), s=0.3)"
      ],
      "execution_count": 77,
      "outputs": [
        {
          "output_type": "execute_result",
          "data": {
            "text/plain": [
              "<matplotlib.axes._subplots.AxesSubplot at 0x7ff97184e150>"
            ]
          },
          "metadata": {
            "tags": []
          },
          "execution_count": 77
        },
        {
          "output_type": "display_data",
          "data": {
            "image/png": "[encoded data removed]",
            "text/plain": [
              "<Figure size 720x360 with 1 Axes>"
            ]
          },
          "metadata": {
            "tags": [],
            "needs_background": "light"
          }
        }
      ]
    },
    {
      "cell_type": "code",
      "metadata": {
        "colab": {
          "base_uri": "https://localhost:8080/",
          "height": 661
        },
        "id": "7qDgfzyJ9Vyl",
        "outputId": "4bdb13b1-e325-4f42-db63-95eac5456e31"
      },
      "source": [
        "#Compter le nombre d'arbres par arrondissement\r\n",
        "\r\n",
        "ArbresARDT = arbresok[[\"arrondissement\", \"id\"]].groupby(\"arrondissement\").count()\r\n",
        "ArbresARDT.plot(figsize =(15,5), kind=\"bar\")\r\n",
        "plt.title(\"Nb d'arbres par Ardt\")\r\n",
        "plt.xlabel(\"Arrondissement\")\r\n",
        "plt.ylabel(\"Nb d'arbres\")\r\n",
        "ArbresARDT.head()\r\n"
      ],
      "execution_count": 78,
      "outputs": [
        {
          "output_type": "execute_result",
          "data": {
            "text/html": [
              "<div>\n",
              "<style scoped>\n",
              "    .dataframe tbody tr th:only-of-type {\n",
              "        vertical-align: middle;\n",
              "    }\n",
              "\n",
              "    .dataframe tbody tr th {\n",
              "        vertical-align: top;\n",
              "    }\n",
              "\n",
              "    .dataframe thead th {\n",
              "        text-align: right;\n",
              "    }\n",
              "</style>\n",
              "<table border=\"1\" class=\"dataframe\">\n",
              "  <thead>\n",
              "    <tr style=\"text-align: right;\">\n",
              "      <th></th>\n",
              "      <th>id</th>\n",
              "    </tr>\n",
              "    <tr>\n",
              "      <th>arrondissement</th>\n",
              "      <th></th>\n",
              "    </tr>\n",
              "  </thead>\n",
              "  <tbody>\n",
              "    <tr>\n",
              "      <th>BOIS DE BOULOGNE</th>\n",
              "      <td>4117</td>\n",
              "    </tr>\n",
              "    <tr>\n",
              "      <th>BOIS DE VINCENNES</th>\n",
              "      <td>11835</td>\n",
              "    </tr>\n",
              "    <tr>\n",
              "      <th>HAUTS-DE-SEINE</th>\n",
              "      <td>5417</td>\n",
              "    </tr>\n",
              "    <tr>\n",
              "      <th>PARIS 10E ARRDT</th>\n",
              "      <td>3408</td>\n",
              "    </tr>\n",
              "    <tr>\n",
              "      <th>PARIS 11E ARRDT</th>\n",
              "      <td>5908</td>\n",
              "    </tr>\n",
              "  </tbody>\n",
              "</table>\n",
              "</div>"
            ],
            "text/plain": [
              "                      id\n",
              "arrondissement          \n",
              "BOIS DE BOULOGNE    4117\n",
              "BOIS DE VINCENNES  11835\n",
              "HAUTS-DE-SEINE      5417\n",
              "PARIS 10E ARRDT     3408\n",
              "PARIS 11E ARRDT     5908"
            ]
          },
          "metadata": {
            "tags": []
          },
          "execution_count": 78
        },
        {
          "output_type": "display_data",
          "data": {
            "image/png": "[encoded data removed]",
            "text/plain": [
              "<Figure size 1080x360 with 1 Axes>"
            ]
          },
          "metadata": {
            "tags": [],
            "needs_background": "light"
          }
        }
      ]
    },
    {
      "cell_type": "code",
      "metadata": {
        "colab": {
          "base_uri": "https://localhost:8080/",
          "height": 633
        },
        "id": "qVNX0yqU-0pK",
        "outputId": "e9e9372c-4357-4f90-97ae-24f21f24b5e0"
      },
      "source": [
        "#Compter le nombre d'arbres par type de domanialité\r\n",
        "\r\n",
        "ArbresDomanialite = arbresok[[\"domanialite\", \"id\"]].groupby(\"domanialite\").count()\r\n",
        "ArbresDomanialite.plot(figsize =(15,5), kind=\"bar\")\r\n",
        "plt.title(\"Nb d'arbres par domanialité\")\r\n",
        "plt.xlabel(\"Domanialité\")\r\n",
        "plt.ylabel(\"Nb d'arbres\")\r\n",
        "ArbresDomanialite.head()"
      ],
      "execution_count": 79,
      "outputs": [
        {
          "output_type": "execute_result",
          "data": {
            "text/html": [
              "<div>\n",
              "<style scoped>\n",
              "    .dataframe tbody tr th:only-of-type {\n",
              "        vertical-align: middle;\n",
              "    }\n",
              "\n",
              "    .dataframe tbody tr th {\n",
              "        vertical-align: top;\n",
              "    }\n",
              "\n",
              "    .dataframe thead th {\n",
              "        text-align: right;\n",
              "    }\n",
              "</style>\n",
              "<table border=\"1\" class=\"dataframe\">\n",
              "  <thead>\n",
              "    <tr style=\"text-align: right;\">\n",
              "      <th></th>\n",
              "      <th>id</th>\n",
              "    </tr>\n",
              "    <tr>\n",
              "      <th>domanialite</th>\n",
              "      <th></th>\n",
              "    </tr>\n",
              "  </thead>\n",
              "  <tbody>\n",
              "    <tr>\n",
              "      <th>Alignement</th>\n",
              "      <td>106155</td>\n",
              "    </tr>\n",
              "    <tr>\n",
              "      <th>CIMETIERE</th>\n",
              "      <td>32161</td>\n",
              "    </tr>\n",
              "    <tr>\n",
              "      <th>DAC</th>\n",
              "      <td>27</td>\n",
              "    </tr>\n",
              "    <tr>\n",
              "      <th>DASCO</th>\n",
              "      <td>7204</td>\n",
              "    </tr>\n",
              "    <tr>\n",
              "      <th>DASES</th>\n",
              "      <td>11</td>\n",
              "    </tr>\n",
              "  </tbody>\n",
              "</table>\n",
              "</div>"
            ],
            "text/plain": [
              "                 id\n",
              "domanialite        \n",
              "Alignement   106155\n",
              "CIMETIERE     32161\n",
              "DAC              27\n",
              "DASCO          7204\n",
              "DASES            11"
            ]
          },
          "metadata": {
            "tags": []
          },
          "execution_count": 79
        },
        {
          "output_type": "display_data",
          "data": {
            "image/png": "[encoded data removed]",
            "text/plain": [
              "<Figure size 1080x360 with 1 Axes>"
            ]
          },
          "metadata": {
            "tags": [],
            "needs_background": "light"
          }
        }
      ]
    },
    {
      "cell_type": "code",
      "metadata": {
        "colab": {
          "base_uri": "https://localhost:8080/",
          "height": 706
        },
        "id": "LIx7UgckHDRo",
        "outputId": "004ec717-2bd1-4648-fd01-8bb6d2ec92d6"
      },
      "source": [
        "# Calculer la hauteur moyenne des arbres par type d'arbres\r\n",
        "\r\n",
        "HauteurType = arbresok[[\"type\", \"hauteur\"]].groupby(\"type\").mean()\r\n",
        "HauteurType.plot(figsize =(15,5), kind=\"bar\")\r\n",
        "plt.xlabel(\"Type\")\r\n",
        "plt.ylabel(\"hauteur moyenne\")\r\n",
        "HauteurType.head()"
      ],
      "execution_count": 80,
      "outputs": [
        {
          "output_type": "execute_result",
          "data": {
            "text/html": [
              "<div>\n",
              "<style scoped>\n",
              "    .dataframe tbody tr th:only-of-type {\n",
              "        vertical-align: middle;\n",
              "    }\n",
              "\n",
              "    .dataframe tbody tr th {\n",
              "        vertical-align: top;\n",
              "    }\n",
              "\n",
              "    .dataframe thead th {\n",
              "        text-align: right;\n",
              "    }\n",
              "</style>\n",
              "<table border=\"1\" class=\"dataframe\">\n",
              "  <thead>\n",
              "    <tr style=\"text-align: right;\">\n",
              "      <th></th>\n",
              "      <th>hauteur</th>\n",
              "    </tr>\n",
              "    <tr>\n",
              "      <th>type</th>\n",
              "      <th></th>\n",
              "    </tr>\n",
              "  </thead>\n",
              "  <tbody>\n",
              "    <tr>\n",
              "      <th>Abelia</th>\n",
              "      <td>5.500000</td>\n",
              "    </tr>\n",
              "    <tr>\n",
              "      <th>Abricotier</th>\n",
              "      <td>2.379310</td>\n",
              "    </tr>\n",
              "    <tr>\n",
              "      <th>Abricotier fruit</th>\n",
              "      <td>2.000000</td>\n",
              "    </tr>\n",
              "    <tr>\n",
              "      <th>Ailante</th>\n",
              "      <td>8.520373</td>\n",
              "    </tr>\n",
              "    <tr>\n",
              "      <th>Alangium</th>\n",
              "      <td>2.333333</td>\n",
              "    </tr>\n",
              "  </tbody>\n",
              "</table>\n",
              "</div>"
            ],
            "text/plain": [
              "                   hauteur\n",
              "type                      \n",
              "Abelia            5.500000\n",
              "Abricotier        2.379310\n",
              "Abricotier fruit  2.000000\n",
              "Ailante           8.520373\n",
              "Alangium          2.333333"
            ]
          },
          "metadata": {
            "tags": []
          },
          "execution_count": 80
        },
        {
          "output_type": "display_data",
          "data": {
            "image/png": "[encoded data removed]",
            "text/plain": [
              "<Figure size 1080x360 with 1 Axes>"
            ]
          },
          "metadata": {
            "tags": [],
            "needs_background": "light"
          }
        }
      ]
    },
    {
      "cell_type": "code",
      "metadata": {
        "colab": {
          "base_uri": "https://localhost:8080/",
          "height": 649
        },
        "id": "WNjFYAGFHdA2",
        "outputId": "372b6bf3-078c-414e-eca1-9cb3d0cf7ac7"
      },
      "source": [
        "# Calculer la hauteur moyenne des arbres par ardt\r\n",
        "\r\n",
        "HauteurType = arbresok[[\"arrondissement\", \"hauteur\"]].groupby(\"arrondissement\").mean()\r\n",
        "HauteurType.plot(figsize =(15,5), kind=\"bar\")\r\n",
        "plt.xlabel(\"Type\")\r\n",
        "plt.ylabel(\"hauteur moyenne\")\r\n",
        "HauteurType.head()"
      ],
      "execution_count": 81,
      "outputs": [
        {
          "output_type": "execute_result",
          "data": {
            "text/html": [
              "<div>\n",
              "<style scoped>\n",
              "    .dataframe tbody tr th:only-of-type {\n",
              "        vertical-align: middle;\n",
              "    }\n",
              "\n",
              "    .dataframe tbody tr th {\n",
              "        vertical-align: top;\n",
              "    }\n",
              "\n",
              "    .dataframe thead th {\n",
              "        text-align: right;\n",
              "    }\n",
              "</style>\n",
              "<table border=\"1\" class=\"dataframe\">\n",
              "  <thead>\n",
              "    <tr style=\"text-align: right;\">\n",
              "      <th></th>\n",
              "      <th>hauteur</th>\n",
              "    </tr>\n",
              "    <tr>\n",
              "      <th>arrondissement</th>\n",
              "      <th></th>\n",
              "    </tr>\n",
              "  </thead>\n",
              "  <tbody>\n",
              "    <tr>\n",
              "      <th>BOIS DE BOULOGNE</th>\n",
              "      <td>13.334224</td>\n",
              "    </tr>\n",
              "    <tr>\n",
              "      <th>BOIS DE VINCENNES</th>\n",
              "      <td>9.467596</td>\n",
              "    </tr>\n",
              "    <tr>\n",
              "      <th>HAUTS-DE-SEINE</th>\n",
              "      <td>2.106147</td>\n",
              "    </tr>\n",
              "    <tr>\n",
              "      <th>PARIS 10E ARRDT</th>\n",
              "      <td>10.675176</td>\n",
              "    </tr>\n",
              "    <tr>\n",
              "      <th>PARIS 11E ARRDT</th>\n",
              "      <td>10.854096</td>\n",
              "    </tr>\n",
              "  </tbody>\n",
              "</table>\n",
              "</div>"
            ],
            "text/plain": [
              "                     hauteur\n",
              "arrondissement              \n",
              "BOIS DE BOULOGNE   13.334224\n",
              "BOIS DE VINCENNES   9.467596\n",
              "HAUTS-DE-SEINE      2.106147\n",
              "PARIS 10E ARRDT    10.675176\n",
              "PARIS 11E ARRDT    10.854096"
            ]
          },
          "metadata": {
            "tags": []
          },
          "execution_count": 81
        },
        {
          "output_type": "display_data",
          "data": {
            "image/png": "[encoded data removed]",
            "text/plain": [
              "<Figure size 1080x360 with 1 Axes>"
            ]
          },
          "metadata": {
            "tags": [],
            "needs_background": "light"
          }
        }
      ]
    },
    {
      "cell_type": "code",
      "metadata": {
        "colab": {
          "base_uri": "https://localhost:8080/",
          "height": 422
        },
        "id": "veFoYcu8Aqo_",
        "outputId": "51fc9998-af2e-4397-84e4-923c5f2ac385"
      },
      "source": [
        "#Séparer la colonne des coordonnées géographiques\r\n",
        "\r\n",
        "arbresok[['Latitude','Longitude']] = arbresok['geo_point_2d'].str.split(',', expand=True)\r\n",
        "arbresok.head()\r\n"
      ],
      "execution_count": 82,
      "outputs": [
        {
          "output_type": "stream",
          "text": [
            "/usr/local/lib/python3.7/dist-packages/pandas/core/frame.py:3069: SettingWithCopyWarning: \n",
            "A value is trying to be set on a copy of a slice from a DataFrame.\n",
            "Try using .loc[row_indexer,col_indexer] = value instead\n",
            "\n",
            "See the caveats in the documentation: https://pandas.pydata.org/pandas-docs/stable/user_guide/indexing.html#returning-a-view-versus-a-copy\n",
            "  self[k1] = value[k2]\n"
          ],
          "name": "stderr"
        },
        {
          "output_type": "execute_result",
          "data": {
            "text/html": [
              "<div>\n",
              "<style scoped>\n",
              "    .dataframe tbody tr th:only-of-type {\n",
              "        vertical-align: middle;\n",
              "    }\n",
              "\n",
              "    .dataframe tbody tr th {\n",
              "        vertical-align: top;\n",
              "    }\n",
              "\n",
              "    .dataframe thead th {\n",
              "        text-align: right;\n",
              "    }\n",
              "</style>\n",
              "<table border=\"1\" class=\"dataframe\">\n",
              "  <thead>\n",
              "    <tr style=\"text-align: right;\">\n",
              "      <th></th>\n",
              "      <th>id</th>\n",
              "      <th>domanialite</th>\n",
              "      <th>arrondissement</th>\n",
              "      <th>type</th>\n",
              "      <th>hauteur</th>\n",
              "      <th>circonference</th>\n",
              "      <th>remarquable</th>\n",
              "      <th>geo_point_2d</th>\n",
              "      <th>Latitude</th>\n",
              "      <th>Longitude</th>\n",
              "    </tr>\n",
              "  </thead>\n",
              "  <tbody>\n",
              "    <tr>\n",
              "      <th>0</th>\n",
              "      <td>236865</td>\n",
              "      <td>Alignement</td>\n",
              "      <td>PARIS 18E ARRDT</td>\n",
              "      <td>Cerisier à grappes</td>\n",
              "      <td>5</td>\n",
              "      <td>20</td>\n",
              "      <td>NON</td>\n",
              "      <td>48.8970800881,2.33129044307</td>\n",
              "      <td>48.8970800881</td>\n",
              "      <td>2.33129044307</td>\n",
              "    </tr>\n",
              "    <tr>\n",
              "      <th>1</th>\n",
              "      <td>214956</td>\n",
              "      <td>Alignement</td>\n",
              "      <td>PARIS 13E ARRDT</td>\n",
              "      <td>Arbre aux quarante écus</td>\n",
              "      <td>8</td>\n",
              "      <td>45</td>\n",
              "      <td>NON</td>\n",
              "      <td>48.8301994313,2.37697518465</td>\n",
              "      <td>48.8301994313</td>\n",
              "      <td>2.37697518465</td>\n",
              "    </tr>\n",
              "    <tr>\n",
              "      <th>2</th>\n",
              "      <td>214399</td>\n",
              "      <td>Alignement</td>\n",
              "      <td>PARIS 15E ARRDT</td>\n",
              "      <td>Poirier à fleurs</td>\n",
              "      <td>7</td>\n",
              "      <td>30</td>\n",
              "      <td>NON</td>\n",
              "      <td>48.8365129867,2.27971919875</td>\n",
              "      <td>48.8365129867</td>\n",
              "      <td>2.27971919875</td>\n",
              "    </tr>\n",
              "    <tr>\n",
              "      <th>3</th>\n",
              "      <td>232195</td>\n",
              "      <td>Alignement</td>\n",
              "      <td>PARIS 17E ARRDT</td>\n",
              "      <td>Sophora</td>\n",
              "      <td>17</td>\n",
              "      <td>184</td>\n",
              "      <td>NON</td>\n",
              "      <td>48.8808487215,2.28936083674</td>\n",
              "      <td>48.8808487215</td>\n",
              "      <td>2.28936083674</td>\n",
              "    </tr>\n",
              "    <tr>\n",
              "      <th>4</th>\n",
              "      <td>239639</td>\n",
              "      <td>Alignement</td>\n",
              "      <td>PARIS 10E ARRDT</td>\n",
              "      <td>Orme</td>\n",
              "      <td>12</td>\n",
              "      <td>63</td>\n",
              "      <td>NON</td>\n",
              "      <td>48.8699906691,2.36182643939</td>\n",
              "      <td>48.8699906691</td>\n",
              "      <td>2.36182643939</td>\n",
              "    </tr>\n",
              "  </tbody>\n",
              "</table>\n",
              "</div>"
            ],
            "text/plain": [
              "       id domanialite  ...       Latitude      Longitude\n",
              "0  236865  Alignement  ...  48.8970800881  2.33129044307\n",
              "1  214956  Alignement  ...  48.8301994313  2.37697518465\n",
              "2  214399  Alignement  ...  48.8365129867  2.27971919875\n",
              "3  232195  Alignement  ...  48.8808487215  2.28936083674\n",
              "4  239639  Alignement  ...  48.8699906691  2.36182643939\n",
              "\n",
              "[5 rows x 10 columns]"
            ]
          },
          "metadata": {
            "tags": []
          },
          "execution_count": 82
        }
      ]
    },
    {
      "cell_type": "code",
      "metadata": {
        "colab": {
          "base_uri": "https://localhost:8080/",
          "height": 206
        },
        "id": "5NmIBLoLIGDk",
        "outputId": "3b205cbe-8163-45c3-e8b6-13637f12dd80"
      },
      "source": [
        "# Ne garder que les chênes, les Erables et les  Frênes\r\n",
        "\r\n",
        "Arbresselect = arbresok[(arbresok[\"type\"] == 'Chêne') | (arbresok[\"type\"] == 'Erable')| (arbresok[\"type\"] == 'Frêne')]\r\n",
        "Arbresselect.head()"
      ],
      "execution_count": 83,
      "outputs": [
        {
          "output_type": "execute_result",
          "data": {
            "text/html": [
              "<div>\n",
              "<style scoped>\n",
              "    .dataframe tbody tr th:only-of-type {\n",
              "        vertical-align: middle;\n",
              "    }\n",
              "\n",
              "    .dataframe tbody tr th {\n",
              "        vertical-align: top;\n",
              "    }\n",
              "\n",
              "    .dataframe thead th {\n",
              "        text-align: right;\n",
              "    }\n",
              "</style>\n",
              "<table border=\"1\" class=\"dataframe\">\n",
              "  <thead>\n",
              "    <tr style=\"text-align: right;\">\n",
              "      <th></th>\n",
              "      <th>id</th>\n",
              "      <th>domanialite</th>\n",
              "      <th>arrondissement</th>\n",
              "      <th>type</th>\n",
              "      <th>hauteur</th>\n",
              "      <th>circonference</th>\n",
              "      <th>remarquable</th>\n",
              "      <th>geo_point_2d</th>\n",
              "      <th>Latitude</th>\n",
              "      <th>Longitude</th>\n",
              "    </tr>\n",
              "  </thead>\n",
              "  <tbody>\n",
              "    <tr>\n",
              "      <th>11</th>\n",
              "      <td>250957</td>\n",
              "      <td>Alignement</td>\n",
              "      <td>PARIS 15E ARRDT</td>\n",
              "      <td>Frêne</td>\n",
              "      <td>6</td>\n",
              "      <td>25</td>\n",
              "      <td>NON</td>\n",
              "      <td>48.840880042,2.28718855814</td>\n",
              "      <td>48.840880042</td>\n",
              "      <td>2.28718855814</td>\n",
              "    </tr>\n",
              "    <tr>\n",
              "      <th>12</th>\n",
              "      <td>2021352</td>\n",
              "      <td>Alignement</td>\n",
              "      <td>PARIS 20E ARRDT</td>\n",
              "      <td>Erable</td>\n",
              "      <td>5</td>\n",
              "      <td>20</td>\n",
              "      <td>NON</td>\n",
              "      <td>48.869346584,2.41080601218</td>\n",
              "      <td>48.869346584</td>\n",
              "      <td>2.41080601218</td>\n",
              "    </tr>\n",
              "    <tr>\n",
              "      <th>13</th>\n",
              "      <td>166134</td>\n",
              "      <td>CIMETIERE</td>\n",
              "      <td>SEINE-SAINT-DENIS</td>\n",
              "      <td>Chêne</td>\n",
              "      <td>5</td>\n",
              "      <td>20</td>\n",
              "      <td>NON</td>\n",
              "      <td>48.906225365,2.41871937323</td>\n",
              "      <td>48.906225365</td>\n",
              "      <td>2.41871937323</td>\n",
              "    </tr>\n",
              "    <tr>\n",
              "      <th>23</th>\n",
              "      <td>242954</td>\n",
              "      <td>Alignement</td>\n",
              "      <td>PARIS 19E ARRDT</td>\n",
              "      <td>Erable</td>\n",
              "      <td>5</td>\n",
              "      <td>50</td>\n",
              "      <td>NON</td>\n",
              "      <td>48.8908881658,2.37448064504</td>\n",
              "      <td>48.8908881658</td>\n",
              "      <td>2.37448064504</td>\n",
              "    </tr>\n",
              "    <tr>\n",
              "      <th>25</th>\n",
              "      <td>2015120</td>\n",
              "      <td>Jardin</td>\n",
              "      <td>BOIS DE VINCENNES</td>\n",
              "      <td>Erable</td>\n",
              "      <td>0</td>\n",
              "      <td>0</td>\n",
              "      <td>NON</td>\n",
              "      <td>48.838198172,2.44767969144</td>\n",
              "      <td>48.838198172</td>\n",
              "      <td>2.44767969144</td>\n",
              "    </tr>\n",
              "  </tbody>\n",
              "</table>\n",
              "</div>"
            ],
            "text/plain": [
              "         id domanialite  ...       Latitude      Longitude\n",
              "11   250957  Alignement  ...   48.840880042  2.28718855814\n",
              "12  2021352  Alignement  ...   48.869346584  2.41080601218\n",
              "13   166134   CIMETIERE  ...   48.906225365  2.41871937323\n",
              "23   242954  Alignement  ...  48.8908881658  2.37448064504\n",
              "25  2015120      Jardin  ...   48.838198172  2.44767969144\n",
              "\n",
              "[5 rows x 10 columns]"
            ]
          },
          "metadata": {
            "tags": []
          },
          "execution_count": 83
        }
      ]
    },
    {
      "cell_type": "code",
      "metadata": {
        "colab": {
          "base_uri": "https://localhost:8080/",
          "height": 340
        },
        "id": "Mkn61lE9L3LV",
        "outputId": "cf218158-88f3-4077-84ea-b4362383bc3c"
      },
      "source": [
        "# Visualisation (pie)\r\n",
        "\r\n",
        "les3arbres = Arbresselect[[\"type\", \"id\"]].groupby(\"type\").count()\r\n",
        "les3arbres.plot.pie(y='id', figsize=(5, 5), subplots=True)"
      ],
      "execution_count": 84,
      "outputs": [
        {
          "output_type": "execute_result",
          "data": {
            "text/plain": [
              "array([<matplotlib.axes._subplots.AxesSubplot object at 0x7ff96f9560d0>],\n",
              "      dtype=object)"
            ]
          },
          "metadata": {
            "tags": []
          },
          "execution_count": 84
        },
        {
          "output_type": "display_data",
          "data": {
            "image/png": "[encoded data removed]",
            "text/plain": [
              "<Figure size 360x360 with 1 Axes>"
            ]
          },
          "metadata": {
            "tags": []
          }
        }
      ]
    },
    {
      "cell_type": "code",
      "metadata": {
        "colab": {
          "base_uri": "https://localhost:8080/",
          "height": 697
        },
        "id": "bh846HvMA-Y9",
        "outputId": "222ddf39-e159-41bf-ebd6-42adefddb8f6"
      },
      "source": [
        "#Dataframe to GeoDataframe\r\n",
        "\r\n",
        "Arbresselect = gpd.GeoDataFrame(Arbresselect, crs = 'epsg:4326', geometry=gpd.points_from_xy(Arbresselect.Longitude, Arbresselect.Latitude))\r\n",
        "Arbresselect.plot(figsize=(10,12), markersize=0.2, column = \"type\", legend = 'true')"
      ],
      "execution_count": 85,
      "outputs": [
        {
          "output_type": "execute_result",
          "data": {
            "text/plain": [
              "<matplotlib.axes._subplots.AxesSubplot at 0x7ff971c44450>"
            ]
          },
          "metadata": {
            "tags": []
          },
          "execution_count": 85
        },
        {
          "output_type": "display_data",
          "data": {
            "image/png": "[encoded data removed]",
            "text/plain": [
              "<Figure size 720x864 with 1 Axes>"
            ]
          },
          "metadata": {
            "tags": [],
            "needs_background": "light"
          }
        }
      ]
    }
  ]
}
